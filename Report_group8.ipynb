{
 "cells": [
  {
   "cell_type": "markdown",
   "metadata": {},
   "source": [
    "# <center>Acme Credit Reports: Risk Model for Rent Arrears</center>\n",
    "## <center>July 2019</center>\n",
    "### Group 8: Karthikeyan Arunachalam, Jan Baalmann, Rylan Mascarenhas, Fay Korkontzelou, Dimitra Spyridonidou"
   ]
  },
  {
   "cell_type": "markdown",
   "metadata": {},
   "source": [
    "## Table of Contents  \n",
    "\n",
    "* Context and Purpose\n",
    "* Data  \n",
    "* Definining Categorical Output  \n",
    "* Fetaure Variables\n",
    "* Objective 1\n",
    "* Ojective 2\n",
    "* Objective 3 & 4\n",
    "* Summary of Findings  \n",
    "* Recommendations  \n",
    "* Considerations / Limitations\n",
    "* References"
   ]
  },
  {
   "cell_type": "markdown",
   "metadata": {},
   "source": [
    "## Context and Purpose \n",
    "\n",
    "The goal of the report is to devise a more efficient, targeted strategy to detect and prioritise tenants at risk for falling into arrears for a rental housing association in the US.  \n",
    "  \n",
    "The purpose of this report is to come up with an effective way to identify risky arrear cases and therefore intervene proactively to support tenants. The purpose can be broken up in the following high-level objectives:  \n",
    "* Differentiate between tenants who are likely to fall into long-term arrear vs those who are able to repay in full\n",
    "* Understand which factors have stronger predictive power and could be used as early warning indicators\n",
    "* Create risk rating approach to score individuals including differentiation between short_term and long-term arrears\n",
    "* Test and compare different models and analyses performance to conclude on the appropriate strategy\n",
    "* Translate findings into digestible and actionable insights for the housing association  "
   ]
  },
  {
   "cell_type": "markdown",
   "metadata": {},
   "source": [
    "## Data  \n",
    "\n",
    "The data provided consists of rental payment transactions recorded by a housing association in the US. The dataset contains the following information:\n",
    "\n",
    "\n",
    "| Column name | Description |\n",
    "| --- | --- |\n",
    "| name | First and last name of the consumer |\n",
    "| house_id | A key representing a single rental property |\n",
    "| house_zip | The 5-digit zip code of the rental property (US zip codes) |\n",
    "| rent_amount | Amount of rent due |\n",
    "| payment_date | The date that the rental transcation was made |\n",
    "| dob | The date the consumer was born |\n",
    "| payment_amount | The amount of rent that was actually paid but the consumer |\n"
   ]
  },
  {
   "cell_type": "markdown",
   "metadata": {},
   "source": [
    "When exploring the dataset in detail a number of issues where found and the dataset was cleaned based on several assumptions as detailed below. The full data cleansing exercise undertool can be found in Appendex A.  \n",
    "\n",
    "### payment_amount\n",
    "\n",
    "__Issues Identified:__  \n",
    "* 528 missing values for the payment amount\n",
    "* 5997 instances where the payment amount exceeds the rent amount\n",
    "* 558 instances where the the tenant has made a payment smaller than the rent amount, and that amount is a negative value  \n",
    "  \n",
    "__Assumptions:__  \n",
    "* Since there are no values in 'payment_amount' that equal zero, we assume that a blank entry represent that no payment was made. We will hence replace of null values in 'payment_amount' with zero.\n",
    "* We assume that in the cases where the payment amount exceeds the monthly rent due, the tenant is trying to repay an existing debt, and hence the debt is reduced by that surplus in the payment\n",
    "* There are two ways to interpret the negative values in 'payment_amount'; either as the shortage from the rent amount that is due or as the amount that was actually paid in which case the minus sign is an error in the data. Based on the above analysis, we decide to go with the first case and hence we will transform all negative values be taking the sum of the shortage and respective rent due to derive the amount that was paid. We are able to make this assumption only due to the consistency in the way the negative values are entered. Having said that, this assumption about data entry is made only for the case where less, but not null, rent was paid. We are not saying that where the correct rent amount is paid, the value in 'payment_amount' should be 0 or that positive payment amounts should be interpreted as the suplus on top of the rent due."
   ]
  },
  {
   "cell_type": "markdown",
   "metadata": {},
   "source": [
    "### dob  \n",
    "\n",
    "__Issues Identified:__  \n",
    "  \n",
    "\n",
    "Date of births for tenants in the time period 2010-2012 are from 1900 to 2068 which a clear indication of presence of incorrect entries. More specifically:\n",
    "* Large amount of tenants with 'dob' in 01/01/1900 and 01/01/2000. Neither of these dates of birth are likely as the tenant would have been 110 and 10 years old respectively in 2010.\n",
    "* For several tenants the date of birth is after 2012, which is clearly an error\n",
    "* For several tenants the date of birth is less than 18 years before 2010\n",
    "* There are 14725 rows in the dataset where the dob is missing  \n",
    "  \n",
    "__Assumptions:__\n",
    "* Birth dates in 1900 will be considered an error and will be replaced with null. When a date is entered in the wrong format in excel, for example just one number is entered, excel changes the date to a date in 1900. Following the same logic, we assume this is an error in data entry and dob will be assumed unknown, thus null.\n",
    "* We assume that a reasonable age range for tenants to be paying rent is 18-90 years old from the date of their first payment. For example, if a person has been paying rent since 2010, we will only accept dob between the years 1930-1992.\n",
    "* For dates of birth that are after the accepted period there are two cases. Firstly. dates that are after 2030, will be considered a typing error and will be changed to 1930 and so on. Secondly, the remaining dates that are not accepted in the above mentioned period, will be assumed uknown and replaced with null."
   ]
  },
  {
   "cell_type": "markdown",
   "metadata": {},
   "source": [
    "### payment_date\n",
    "\n",
    "__Issues Identified:__  \n",
    "* Some of dates have been inputted as in YDM date format and some in YMD format. Consequently, some tenants appear to be making 12 payments per month, whereas it is highly likely that they made 1 payment per month, on the same day of the month, for 12 consequtive months.\n",
    "\n",
    "__Assumptions:__  \n",
    "* Based on close examination of the cases where there are more than one payments per month, we assume that 'payment_date' dates are in YMD format when the maximum number of monthly rent payments is equal to 1 unless the day of payment is larger than 12. In all other cases, date will be assumed to be in YDM format and will be transformed to YMD."
   ]
  },
  {
   "cell_type": "markdown",
   "metadata": {},
   "source": [
    "**<font color=red>Appedix notebook should be run first as it cleans the file that is used in the main report</font>**"
   ]
  },
  {
   "cell_type": "markdown",
   "metadata": {},
   "source": [
    "## Defining Categorical Output"
   ]
  },
  {
   "cell_type": "code",
   "execution_count": 2,
   "metadata": {},
   "outputs": [
    {
     "data": {
      "text/html": [
       "<div>\n",
       "<style scoped>\n",
       "    .dataframe tbody tr th:only-of-type {\n",
       "        vertical-align: middle;\n",
       "    }\n",
       "\n",
       "    .dataframe tbody tr th {\n",
       "        vertical-align: top;\n",
       "    }\n",
       "\n",
       "    .dataframe thead th {\n",
       "        text-align: right;\n",
       "    }\n",
       "</style>\n",
       "<table border=\"1\" class=\"dataframe\">\n",
       "  <thead>\n",
       "    <tr style=\"text-align: right;\">\n",
       "      <th></th>\n",
       "      <th>name</th>\n",
       "      <th>house_id</th>\n",
       "      <th>house_zip</th>\n",
       "      <th>rent_amount</th>\n",
       "      <th>dob</th>\n",
       "      <th>payment_amount</th>\n",
       "      <th>payment_date_clean</th>\n",
       "      <th>arrear</th>\n",
       "    </tr>\n",
       "  </thead>\n",
       "  <tbody>\n",
       "    <tr>\n",
       "      <th>12161</th>\n",
       "      <td>Nakia Vickery</td>\n",
       "      <td>1747</td>\n",
       "      <td>92154</td>\n",
       "      <td>1439.0</td>\n",
       "      <td>1981.0</td>\n",
       "      <td>1439.0</td>\n",
       "      <td>2010-01-02</td>\n",
       "      <td>0.0</td>\n",
       "    </tr>\n",
       "    <tr>\n",
       "      <th>12188</th>\n",
       "      <td>Nana Rousey</td>\n",
       "      <td>1750</td>\n",
       "      <td>92129</td>\n",
       "      <td>1600.0</td>\n",
       "      <td>1964.0</td>\n",
       "      <td>1600.0</td>\n",
       "      <td>2010-01-02</td>\n",
       "      <td>0.0</td>\n",
       "    </tr>\n",
       "    <tr>\n",
       "      <th>12202</th>\n",
       "      <td>Yer Avey</td>\n",
       "      <td>2448</td>\n",
       "      <td>92153</td>\n",
       "      <td>1009.0</td>\n",
       "      <td>1981.0</td>\n",
       "      <td>1009.0</td>\n",
       "      <td>2010-01-02</td>\n",
       "      <td>0.0</td>\n",
       "    </tr>\n",
       "    <tr>\n",
       "      <th>12207</th>\n",
       "      <td>Jeffie Helzer</td>\n",
       "      <td>1084</td>\n",
       "      <td>92152</td>\n",
       "      <td>1904.0</td>\n",
       "      <td>NaN</td>\n",
       "      <td>1904.0</td>\n",
       "      <td>2010-01-02</td>\n",
       "      <td>0.0</td>\n",
       "    </tr>\n",
       "    <tr>\n",
       "      <th>12194</th>\n",
       "      <td>Perry Bach</td>\n",
       "      <td>1881</td>\n",
       "      <td>92124</td>\n",
       "      <td>1617.0</td>\n",
       "      <td>NaN</td>\n",
       "      <td>1617.0</td>\n",
       "      <td>2010-01-02</td>\n",
       "      <td>0.0</td>\n",
       "    </tr>\n",
       "  </tbody>\n",
       "</table>\n",
       "</div>"
      ],
      "text/plain": [
       "                name house_id house_zip  rent_amount     dob  payment_amount  \\\n",
       "12161  Nakia Vickery     1747     92154       1439.0  1981.0          1439.0   \n",
       "12188    Nana Rousey     1750     92129       1600.0  1964.0          1600.0   \n",
       "12202       Yer Avey     2448     92153       1009.0  1981.0          1009.0   \n",
       "12207  Jeffie Helzer     1084     92152       1904.0     NaN          1904.0   \n",
       "12194     Perry Bach     1881     92124       1617.0     NaN          1617.0   \n",
       "\n",
       "      payment_date_clean  arrear  \n",
       "12161         2010-01-02     0.0  \n",
       "12188         2010-01-02     0.0  \n",
       "12202         2010-01-02     0.0  \n",
       "12207         2010-01-02     0.0  \n",
       "12194         2010-01-02     0.0  "
      ]
     },
     "execution_count": 2,
     "metadata": {},
     "output_type": "execute_result"
    }
   ],
   "source": [
    "import pandas as pd\n",
    "import numpy as np\n",
    "\n",
    "placeholder = './'\n",
    "rental_data = pd.read_csv(placeholder + 'rental_data_clean.csv',index_col=0, parse_dates=['payment_date_clean'], \\\n",
    "               dtype={'house_id':'object','house_zip':'object'}).drop(['payment_date'], axis = 1)\n",
    "\n",
    "# sort df by payment_date_clean column. Following the data cleansing exercise (Appendix A) we can no longer assume the data is \n",
    "# in chronological order. We need the data to be in chronological order to apply the find_max_duration function.\n",
    "rental_data = rental_data.sort_values(by=['payment_date_clean'])\n",
    "\n",
    "# add a column calculating the different in rent due and actual rent paid per transaction\n",
    "rental_data['arrear'] = rental_data.apply(lambda row: row.rent_amount - row.payment_amount, axis = 1)\n",
    "rental_data.head()"
   ]
  },
  {
   "cell_type": "markdown",
   "metadata": {},
   "source": [
    "The output for the problem will be the risk grades of an individual (name) for a specific property (house_id) based on how often a person enters in arrears over a period of 1 year. The risk grades are as defined below:\n",
    "* __Low risk:__ one month or less of accumulated arrears within a 12 months window,\n",
    "* __Medium risk:__ between 1 and 5 months of accumulated arrears within a 12 months window, and\n",
    "* __High risk:__ 6 or more months of accumulated arrears within a 12 months window.  \n",
    "<br>  \n",
    "Before we are ready to group the data by name by house_id, we need to deal with the nulls in the dob column. In Appendix A.2 a large amount of birth dates were set to null as there was no strong reastion to infer the value otherwise. Missing values in dob will be imputed with a constant value of the dob median as we don't want to base dob on other features. We observe below that the median is slightly larger than the mean indicating negative skewness in the dob distribution in the data, but this difference is only one year when rounded. We transform the dob feature across the whole data and any new data obtained should be also transformed accordingly where there are missing values in dob. The imputation will be at the cost of dob 1975 not being a have stong predictor."
   ]
  },
  {
   "cell_type": "code",
   "execution_count": 3,
   "metadata": {
    "scrolled": false
   },
   "outputs": [
    {
     "data": {
      "text/plain": [
       "name                      0\n",
       "house_id                  0\n",
       "house_zip                 0\n",
       "rent_amount               0\n",
       "dob                   45302\n",
       "payment_amount            0\n",
       "payment_date_clean        0\n",
       "arrear                    0\n",
       "dtype: int64"
      ]
     },
     "execution_count": 3,
     "metadata": {},
     "output_type": "execute_result"
    }
   ],
   "source": [
    "rental_data.isnull().sum()"
   ]
  },
  {
   "cell_type": "code",
   "execution_count": 4,
   "metadata": {
    "scrolled": true
   },
   "outputs": [
    {
     "name": "stdout",
     "output_type": "stream",
     "text": [
      "dob mean: 1974 and dob median: 1975.0\n"
     ]
    }
   ],
   "source": [
    "print('dob mean:', round(rental_data.dob.mean()), 'and dob median:', rental_data.dob.median())"
   ]
  },
  {
   "cell_type": "code",
   "execution_count": 5,
   "metadata": {},
   "outputs": [],
   "source": [
    "# impute NaN for dob\n",
    "from sklearn.impute import SimpleImputer\n",
    "\n",
    "X = rental_data.dob.values.reshape(-1,1)\n",
    "imp = SimpleImputer(missing_values=np.nan, strategy='median')\n",
    "rental_data.dob = imp.fit_transform(X)"
   ]
  },
  {
   "cell_type": "markdown",
   "metadata": {},
   "source": [
    "Next we are ready to compute the grades of risk. To do so we compute the cumulative arrear over the duration of the tenancy and find the maximum number of months for which this remains unpaid per tenant per property. There is no need to normalise the arrear_max_duration since anything over 6 months will be encoded as high risk."
   ]
  },
  {
   "cell_type": "code",
   "execution_count": 6,
   "metadata": {},
   "outputs": [
    {
     "data": {
      "text/html": [
       "<div>\n",
       "<style scoped>\n",
       "    .dataframe tbody tr th:only-of-type {\n",
       "        vertical-align: middle;\n",
       "    }\n",
       "\n",
       "    .dataframe tbody tr th {\n",
       "        vertical-align: top;\n",
       "    }\n",
       "\n",
       "    .dataframe thead th {\n",
       "        text-align: right;\n",
       "    }\n",
       "</style>\n",
       "<table border=\"1\" class=\"dataframe\">\n",
       "  <thead>\n",
       "    <tr style=\"text-align: right;\">\n",
       "      <th></th>\n",
       "      <th>name</th>\n",
       "      <th>house_id</th>\n",
       "      <th>house_zip</th>\n",
       "      <th>dob</th>\n",
       "      <th>rent_amount</th>\n",
       "      <th>overall_arrear</th>\n",
       "      <th>monthly_arrear</th>\n",
       "    </tr>\n",
       "  </thead>\n",
       "  <tbody>\n",
       "    <tr>\n",
       "      <th>0</th>\n",
       "      <td>Aaron Huston</td>\n",
       "      <td>1</td>\n",
       "      <td>92194</td>\n",
       "      <td>1975.0</td>\n",
       "      <td>1720.0</td>\n",
       "      <td>0.00</td>\n",
       "      <td>[0.0, 0.0, 0.0, 0.0, 0.0, 0.0, 0.0, 0.0, 0.0, ...</td>\n",
       "    </tr>\n",
       "    <tr>\n",
       "      <th>1</th>\n",
       "      <td>Abbey Kluth</td>\n",
       "      <td>2</td>\n",
       "      <td>92198</td>\n",
       "      <td>1975.0</td>\n",
       "      <td>1619.0</td>\n",
       "      <td>-7021.00</td>\n",
       "      <td>[-161.0, -565.0, -969.0, -1130.0, -1130.0, -13...</td>\n",
       "    </tr>\n",
       "    <tr>\n",
       "      <th>2</th>\n",
       "      <td>Abe Prophet</td>\n",
       "      <td>4</td>\n",
       "      <td>92161</td>\n",
       "      <td>1975.0</td>\n",
       "      <td>1143.0</td>\n",
       "      <td>171.45</td>\n",
       "      <td>[0.0, 171.0, 171.0, 171.0, 171.0, 171.0, 171.0...</td>\n",
       "    </tr>\n",
       "    <tr>\n",
       "      <th>3</th>\n",
       "      <td>Abel Emmett</td>\n",
       "      <td>3</td>\n",
       "      <td>92107</td>\n",
       "      <td>1975.0</td>\n",
       "      <td>1802.0</td>\n",
       "      <td>0.00</td>\n",
       "      <td>[0.0, 0.0, 0.0, 0.0, 0.0, 0.0, 0.0, 0.0, 0.0, ...</td>\n",
       "    </tr>\n",
       "    <tr>\n",
       "      <th>4</th>\n",
       "      <td>Abraham Maggi</td>\n",
       "      <td>5</td>\n",
       "      <td>92160</td>\n",
       "      <td>1975.0</td>\n",
       "      <td>1269.0</td>\n",
       "      <td>-1134.00</td>\n",
       "      <td>[-126.0, -126.0, -126.0, -126.0, -126.0, -126....</td>\n",
       "    </tr>\n",
       "  </tbody>\n",
       "</table>\n",
       "</div>"
      ],
      "text/plain": [
       "            name house_id house_zip     dob  rent_amount  overall_arrear  \\\n",
       "0   Aaron Huston        1     92194  1975.0       1720.0            0.00   \n",
       "1    Abbey Kluth        2     92198  1975.0       1619.0        -7021.00   \n",
       "2    Abe Prophet        4     92161  1975.0       1143.0          171.45   \n",
       "3    Abel Emmett        3     92107  1975.0       1802.0            0.00   \n",
       "4  Abraham Maggi        5     92160  1975.0       1269.0        -1134.00   \n",
       "\n",
       "                                      monthly_arrear  \n",
       "0  [0.0, 0.0, 0.0, 0.0, 0.0, 0.0, 0.0, 0.0, 0.0, ...  \n",
       "1  [-161.0, -565.0, -969.0, -1130.0, -1130.0, -13...  \n",
       "2  [0.0, 171.0, 171.0, 171.0, 171.0, 171.0, 171.0...  \n",
       "3  [0.0, 0.0, 0.0, 0.0, 0.0, 0.0, 0.0, 0.0, 0.0, ...  \n",
       "4  [-126.0, -126.0, -126.0, -126.0, -126.0, -126....  "
      ]
     },
     "execution_count": 6,
     "metadata": {},
     "output_type": "execute_result"
    }
   ],
   "source": [
    "# grouping by name and house_id primarily. We expect house_zip, dob, rent_amount to be the same across name/house_id\n",
    "# overall_arrear := cumulative arreal per tenant per house until he moved out or until cutoff data of data\n",
    "# monthly_arrear := list of montly cumulative arreal\n",
    "\n",
    "final_data = rental_data.groupby(['name', 'house_id', 'house_zip', 'dob', 'rent_amount'])['arrear'].agg(\n",
    "    ['sum', lambda x: np.around(np.cumsum(list(x))).tolist()]).rename(columns={\n",
    "    'sum': 'overall_arrear', '<lambda>': 'monthly_arrear'}).reset_index()\n",
    "final_data.head()"
   ]
  },
  {
   "cell_type": "code",
   "execution_count": 7,
   "metadata": {},
   "outputs": [],
   "source": [
    "# define a function that finds the maximum duration it took to repay per tenant per house_id \n",
    "from itertools import groupby\n",
    "from operator import itemgetter\n",
    "\n",
    "def find_max_duration(cum_arrears):\n",
    "    # remove months where arrear is zero or tenant is overpaying and keep index for rest\n",
    "    index_list = [i for i in range(len(cum_arrears)) if cum_arrears[i] > 0]\n",
    "    l = []\n",
    "    # nested list with list of consecutive cumulative arrears --> to identify if it gets repaid\n",
    "    for i, j in groupby(enumerate(index_list),  lambda ix : ix[0] - ix[1]):\n",
    "        l.append(list(map(itemgetter(1), j)))\n",
    "    # for each row find the max duration of unpaid arrears\n",
    "    max_d = 0\n",
    "    for item in l:\n",
    "        if len(item) > 1:\n",
    "            d = item[-1]-item[0]\n",
    "            if d > max_d:\n",
    "                max_d = d\n",
    "    return max_d"
   ]
  },
  {
   "cell_type": "code",
   "execution_count": 8,
   "metadata": {
    "scrolled": true
   },
   "outputs": [
    {
     "data": {
      "text/html": [
       "<div>\n",
       "<style scoped>\n",
       "    .dataframe tbody tr th:only-of-type {\n",
       "        vertical-align: middle;\n",
       "    }\n",
       "\n",
       "    .dataframe tbody tr th {\n",
       "        vertical-align: top;\n",
       "    }\n",
       "\n",
       "    .dataframe thead th {\n",
       "        text-align: right;\n",
       "    }\n",
       "</style>\n",
       "<table border=\"1\" class=\"dataframe\">\n",
       "  <thead>\n",
       "    <tr style=\"text-align: right;\">\n",
       "      <th></th>\n",
       "      <th>name</th>\n",
       "      <th>house_id</th>\n",
       "      <th>house_zip</th>\n",
       "      <th>dob</th>\n",
       "      <th>rent_amount</th>\n",
       "      <th>overall_arrear</th>\n",
       "      <th>monthly_arrear</th>\n",
       "      <th>arrear_max_duration</th>\n",
       "      <th>risk_rating</th>\n",
       "    </tr>\n",
       "  </thead>\n",
       "  <tbody>\n",
       "    <tr>\n",
       "      <th>0</th>\n",
       "      <td>Aaron Huston</td>\n",
       "      <td>1</td>\n",
       "      <td>92194</td>\n",
       "      <td>1975.0</td>\n",
       "      <td>1720.0</td>\n",
       "      <td>0.00</td>\n",
       "      <td>[0.0, 0.0, 0.0, 0.0, 0.0, 0.0, 0.0, 0.0, 0.0, ...</td>\n",
       "      <td>0</td>\n",
       "      <td>0</td>\n",
       "    </tr>\n",
       "    <tr>\n",
       "      <th>1</th>\n",
       "      <td>Abbey Kluth</td>\n",
       "      <td>2</td>\n",
       "      <td>92198</td>\n",
       "      <td>1975.0</td>\n",
       "      <td>1619.0</td>\n",
       "      <td>-7021.00</td>\n",
       "      <td>[-161.0, -565.0, -969.0, -1130.0, -1130.0, -13...</td>\n",
       "      <td>0</td>\n",
       "      <td>0</td>\n",
       "    </tr>\n",
       "    <tr>\n",
       "      <th>2</th>\n",
       "      <td>Abe Prophet</td>\n",
       "      <td>4</td>\n",
       "      <td>92161</td>\n",
       "      <td>1975.0</td>\n",
       "      <td>1143.0</td>\n",
       "      <td>171.45</td>\n",
       "      <td>[0.0, 171.0, 171.0, 171.0, 171.0, 171.0, 171.0...</td>\n",
       "      <td>28</td>\n",
       "      <td>2</td>\n",
       "    </tr>\n",
       "    <tr>\n",
       "      <th>3</th>\n",
       "      <td>Abel Emmett</td>\n",
       "      <td>3</td>\n",
       "      <td>92107</td>\n",
       "      <td>1975.0</td>\n",
       "      <td>1802.0</td>\n",
       "      <td>0.00</td>\n",
       "      <td>[0.0, 0.0, 0.0, 0.0, 0.0, 0.0, 0.0, 0.0, 0.0, ...</td>\n",
       "      <td>0</td>\n",
       "      <td>0</td>\n",
       "    </tr>\n",
       "    <tr>\n",
       "      <th>4</th>\n",
       "      <td>Abraham Maggi</td>\n",
       "      <td>5</td>\n",
       "      <td>92160</td>\n",
       "      <td>1975.0</td>\n",
       "      <td>1269.0</td>\n",
       "      <td>-1134.00</td>\n",
       "      <td>[-126.0, -126.0, -126.0, -126.0, -126.0, -126....</td>\n",
       "      <td>0</td>\n",
       "      <td>0</td>\n",
       "    </tr>\n",
       "    <tr>\n",
       "      <th>5</th>\n",
       "      <td>Adah Curnutt</td>\n",
       "      <td>6</td>\n",
       "      <td>92169</td>\n",
       "      <td>1975.0</td>\n",
       "      <td>1650.0</td>\n",
       "      <td>-742.50</td>\n",
       "      <td>[0.0, 0.0, 0.0, 0.0, -165.0, -165.0, -330.0, -...</td>\n",
       "      <td>0</td>\n",
       "      <td>0</td>\n",
       "    </tr>\n",
       "    <tr>\n",
       "      <th>6</th>\n",
       "      <td>Adaline Santos</td>\n",
       "      <td>10</td>\n",
       "      <td>92172</td>\n",
       "      <td>1975.0</td>\n",
       "      <td>948.0</td>\n",
       "      <td>0.00</td>\n",
       "      <td>[0.0, 0.0]</td>\n",
       "      <td>0</td>\n",
       "      <td>0</td>\n",
       "    </tr>\n",
       "    <tr>\n",
       "      <th>7</th>\n",
       "      <td>Adaline Santos</td>\n",
       "      <td>7</td>\n",
       "      <td>92124</td>\n",
       "      <td>1975.0</td>\n",
       "      <td>1279.0</td>\n",
       "      <td>0.00</td>\n",
       "      <td>[0.0, 0.0, 0.0, 0.0, 0.0, 0.0, 0.0, 0.0, 0.0, ...</td>\n",
       "      <td>0</td>\n",
       "      <td>0</td>\n",
       "    </tr>\n",
       "    <tr>\n",
       "      <th>8</th>\n",
       "      <td>Adaline Santos</td>\n",
       "      <td>8</td>\n",
       "      <td>92127</td>\n",
       "      <td>1975.0</td>\n",
       "      <td>1446.0</td>\n",
       "      <td>1446.00</td>\n",
       "      <td>[0.0, 0.0, 0.0, 0.0, 1446.0, 1446.0]</td>\n",
       "      <td>1</td>\n",
       "      <td>0</td>\n",
       "    </tr>\n",
       "    <tr>\n",
       "      <th>9</th>\n",
       "      <td>Adaline Santos</td>\n",
       "      <td>9</td>\n",
       "      <td>92161</td>\n",
       "      <td>1975.0</td>\n",
       "      <td>1531.0</td>\n",
       "      <td>0.00</td>\n",
       "      <td>[0.0, 0.0, 0.0, 0.0]</td>\n",
       "      <td>0</td>\n",
       "      <td>0</td>\n",
       "    </tr>\n",
       "  </tbody>\n",
       "</table>\n",
       "</div>"
      ],
      "text/plain": [
       "             name house_id house_zip     dob  rent_amount  overall_arrear  \\\n",
       "0    Aaron Huston        1     92194  1975.0       1720.0            0.00   \n",
       "1     Abbey Kluth        2     92198  1975.0       1619.0        -7021.00   \n",
       "2     Abe Prophet        4     92161  1975.0       1143.0          171.45   \n",
       "3     Abel Emmett        3     92107  1975.0       1802.0            0.00   \n",
       "4   Abraham Maggi        5     92160  1975.0       1269.0        -1134.00   \n",
       "5    Adah Curnutt        6     92169  1975.0       1650.0         -742.50   \n",
       "6  Adaline Santos       10     92172  1975.0        948.0            0.00   \n",
       "7  Adaline Santos        7     92124  1975.0       1279.0            0.00   \n",
       "8  Adaline Santos        8     92127  1975.0       1446.0         1446.00   \n",
       "9  Adaline Santos        9     92161  1975.0       1531.0            0.00   \n",
       "\n",
       "                                      monthly_arrear  arrear_max_duration  \\\n",
       "0  [0.0, 0.0, 0.0, 0.0, 0.0, 0.0, 0.0, 0.0, 0.0, ...                    0   \n",
       "1  [-161.0, -565.0, -969.0, -1130.0, -1130.0, -13...                    0   \n",
       "2  [0.0, 171.0, 171.0, 171.0, 171.0, 171.0, 171.0...                   28   \n",
       "3  [0.0, 0.0, 0.0, 0.0, 0.0, 0.0, 0.0, 0.0, 0.0, ...                    0   \n",
       "4  [-126.0, -126.0, -126.0, -126.0, -126.0, -126....                    0   \n",
       "5  [0.0, 0.0, 0.0, 0.0, -165.0, -165.0, -330.0, -...                    0   \n",
       "6                                         [0.0, 0.0]                    0   \n",
       "7  [0.0, 0.0, 0.0, 0.0, 0.0, 0.0, 0.0, 0.0, 0.0, ...                    0   \n",
       "8               [0.0, 0.0, 0.0, 0.0, 1446.0, 1446.0]                    1   \n",
       "9                               [0.0, 0.0, 0.0, 0.0]                    0   \n",
       "\n",
       "   risk_rating  \n",
       "0            0  \n",
       "1            0  \n",
       "2            2  \n",
       "3            0  \n",
       "4            0  \n",
       "5            0  \n",
       "6            0  \n",
       "7            0  \n",
       "8            0  \n",
       "9            0  "
      ]
     },
     "execution_count": 8,
     "metadata": {},
     "output_type": "execute_result"
    }
   ],
   "source": [
    "# find the maximum duration it took to repay per tenant per house_id, and assign risk rating accordingly\n",
    "final_data['arrear_max_duration'] = final_data.monthly_arrear.apply(lambda x: find_max_duration(x))\n",
    "\n",
    "final_data['risk_rating'] = np.where(final_data.arrear_max_duration >=6, 2,\n",
    "                                     np.where(final_data.arrear_max_duration > 1, 1, 0))\n",
    "final_data.head(10)"
   ]
  },
  {
   "cell_type": "code",
   "execution_count": 9,
   "metadata": {},
   "outputs": [
    {
     "name": "stdout",
     "output_type": "stream",
     "text": [
      "There are 1782 cases, or 72.15%, which have an assigned risk_rating 0f 0\n",
      "There are 107 cases, or 4.33%, which have an assigned risk_rating 0f 1\n",
      "There are 581 cases, or 23.52%, which have an assigned risk_rating 0f 2\n"
     ]
    }
   ],
   "source": [
    "for j in range(3):\n",
    "    print('There are {} cases, or {}%, which have an assigned risk_rating 0f {}'.format(\n",
    "        len(final_data.loc[final_data.risk_rating == j]), \n",
    "        round(len(final_data.loc[final_data.risk_rating == j])/len(final_data)*100, 2),\n",
    "        j))"
   ]
  },
  {
   "cell_type": "markdown",
   "metadata": {},
   "source": [
    "One of the features included in the data is house_zip, the Zip Code information about each tenant's property. On its own this information does not provide any insight about the tenant's likeliness to fall behind on payments, but actually it is actually a singal about socioeconomic background of the tenant such as class, salary etc. We use the Demographic Statistics by Zip Code from the Department of Finance, State of California website to augment the existing dataset and join the house_zip with demographics data."
   ]
  },
  {
   "cell_type": "code",
   "execution_count": 10,
   "metadata": {},
   "outputs": [
    {
     "name": "stdout",
     "output_type": "stream",
     "text": [
      "There are  81 unique zipcodes\n"
     ]
    }
   ],
   "source": [
    "#get number of houses in each zip code\n",
    "zipcode_count = final_data.groupby('house_zip').nunique()[['house_id']].reset_index()\n",
    "zipcode_count.columns = ['house_zip','count']\n",
    "print('There are ', len(zipcode_count), 'unique zipcodes')"
   ]
  },
  {
   "cell_type": "markdown",
   "metadata": {},
   "source": [
    "Out of the 81 unique zip codes only 38 were identified demographics dataset. As there has not been any other reliable source found containing demographic statistics for the remaining Zip codes we will proceed by using the 38 existing ones and impute the missing values in order to explore the predictive power of demographic information in our mode."
   ]
  },
  {
   "cell_type": "code",
   "execution_count": 11,
   "metadata": {},
   "outputs": [
    {
     "data": {
      "text/html": [
       "<div>\n",
       "<style scoped>\n",
       "    .dataframe tbody tr th:only-of-type {\n",
       "        vertical-align: middle;\n",
       "    }\n",
       "\n",
       "    .dataframe tbody tr th {\n",
       "        vertical-align: top;\n",
       "    }\n",
       "\n",
       "    .dataframe thead th {\n",
       "        text-align: right;\n",
       "    }\n",
       "</style>\n",
       "<table border=\"1\" class=\"dataframe\">\n",
       "  <thead>\n",
       "    <tr style=\"text-align: right;\">\n",
       "      <th></th>\n",
       "      <th>house_zip</th>\n",
       "      <th>avg_family_size</th>\n",
       "      <th>perc_white</th>\n",
       "      <th>perc_hh_bel_pvl</th>\n",
       "    </tr>\n",
       "  </thead>\n",
       "  <tbody>\n",
       "    <tr>\n",
       "      <th>0</th>\n",
       "      <td>95211</td>\n",
       "      <td>12.67</td>\n",
       "      <td>0.36</td>\n",
       "      <td>0.000</td>\n",
       "    </tr>\n",
       "    <tr>\n",
       "      <th>1</th>\n",
       "      <td>94613</td>\n",
       "      <td>5.00</td>\n",
       "      <td>0.61</td>\n",
       "      <td>0.000</td>\n",
       "    </tr>\n",
       "    <tr>\n",
       "      <th>2</th>\n",
       "      <td>93249</td>\n",
       "      <td>4.88</td>\n",
       "      <td>0.85</td>\n",
       "      <td>0.000</td>\n",
       "    </tr>\n",
       "    <tr>\n",
       "      <th>3</th>\n",
       "      <td>92703</td>\n",
       "      <td>4.86</td>\n",
       "      <td>0.57</td>\n",
       "      <td>0.000</td>\n",
       "    </tr>\n",
       "    <tr>\n",
       "      <th>4</th>\n",
       "      <td>93606</td>\n",
       "      <td>4.81</td>\n",
       "      <td>0.47</td>\n",
       "      <td>0.106</td>\n",
       "    </tr>\n",
       "    <tr>\n",
       "      <th>5</th>\n",
       "      <td>93905</td>\n",
       "      <td>4.78</td>\n",
       "      <td>0.84</td>\n",
       "      <td>0.000</td>\n",
       "    </tr>\n",
       "    <tr>\n",
       "      <th>6</th>\n",
       "      <td>90011</td>\n",
       "      <td>4.75</td>\n",
       "      <td>0.74</td>\n",
       "      <td>0.000</td>\n",
       "    </tr>\n",
       "    <tr>\n",
       "      <th>7</th>\n",
       "      <td>93033</td>\n",
       "      <td>4.75</td>\n",
       "      <td>0.69</td>\n",
       "      <td>0.000</td>\n",
       "    </tr>\n",
       "    <tr>\n",
       "      <th>8</th>\n",
       "      <td>93261</td>\n",
       "      <td>4.74</td>\n",
       "      <td>0.76</td>\n",
       "      <td>0.085</td>\n",
       "    </tr>\n",
       "    <tr>\n",
       "      <th>9</th>\n",
       "      <td>92707</td>\n",
       "      <td>4.72</td>\n",
       "      <td>0.74</td>\n",
       "      <td>0.000</td>\n",
       "    </tr>\n",
       "  </tbody>\n",
       "</table>\n",
       "</div>"
      ],
      "text/plain": [
       "  house_zip  avg_family_size  perc_white  perc_hh_bel_pvl\n",
       "0     95211            12.67        0.36            0.000\n",
       "1     94613             5.00        0.61            0.000\n",
       "2     93249             4.88        0.85            0.000\n",
       "3     92703             4.86        0.57            0.000\n",
       "4     93606             4.81        0.47            0.106\n",
       "5     93905             4.78        0.84            0.000\n",
       "6     90011             4.75        0.74            0.000\n",
       "7     93033             4.75        0.69            0.000\n",
       "8     93261             4.74        0.76            0.085\n",
       "9     92707             4.72        0.74            0.000"
      ]
     },
     "execution_count": 11,
     "metadata": {},
     "output_type": "execute_result"
    }
   ],
   "source": [
    "placeholder = './'\n",
    "demo_datadf = pd.read_csv(placeholder + 'demo_data.csv',dtype={'house_zip':'object'})\n",
    "\n",
    "# as per the data, perc_hh_bel_pvl values where it was non-zero was provided. it was otherwise not provided. \n",
    "# Hence, NaN values were to be replaced with 0 - assuming there was a negligible number of people below poverty line. \n",
    "values = { 'perc_hh_bel_pvl': 0}\n",
    "demo_datadf = demo_datadf.fillna(value=values)\n",
    "demo_datadf.head(10)"
   ]
  },
  {
   "cell_type": "markdown",
   "metadata": {},
   "source": [
    "The above features were obtained for each of the zip codes in the jurisdiction. These features were assumed to have an influence on the risk rating:\n",
    "\n",
    "- avg_family_size: The average size of the family in terms of persons in the household. If the household is too large it is possible that there are many people to be supported and it is likely that they have a range of other expenses to take care of besides the rent. There is a possibility that this might eat into their planned budget otherwise. Our assumptions could also be wrong here, larger families could also mean more breadwinners and hence greater ease to pay the rent. Nevertheless, this would definitely have a direct bearing on the payability of the rent and we want to investigate that. \n",
    "\n",
    "- perc_white: The percentage of white people in the area. This allows for racial profiling. Since white is the majority population in the region, we can take this percentage as a pseudo-categorical variable (continuous in nature) to determine how the racial make-up in the area affects if a person from that area has the ability to pay due rent on time.\n",
    "\n",
    "- perc_hh_bel_pvl: Percentage of households that were below poverty line. This variable is an indicator of the general wealth of the people in the area. This is of course based on the assumption that the GINI coefficient is not large and that wealth is equitably distributed. I.e. if many people are below poverty line - people are generally poor, else they are reasonably wealthy. This would serve as a weak indicator for a person from a specific area to be able to pay the rent. It might not have a very high predictive power. "
   ]
  },
  {
   "cell_type": "code",
   "execution_count": 12,
   "metadata": {},
   "outputs": [
    {
     "data": {
      "text/html": [
       "<div>\n",
       "<style scoped>\n",
       "    .dataframe tbody tr th:only-of-type {\n",
       "        vertical-align: middle;\n",
       "    }\n",
       "\n",
       "    .dataframe tbody tr th {\n",
       "        vertical-align: top;\n",
       "    }\n",
       "\n",
       "    .dataframe thead th {\n",
       "        text-align: right;\n",
       "    }\n",
       "</style>\n",
       "<table border=\"1\" class=\"dataframe\">\n",
       "  <thead>\n",
       "    <tr style=\"text-align: right;\">\n",
       "      <th></th>\n",
       "      <th>name</th>\n",
       "      <th>house_id</th>\n",
       "      <th>house_zip</th>\n",
       "      <th>dob</th>\n",
       "      <th>rent_amount</th>\n",
       "      <th>overall_arrear</th>\n",
       "      <th>monthly_arrear</th>\n",
       "      <th>arrear_max_duration</th>\n",
       "      <th>risk_rating</th>\n",
       "      <th>avg_family_size</th>\n",
       "      <th>perc_white</th>\n",
       "      <th>perc_hh_bel_pvl</th>\n",
       "    </tr>\n",
       "  </thead>\n",
       "  <tbody>\n",
       "    <tr>\n",
       "      <th>0</th>\n",
       "      <td>Aaron Huston</td>\n",
       "      <td>1</td>\n",
       "      <td>92194</td>\n",
       "      <td>1975.0</td>\n",
       "      <td>1720.0</td>\n",
       "      <td>0.00</td>\n",
       "      <td>[0.0, 0.0, 0.0, 0.0, 0.0, 0.0, 0.0, 0.0, 0.0, ...</td>\n",
       "      <td>0</td>\n",
       "      <td>0</td>\n",
       "      <td>NaN</td>\n",
       "      <td>NaN</td>\n",
       "      <td>NaN</td>\n",
       "    </tr>\n",
       "    <tr>\n",
       "      <th>1</th>\n",
       "      <td>Abbey Kluth</td>\n",
       "      <td>2</td>\n",
       "      <td>92198</td>\n",
       "      <td>1975.0</td>\n",
       "      <td>1619.0</td>\n",
       "      <td>-7021.00</td>\n",
       "      <td>[-161.0, -565.0, -969.0, -1130.0, -1130.0, -13...</td>\n",
       "      <td>0</td>\n",
       "      <td>0</td>\n",
       "      <td>NaN</td>\n",
       "      <td>NaN</td>\n",
       "      <td>NaN</td>\n",
       "    </tr>\n",
       "    <tr>\n",
       "      <th>2</th>\n",
       "      <td>Abe Prophet</td>\n",
       "      <td>4</td>\n",
       "      <td>92161</td>\n",
       "      <td>1975.0</td>\n",
       "      <td>1143.0</td>\n",
       "      <td>171.45</td>\n",
       "      <td>[0.0, 171.0, 171.0, 171.0, 171.0, 171.0, 171.0...</td>\n",
       "      <td>28</td>\n",
       "      <td>2</td>\n",
       "      <td>NaN</td>\n",
       "      <td>NaN</td>\n",
       "      <td>NaN</td>\n",
       "    </tr>\n",
       "    <tr>\n",
       "      <th>3</th>\n",
       "      <td>Abel Emmett</td>\n",
       "      <td>3</td>\n",
       "      <td>92107</td>\n",
       "      <td>1975.0</td>\n",
       "      <td>1802.0</td>\n",
       "      <td>0.00</td>\n",
       "      <td>[0.0, 0.0, 0.0, 0.0, 0.0, 0.0, 0.0, 0.0, 0.0, ...</td>\n",
       "      <td>0</td>\n",
       "      <td>0</td>\n",
       "      <td>2.69</td>\n",
       "      <td>0.92</td>\n",
       "      <td>0.0</td>\n",
       "    </tr>\n",
       "    <tr>\n",
       "      <th>4</th>\n",
       "      <td>Abraham Maggi</td>\n",
       "      <td>5</td>\n",
       "      <td>92160</td>\n",
       "      <td>1975.0</td>\n",
       "      <td>1269.0</td>\n",
       "      <td>-1134.00</td>\n",
       "      <td>[-126.0, -126.0, -126.0, -126.0, -126.0, -126....</td>\n",
       "      <td>0</td>\n",
       "      <td>0</td>\n",
       "      <td>NaN</td>\n",
       "      <td>NaN</td>\n",
       "      <td>NaN</td>\n",
       "    </tr>\n",
       "    <tr>\n",
       "      <th>5</th>\n",
       "      <td>Adah Curnutt</td>\n",
       "      <td>6</td>\n",
       "      <td>92169</td>\n",
       "      <td>1975.0</td>\n",
       "      <td>1650.0</td>\n",
       "      <td>-742.50</td>\n",
       "      <td>[0.0, 0.0, 0.0, 0.0, -165.0, -165.0, -330.0, -...</td>\n",
       "      <td>0</td>\n",
       "      <td>0</td>\n",
       "      <td>NaN</td>\n",
       "      <td>NaN</td>\n",
       "      <td>NaN</td>\n",
       "    </tr>\n",
       "    <tr>\n",
       "      <th>6</th>\n",
       "      <td>Adaline Santos</td>\n",
       "      <td>10</td>\n",
       "      <td>92172</td>\n",
       "      <td>1975.0</td>\n",
       "      <td>948.0</td>\n",
       "      <td>0.00</td>\n",
       "      <td>[0.0, 0.0]</td>\n",
       "      <td>0</td>\n",
       "      <td>0</td>\n",
       "      <td>NaN</td>\n",
       "      <td>NaN</td>\n",
       "      <td>NaN</td>\n",
       "    </tr>\n",
       "    <tr>\n",
       "      <th>7</th>\n",
       "      <td>Adaline Santos</td>\n",
       "      <td>7</td>\n",
       "      <td>92124</td>\n",
       "      <td>1975.0</td>\n",
       "      <td>1279.0</td>\n",
       "      <td>0.00</td>\n",
       "      <td>[0.0, 0.0, 0.0, 0.0, 0.0, 0.0, 0.0, 0.0, 0.0, ...</td>\n",
       "      <td>0</td>\n",
       "      <td>0</td>\n",
       "      <td>3.27</td>\n",
       "      <td>0.71</td>\n",
       "      <td>0.0</td>\n",
       "    </tr>\n",
       "    <tr>\n",
       "      <th>8</th>\n",
       "      <td>Adaline Santos</td>\n",
       "      <td>8</td>\n",
       "      <td>92127</td>\n",
       "      <td>1975.0</td>\n",
       "      <td>1446.0</td>\n",
       "      <td>1446.00</td>\n",
       "      <td>[0.0, 0.0, 0.0, 0.0, 1446.0, 1446.0]</td>\n",
       "      <td>1</td>\n",
       "      <td>0</td>\n",
       "      <td>3.35</td>\n",
       "      <td>0.52</td>\n",
       "      <td>0.0</td>\n",
       "    </tr>\n",
       "    <tr>\n",
       "      <th>9</th>\n",
       "      <td>Adaline Santos</td>\n",
       "      <td>9</td>\n",
       "      <td>92161</td>\n",
       "      <td>1975.0</td>\n",
       "      <td>1531.0</td>\n",
       "      <td>0.00</td>\n",
       "      <td>[0.0, 0.0, 0.0, 0.0]</td>\n",
       "      <td>0</td>\n",
       "      <td>0</td>\n",
       "      <td>NaN</td>\n",
       "      <td>NaN</td>\n",
       "      <td>NaN</td>\n",
       "    </tr>\n",
       "  </tbody>\n",
       "</table>\n",
       "</div>"
      ],
      "text/plain": [
       "             name house_id house_zip     dob  rent_amount  overall_arrear  \\\n",
       "0    Aaron Huston        1     92194  1975.0       1720.0            0.00   \n",
       "1     Abbey Kluth        2     92198  1975.0       1619.0        -7021.00   \n",
       "2     Abe Prophet        4     92161  1975.0       1143.0          171.45   \n",
       "3     Abel Emmett        3     92107  1975.0       1802.0            0.00   \n",
       "4   Abraham Maggi        5     92160  1975.0       1269.0        -1134.00   \n",
       "5    Adah Curnutt        6     92169  1975.0       1650.0         -742.50   \n",
       "6  Adaline Santos       10     92172  1975.0        948.0            0.00   \n",
       "7  Adaline Santos        7     92124  1975.0       1279.0            0.00   \n",
       "8  Adaline Santos        8     92127  1975.0       1446.0         1446.00   \n",
       "9  Adaline Santos        9     92161  1975.0       1531.0            0.00   \n",
       "\n",
       "                                      monthly_arrear  arrear_max_duration  \\\n",
       "0  [0.0, 0.0, 0.0, 0.0, 0.0, 0.0, 0.0, 0.0, 0.0, ...                    0   \n",
       "1  [-161.0, -565.0, -969.0, -1130.0, -1130.0, -13...                    0   \n",
       "2  [0.0, 171.0, 171.0, 171.0, 171.0, 171.0, 171.0...                   28   \n",
       "3  [0.0, 0.0, 0.0, 0.0, 0.0, 0.0, 0.0, 0.0, 0.0, ...                    0   \n",
       "4  [-126.0, -126.0, -126.0, -126.0, -126.0, -126....                    0   \n",
       "5  [0.0, 0.0, 0.0, 0.0, -165.0, -165.0, -330.0, -...                    0   \n",
       "6                                         [0.0, 0.0]                    0   \n",
       "7  [0.0, 0.0, 0.0, 0.0, 0.0, 0.0, 0.0, 0.0, 0.0, ...                    0   \n",
       "8               [0.0, 0.0, 0.0, 0.0, 1446.0, 1446.0]                    1   \n",
       "9                               [0.0, 0.0, 0.0, 0.0]                    0   \n",
       "\n",
       "   risk_rating  avg_family_size  perc_white  perc_hh_bel_pvl  \n",
       "0            0              NaN         NaN              NaN  \n",
       "1            0              NaN         NaN              NaN  \n",
       "2            2              NaN         NaN              NaN  \n",
       "3            0             2.69        0.92              0.0  \n",
       "4            0              NaN         NaN              NaN  \n",
       "5            0              NaN         NaN              NaN  \n",
       "6            0              NaN         NaN              NaN  \n",
       "7            0             3.27        0.71              0.0  \n",
       "8            0             3.35        0.52              0.0  \n",
       "9            0              NaN         NaN              NaN  "
      ]
     },
     "execution_count": 12,
     "metadata": {},
     "output_type": "execute_result"
    }
   ],
   "source": [
    "# merge final_data with demographics (& exclude from analysis missing areas)\n",
    "final_data_wdemo =pd.merge(final_data,demo_datadf,on='house_zip', how='left')\n",
    "final_data_wdemo.head(10)"
   ]
  },
  {
   "cell_type": "markdown",
   "metadata": {},
   "source": [
    "As can be expected there are a lot of NaN values for the demography-related features added in, because a left outer join was performed on the existing final-data and as discussed earlier only data for 38 zipcodes in the San Diego area was available although there were 81 unique zipcodes in the given rental_data dataset. These NaN values can be imputed with the median value conistent to the approach used for dob."
   ]
  },
  {
   "cell_type": "code",
   "execution_count": 13,
   "metadata": {},
   "outputs": [
    {
     "data": {
      "text/html": [
       "<div>\n",
       "<style scoped>\n",
       "    .dataframe tbody tr th:only-of-type {\n",
       "        vertical-align: middle;\n",
       "    }\n",
       "\n",
       "    .dataframe tbody tr th {\n",
       "        vertical-align: top;\n",
       "    }\n",
       "\n",
       "    .dataframe thead th {\n",
       "        text-align: right;\n",
       "    }\n",
       "</style>\n",
       "<table border=\"1\" class=\"dataframe\">\n",
       "  <thead>\n",
       "    <tr style=\"text-align: right;\">\n",
       "      <th></th>\n",
       "      <th>name</th>\n",
       "      <th>house_id</th>\n",
       "      <th>house_zip</th>\n",
       "      <th>dob</th>\n",
       "      <th>rent_amount</th>\n",
       "      <th>overall_arrear</th>\n",
       "      <th>monthly_arrear</th>\n",
       "      <th>arrear_max_duration</th>\n",
       "      <th>risk_rating</th>\n",
       "      <th>avg_family_size</th>\n",
       "      <th>perc_white</th>\n",
       "      <th>perc_hh_bel_pvl</th>\n",
       "    </tr>\n",
       "  </thead>\n",
       "  <tbody>\n",
       "    <tr>\n",
       "      <th>0</th>\n",
       "      <td>Aaron Huston</td>\n",
       "      <td>1</td>\n",
       "      <td>92194</td>\n",
       "      <td>1975.0</td>\n",
       "      <td>1720.0</td>\n",
       "      <td>0.00</td>\n",
       "      <td>[0.0, 0.0, 0.0, 0.0, 0.0, 0.0, 0.0, 0.0, 0.0, ...</td>\n",
       "      <td>0</td>\n",
       "      <td>0</td>\n",
       "      <td>2.97</td>\n",
       "      <td>0.60</td>\n",
       "      <td>0.0</td>\n",
       "    </tr>\n",
       "    <tr>\n",
       "      <th>1</th>\n",
       "      <td>Abbey Kluth</td>\n",
       "      <td>2</td>\n",
       "      <td>92198</td>\n",
       "      <td>1975.0</td>\n",
       "      <td>1619.0</td>\n",
       "      <td>-7021.00</td>\n",
       "      <td>[-161.0, -565.0, -969.0, -1130.0, -1130.0, -13...</td>\n",
       "      <td>0</td>\n",
       "      <td>0</td>\n",
       "      <td>2.97</td>\n",
       "      <td>0.60</td>\n",
       "      <td>0.0</td>\n",
       "    </tr>\n",
       "    <tr>\n",
       "      <th>2</th>\n",
       "      <td>Abe Prophet</td>\n",
       "      <td>4</td>\n",
       "      <td>92161</td>\n",
       "      <td>1975.0</td>\n",
       "      <td>1143.0</td>\n",
       "      <td>171.45</td>\n",
       "      <td>[0.0, 171.0, 171.0, 171.0, 171.0, 171.0, 171.0...</td>\n",
       "      <td>28</td>\n",
       "      <td>2</td>\n",
       "      <td>2.97</td>\n",
       "      <td>0.60</td>\n",
       "      <td>0.0</td>\n",
       "    </tr>\n",
       "    <tr>\n",
       "      <th>3</th>\n",
       "      <td>Abel Emmett</td>\n",
       "      <td>3</td>\n",
       "      <td>92107</td>\n",
       "      <td>1975.0</td>\n",
       "      <td>1802.0</td>\n",
       "      <td>0.00</td>\n",
       "      <td>[0.0, 0.0, 0.0, 0.0, 0.0, 0.0, 0.0, 0.0, 0.0, ...</td>\n",
       "      <td>0</td>\n",
       "      <td>0</td>\n",
       "      <td>2.69</td>\n",
       "      <td>0.92</td>\n",
       "      <td>0.0</td>\n",
       "    </tr>\n",
       "    <tr>\n",
       "      <th>4</th>\n",
       "      <td>Abraham Maggi</td>\n",
       "      <td>5</td>\n",
       "      <td>92160</td>\n",
       "      <td>1975.0</td>\n",
       "      <td>1269.0</td>\n",
       "      <td>-1134.00</td>\n",
       "      <td>[-126.0, -126.0, -126.0, -126.0, -126.0, -126....</td>\n",
       "      <td>0</td>\n",
       "      <td>0</td>\n",
       "      <td>2.97</td>\n",
       "      <td>0.60</td>\n",
       "      <td>0.0</td>\n",
       "    </tr>\n",
       "    <tr>\n",
       "      <th>5</th>\n",
       "      <td>Adah Curnutt</td>\n",
       "      <td>6</td>\n",
       "      <td>92169</td>\n",
       "      <td>1975.0</td>\n",
       "      <td>1650.0</td>\n",
       "      <td>-742.50</td>\n",
       "      <td>[0.0, 0.0, 0.0, 0.0, -165.0, -165.0, -330.0, -...</td>\n",
       "      <td>0</td>\n",
       "      <td>0</td>\n",
       "      <td>2.97</td>\n",
       "      <td>0.60</td>\n",
       "      <td>0.0</td>\n",
       "    </tr>\n",
       "    <tr>\n",
       "      <th>6</th>\n",
       "      <td>Adaline Santos</td>\n",
       "      <td>10</td>\n",
       "      <td>92172</td>\n",
       "      <td>1975.0</td>\n",
       "      <td>948.0</td>\n",
       "      <td>0.00</td>\n",
       "      <td>[0.0, 0.0]</td>\n",
       "      <td>0</td>\n",
       "      <td>0</td>\n",
       "      <td>2.97</td>\n",
       "      <td>0.60</td>\n",
       "      <td>0.0</td>\n",
       "    </tr>\n",
       "    <tr>\n",
       "      <th>7</th>\n",
       "      <td>Adaline Santos</td>\n",
       "      <td>7</td>\n",
       "      <td>92124</td>\n",
       "      <td>1975.0</td>\n",
       "      <td>1279.0</td>\n",
       "      <td>0.00</td>\n",
       "      <td>[0.0, 0.0, 0.0, 0.0, 0.0, 0.0, 0.0, 0.0, 0.0, ...</td>\n",
       "      <td>0</td>\n",
       "      <td>0</td>\n",
       "      <td>3.27</td>\n",
       "      <td>0.71</td>\n",
       "      <td>0.0</td>\n",
       "    </tr>\n",
       "    <tr>\n",
       "      <th>8</th>\n",
       "      <td>Adaline Santos</td>\n",
       "      <td>8</td>\n",
       "      <td>92127</td>\n",
       "      <td>1975.0</td>\n",
       "      <td>1446.0</td>\n",
       "      <td>1446.00</td>\n",
       "      <td>[0.0, 0.0, 0.0, 0.0, 1446.0, 1446.0]</td>\n",
       "      <td>1</td>\n",
       "      <td>0</td>\n",
       "      <td>3.35</td>\n",
       "      <td>0.52</td>\n",
       "      <td>0.0</td>\n",
       "    </tr>\n",
       "    <tr>\n",
       "      <th>9</th>\n",
       "      <td>Adaline Santos</td>\n",
       "      <td>9</td>\n",
       "      <td>92161</td>\n",
       "      <td>1975.0</td>\n",
       "      <td>1531.0</td>\n",
       "      <td>0.00</td>\n",
       "      <td>[0.0, 0.0, 0.0, 0.0]</td>\n",
       "      <td>0</td>\n",
       "      <td>0</td>\n",
       "      <td>2.97</td>\n",
       "      <td>0.60</td>\n",
       "      <td>0.0</td>\n",
       "    </tr>\n",
       "  </tbody>\n",
       "</table>\n",
       "</div>"
      ],
      "text/plain": [
       "             name house_id house_zip     dob  rent_amount  overall_arrear  \\\n",
       "0    Aaron Huston        1     92194  1975.0       1720.0            0.00   \n",
       "1     Abbey Kluth        2     92198  1975.0       1619.0        -7021.00   \n",
       "2     Abe Prophet        4     92161  1975.0       1143.0          171.45   \n",
       "3     Abel Emmett        3     92107  1975.0       1802.0            0.00   \n",
       "4   Abraham Maggi        5     92160  1975.0       1269.0        -1134.00   \n",
       "5    Adah Curnutt        6     92169  1975.0       1650.0         -742.50   \n",
       "6  Adaline Santos       10     92172  1975.0        948.0            0.00   \n",
       "7  Adaline Santos        7     92124  1975.0       1279.0            0.00   \n",
       "8  Adaline Santos        8     92127  1975.0       1446.0         1446.00   \n",
       "9  Adaline Santos        9     92161  1975.0       1531.0            0.00   \n",
       "\n",
       "                                      monthly_arrear  arrear_max_duration  \\\n",
       "0  [0.0, 0.0, 0.0, 0.0, 0.0, 0.0, 0.0, 0.0, 0.0, ...                    0   \n",
       "1  [-161.0, -565.0, -969.0, -1130.0, -1130.0, -13...                    0   \n",
       "2  [0.0, 171.0, 171.0, 171.0, 171.0, 171.0, 171.0...                   28   \n",
       "3  [0.0, 0.0, 0.0, 0.0, 0.0, 0.0, 0.0, 0.0, 0.0, ...                    0   \n",
       "4  [-126.0, -126.0, -126.0, -126.0, -126.0, -126....                    0   \n",
       "5  [0.0, 0.0, 0.0, 0.0, -165.0, -165.0, -330.0, -...                    0   \n",
       "6                                         [0.0, 0.0]                    0   \n",
       "7  [0.0, 0.0, 0.0, 0.0, 0.0, 0.0, 0.0, 0.0, 0.0, ...                    0   \n",
       "8               [0.0, 0.0, 0.0, 0.0, 1446.0, 1446.0]                    1   \n",
       "9                               [0.0, 0.0, 0.0, 0.0]                    0   \n",
       "\n",
       "   risk_rating  avg_family_size  perc_white  perc_hh_bel_pvl  \n",
       "0            0             2.97        0.60              0.0  \n",
       "1            0             2.97        0.60              0.0  \n",
       "2            2             2.97        0.60              0.0  \n",
       "3            0             2.69        0.92              0.0  \n",
       "4            0             2.97        0.60              0.0  \n",
       "5            0             2.97        0.60              0.0  \n",
       "6            0             2.97        0.60              0.0  \n",
       "7            0             3.27        0.71              0.0  \n",
       "8            0             3.35        0.52              0.0  \n",
       "9            0             2.97        0.60              0.0  "
      ]
     },
     "execution_count": 13,
     "metadata": {},
     "output_type": "execute_result"
    }
   ],
   "source": [
    "# impute NaN for demographic feautres\n",
    "\n",
    "col_vals_fam_size = final_data_wdemo.avg_family_size.values.reshape(-1,1)\n",
    "imp = SimpleImputer(missing_values=np.nan, strategy='median')\n",
    "final_data_wdemo.avg_family_size = imp.fit_transform(col_vals_fam_size)\n",
    "\n",
    "col_vals_perc_white = final_data_wdemo.perc_white.values.reshape(-1,1)\n",
    "final_data_wdemo.perc_white = imp.fit_transform(col_vals_perc_white)\n",
    "\n",
    "col_vals_bel_pvl = final_data_wdemo.perc_hh_bel_pvl.values.reshape(-1,1)\n",
    "final_data_wdemo.perc_hh_bel_pvl = imp.fit_transform(col_vals_bel_pvl)\n",
    "final_data_wdemo.head(10)"
   ]
  },
  {
   "cell_type": "markdown",
   "metadata": {},
   "source": [
    "In addition to the above features, we can also define another independent feature which is dependent on the payment history of the person - 'number of accumulated arrear months'. This feature counts the number of months a person makes a deficit payment over the period he / she stays in a particular house and normalises it over a 1-year period. This normalisation is required because different tenants have different tenacy periods at different houses. This feature will be a good predictor for the risk of a person entering long term arrear as if someone pays short of his rent amount multiple times, he / she is highly likely to be more risk prone. This is the only independent variable that is directly dependent on the payment history of a person and it cannot be used for newly added tenants who might not have payment history. "
   ]
  },
  {
   "cell_type": "code",
   "execution_count": 17,
   "metadata": {},
   "outputs": [
    {
     "name": "stdout",
     "output_type": "stream",
     "text": [
      "The largest number of arrear months over the entire 3-yr period is 5\n"
     ]
    }
   ],
   "source": [
    "# count the number of months each person is in arrears for the whole 3 year period from 2010 - 2012 \n",
    "# here we counted cumulative arrears over a 3-yr window for the better averaging effect instead of just a 12-months window\n",
    "count_arrear_mths_3yrs = rental_data.groupby(['name','house_id', 'house_zip', 'dob', \n",
    "                                              'rent_amount'])['arrear'].apply(lambda x: (x>0).sum())\n",
    "count_arrear_mths_3yrs = list(count_arrear_mths_3yrs)\n",
    "print(\"The largest number of arrear months over the entire 3-yr period is\", max(count_arrear_mths_3yrs))\n"
   ]
  },
  {
   "cell_type": "code",
   "execution_count": 65,
   "metadata": {},
   "outputs": [
    {
     "name": "stdout",
     "output_type": "stream",
     "text": [
      "There are 1613 tenants with 0 months of accumulated arrears over the 3-yr period\n",
      "There are 667 tenants with 1 months of accumulated arrears over the 3-yr period\n",
      "There are 156 tenants with 2 months of accumulated arrears over the 3-yr period\n",
      "There are 30 tenants with 3 months of accumulated arrears over the 3-yr period\n",
      "There are 3 tenants with 4 months of accumulated arrears over the 3-yr period\n",
      "There are 1 tenants with 5 months of accumulated arrears over the 3-yr period\n"
     ]
    }
   ],
   "source": [
    "for j in range(max(count_arrear_mths_3yrs)+1):\n",
    "    count_list = [i for i in count_arrear_mths_3yrs if i == j]\n",
    "    print(\"There are {} tenants with {} months of accumulated arrears over the 3-yr period\".format(len(count_list), j))"
   ]
  },
  {
   "cell_type": "markdown",
   "metadata": {},
   "source": [
    "As discussed before, the count of arrears calculated over a 3-year period (2010 to 2012) needs to be normalised for a 12-month window, as in the following cell, by calculating the total number of payments made for each individual, for each house. This reflects the duration of stay in the respective houses. "
   ]
  },
  {
   "cell_type": "code",
   "execution_count": 26,
   "metadata": {},
   "outputs": [],
   "source": [
    "no_of_payments= rental_data.groupby(['name','house_id', 'house_zip', 'dob', 'rent_amount']).nunique([\n",
    "    'payment_date_clean'])['payment_date_clean']\n",
    "count_arrear_mths_1yr = np.around(np.asarray(count_arrear_mths_3yrs)/no_of_payments*12,1) # multiplied by 12 for 12-month period"
   ]
  },
  {
   "cell_type": "code",
   "execution_count": 27,
   "metadata": {},
   "outputs": [
    {
     "ename": "ValueError",
     "evalue": "cannot insert count_arrear_mths_1yr, already exists",
     "output_type": "error",
     "traceback": [
      "\u001b[1;31m---------------------------------------------------------------------------\u001b[0m",
      "\u001b[1;31mValueError\u001b[0m                                Traceback (most recent call last)",
      "\u001b[1;32m<ipython-input-27-d2df9109a3c3>\u001b[0m in \u001b[0;36m<module>\u001b[1;34m\u001b[0m\n\u001b[1;32m----> 1\u001b[1;33m \u001b[0mfinal_data_wdemo\u001b[0m\u001b[1;33m.\u001b[0m\u001b[0minsert\u001b[0m\u001b[1;33m(\u001b[0m\u001b[0mloc\u001b[0m\u001b[1;33m=\u001b[0m\u001b[1;36m7\u001b[0m\u001b[1;33m,\u001b[0m \u001b[0mcolumn\u001b[0m\u001b[1;33m=\u001b[0m\u001b[1;34m'count_arrear_mths_1yr'\u001b[0m\u001b[1;33m,\u001b[0m \u001b[0mvalue\u001b[0m\u001b[1;33m=\u001b[0m\u001b[0mlist\u001b[0m\u001b[1;33m(\u001b[0m\u001b[0mcount_arrear_mths_1yr\u001b[0m\u001b[1;33m)\u001b[0m\u001b[1;33m)\u001b[0m\u001b[1;33m\u001b[0m\u001b[1;33m\u001b[0m\u001b[0m\n\u001b[0m\u001b[0;32m      2\u001b[0m \u001b[0mfinal_data_wdemo\u001b[0m\u001b[1;33m.\u001b[0m\u001b[0mhead\u001b[0m\u001b[1;33m(\u001b[0m\u001b[1;33m)\u001b[0m\u001b[1;33m\u001b[0m\u001b[1;33m\u001b[0m\u001b[0m\n",
      "\u001b[1;32m~\\Anaconda3\\lib\\site-packages\\pandas\\core\\frame.py\u001b[0m in \u001b[0;36minsert\u001b[1;34m(self, loc, column, value, allow_duplicates)\u001b[0m\n\u001b[0;32m   3471\u001b[0m         \u001b[0mvalue\u001b[0m \u001b[1;33m=\u001b[0m \u001b[0mself\u001b[0m\u001b[1;33m.\u001b[0m\u001b[0m_sanitize_column\u001b[0m\u001b[1;33m(\u001b[0m\u001b[0mcolumn\u001b[0m\u001b[1;33m,\u001b[0m \u001b[0mvalue\u001b[0m\u001b[1;33m,\u001b[0m \u001b[0mbroadcast\u001b[0m\u001b[1;33m=\u001b[0m\u001b[1;32mFalse\u001b[0m\u001b[1;33m)\u001b[0m\u001b[1;33m\u001b[0m\u001b[1;33m\u001b[0m\u001b[0m\n\u001b[0;32m   3472\u001b[0m         self._data.insert(loc, column, value,\n\u001b[1;32m-> 3473\u001b[1;33m                           allow_duplicates=allow_duplicates)\n\u001b[0m\u001b[0;32m   3474\u001b[0m \u001b[1;33m\u001b[0m\u001b[0m\n\u001b[0;32m   3475\u001b[0m     \u001b[1;32mdef\u001b[0m \u001b[0massign\u001b[0m\u001b[1;33m(\u001b[0m\u001b[0mself\u001b[0m\u001b[1;33m,\u001b[0m \u001b[1;33m**\u001b[0m\u001b[0mkwargs\u001b[0m\u001b[1;33m)\u001b[0m\u001b[1;33m:\u001b[0m\u001b[1;33m\u001b[0m\u001b[1;33m\u001b[0m\u001b[0m\n",
      "\u001b[1;32m~\\Anaconda3\\lib\\site-packages\\pandas\\core\\internals\\managers.py\u001b[0m in \u001b[0;36minsert\u001b[1;34m(self, loc, item, value, allow_duplicates)\u001b[0m\n\u001b[0;32m   1147\u001b[0m         \u001b[1;32mif\u001b[0m \u001b[1;32mnot\u001b[0m \u001b[0mallow_duplicates\u001b[0m \u001b[1;32mand\u001b[0m \u001b[0mitem\u001b[0m \u001b[1;32min\u001b[0m \u001b[0mself\u001b[0m\u001b[1;33m.\u001b[0m\u001b[0mitems\u001b[0m\u001b[1;33m:\u001b[0m\u001b[1;33m\u001b[0m\u001b[1;33m\u001b[0m\u001b[0m\n\u001b[0;32m   1148\u001b[0m             \u001b[1;31m# Should this be a different kind of error??\u001b[0m\u001b[1;33m\u001b[0m\u001b[1;33m\u001b[0m\u001b[1;33m\u001b[0m\u001b[0m\n\u001b[1;32m-> 1149\u001b[1;33m             \u001b[1;32mraise\u001b[0m \u001b[0mValueError\u001b[0m\u001b[1;33m(\u001b[0m\u001b[1;34m'cannot insert {}, already exists'\u001b[0m\u001b[1;33m.\u001b[0m\u001b[0mformat\u001b[0m\u001b[1;33m(\u001b[0m\u001b[0mitem\u001b[0m\u001b[1;33m)\u001b[0m\u001b[1;33m)\u001b[0m\u001b[1;33m\u001b[0m\u001b[1;33m\u001b[0m\u001b[0m\n\u001b[0m\u001b[0;32m   1150\u001b[0m \u001b[1;33m\u001b[0m\u001b[0m\n\u001b[0;32m   1151\u001b[0m         \u001b[1;32mif\u001b[0m \u001b[1;32mnot\u001b[0m \u001b[0misinstance\u001b[0m\u001b[1;33m(\u001b[0m\u001b[0mloc\u001b[0m\u001b[1;33m,\u001b[0m \u001b[0mint\u001b[0m\u001b[1;33m)\u001b[0m\u001b[1;33m:\u001b[0m\u001b[1;33m\u001b[0m\u001b[1;33m\u001b[0m\u001b[0m\n",
      "\u001b[1;31mValueError\u001b[0m: cannot insert count_arrear_mths_1yr, already exists"
     ]
    }
   ],
   "source": [
    "final_data_wdemo.insert(loc=7, column='count_arrear_mths_1yr', value=list(count_arrear_mths_1yr))\n",
    "final_data_wdemo.head()"
   ]
  },
  {
   "cell_type": "markdown",
   "metadata": {},
   "source": [
    "In the above dataframe, the 'risk_rating' is previously described depedent variable in the machine learning exericse. We have added in a new feature, count_arrer_mths_1yr which counts the number of times a tenant misses or underpayes rent for the property. We are including this in the model to be used as an early warning indicator for long-term arrears. Hence, as mentioned, this independent variable (count_arrear_mths_1yr) cannot be used for new tenants but rather for existing tenants who have a payment history. "
   ]
  },
  {
   "cell_type": "markdown",
   "metadata": {},
   "source": [
    "## Objective 1: Who's likely to fall behind on payments for over 6 months and who's likely to catch up."
   ]
  },
  {
   "cell_type": "code",
   "execution_count": 28,
   "metadata": {},
   "outputs": [
    {
     "name": "stdout",
     "output_type": "stream",
     "text": [
      "There are 581 instances of tenants having long term arrears\n"
     ]
    }
   ],
   "source": [
    "long_term_arrear = final_data_wdemo.loc[final_data['risk_rating']==2]\n",
    "print('There are {} instances of tenants having long term arrears'.format(len(long_term_arrear)))"
   ]
  },
  {
   "cell_type": "code",
   "execution_count": 29,
   "metadata": {},
   "outputs": [],
   "source": [
    "short_term_arrear = final_data_wdemo.loc[final_data['risk_rating']==0]\n",
    "mid_term_arrear = final_data_wdemo.loc[final_data['risk_rating']==1]\n",
    "long_term_arrear = final_data_wdemo.loc[final_data['risk_rating']==2]"
   ]
  },
  {
   "cell_type": "markdown",
   "metadata": {},
   "source": [
    "The above code-chunk tells us who are the individuals who belong to the respective categories of default risk based on our analysis of the payment history. "
   ]
  },
  {
   "cell_type": "code",
   "execution_count": 30,
   "metadata": {},
   "outputs": [
    {
     "data": {
      "text/html": [
       "<div>\n",
       "<style scoped>\n",
       "    .dataframe tbody tr th:only-of-type {\n",
       "        vertical-align: middle;\n",
       "    }\n",
       "\n",
       "    .dataframe tbody tr th {\n",
       "        vertical-align: top;\n",
       "    }\n",
       "\n",
       "    .dataframe thead th {\n",
       "        text-align: right;\n",
       "    }\n",
       "</style>\n",
       "<table border=\"1\" class=\"dataframe\">\n",
       "  <thead>\n",
       "    <tr style=\"text-align: right;\">\n",
       "      <th></th>\n",
       "      <th>house_zip</th>\n",
       "      <th>dob</th>\n",
       "      <th>rent_amount</th>\n",
       "      <th>count_arrear_mths_1yr</th>\n",
       "      <th>risk_rating</th>\n",
       "      <th>avg_family_size</th>\n",
       "      <th>perc_white</th>\n",
       "      <th>perc_hh_bel_pvl</th>\n",
       "    </tr>\n",
       "  </thead>\n",
       "  <tbody>\n",
       "    <tr>\n",
       "      <th>0</th>\n",
       "      <td>92194</td>\n",
       "      <td>1975.0</td>\n",
       "      <td>1720.0</td>\n",
       "      <td>0.0</td>\n",
       "      <td>0</td>\n",
       "      <td>2.97</td>\n",
       "      <td>0.60</td>\n",
       "      <td>0.0</td>\n",
       "    </tr>\n",
       "    <tr>\n",
       "      <th>1</th>\n",
       "      <td>92198</td>\n",
       "      <td>1975.0</td>\n",
       "      <td>1619.0</td>\n",
       "      <td>0.0</td>\n",
       "      <td>0</td>\n",
       "      <td>2.97</td>\n",
       "      <td>0.60</td>\n",
       "      <td>0.0</td>\n",
       "    </tr>\n",
       "    <tr>\n",
       "      <th>2</th>\n",
       "      <td>92161</td>\n",
       "      <td>1975.0</td>\n",
       "      <td>1143.0</td>\n",
       "      <td>0.4</td>\n",
       "      <td>2</td>\n",
       "      <td>2.97</td>\n",
       "      <td>0.60</td>\n",
       "      <td>0.0</td>\n",
       "    </tr>\n",
       "    <tr>\n",
       "      <th>3</th>\n",
       "      <td>92107</td>\n",
       "      <td>1975.0</td>\n",
       "      <td>1802.0</td>\n",
       "      <td>0.0</td>\n",
       "      <td>0</td>\n",
       "      <td>2.69</td>\n",
       "      <td>0.92</td>\n",
       "      <td>0.0</td>\n",
       "    </tr>\n",
       "    <tr>\n",
       "      <th>4</th>\n",
       "      <td>92160</td>\n",
       "      <td>1975.0</td>\n",
       "      <td>1269.0</td>\n",
       "      <td>0.0</td>\n",
       "      <td>0</td>\n",
       "      <td>2.97</td>\n",
       "      <td>0.60</td>\n",
       "      <td>0.0</td>\n",
       "    </tr>\n",
       "    <tr>\n",
       "      <th>5</th>\n",
       "      <td>92169</td>\n",
       "      <td>1975.0</td>\n",
       "      <td>1650.0</td>\n",
       "      <td>0.4</td>\n",
       "      <td>0</td>\n",
       "      <td>2.97</td>\n",
       "      <td>0.60</td>\n",
       "      <td>0.0</td>\n",
       "    </tr>\n",
       "    <tr>\n",
       "      <th>6</th>\n",
       "      <td>92172</td>\n",
       "      <td>1975.0</td>\n",
       "      <td>948.0</td>\n",
       "      <td>0.0</td>\n",
       "      <td>0</td>\n",
       "      <td>2.97</td>\n",
       "      <td>0.60</td>\n",
       "      <td>0.0</td>\n",
       "    </tr>\n",
       "    <tr>\n",
       "      <th>7</th>\n",
       "      <td>92124</td>\n",
       "      <td>1975.0</td>\n",
       "      <td>1279.0</td>\n",
       "      <td>0.0</td>\n",
       "      <td>0</td>\n",
       "      <td>3.27</td>\n",
       "      <td>0.71</td>\n",
       "      <td>0.0</td>\n",
       "    </tr>\n",
       "    <tr>\n",
       "      <th>8</th>\n",
       "      <td>92127</td>\n",
       "      <td>1975.0</td>\n",
       "      <td>1446.0</td>\n",
       "      <td>2.0</td>\n",
       "      <td>0</td>\n",
       "      <td>3.35</td>\n",
       "      <td>0.52</td>\n",
       "      <td>0.0</td>\n",
       "    </tr>\n",
       "    <tr>\n",
       "      <th>9</th>\n",
       "      <td>92161</td>\n",
       "      <td>1975.0</td>\n",
       "      <td>1531.0</td>\n",
       "      <td>0.0</td>\n",
       "      <td>0</td>\n",
       "      <td>2.97</td>\n",
       "      <td>0.60</td>\n",
       "      <td>0.0</td>\n",
       "    </tr>\n",
       "  </tbody>\n",
       "</table>\n",
       "</div>"
      ],
      "text/plain": [
       "  house_zip     dob  rent_amount  count_arrear_mths_1yr  risk_rating  \\\n",
       "0     92194  1975.0       1720.0                    0.0            0   \n",
       "1     92198  1975.0       1619.0                    0.0            0   \n",
       "2     92161  1975.0       1143.0                    0.4            2   \n",
       "3     92107  1975.0       1802.0                    0.0            0   \n",
       "4     92160  1975.0       1269.0                    0.0            0   \n",
       "5     92169  1975.0       1650.0                    0.4            0   \n",
       "6     92172  1975.0        948.0                    0.0            0   \n",
       "7     92124  1975.0       1279.0                    0.0            0   \n",
       "8     92127  1975.0       1446.0                    2.0            0   \n",
       "9     92161  1975.0       1531.0                    0.0            0   \n",
       "\n",
       "   avg_family_size  perc_white  perc_hh_bel_pvl  \n",
       "0             2.97        0.60              0.0  \n",
       "1             2.97        0.60              0.0  \n",
       "2             2.97        0.60              0.0  \n",
       "3             2.69        0.92              0.0  \n",
       "4             2.97        0.60              0.0  \n",
       "5             2.97        0.60              0.0  \n",
       "6             2.97        0.60              0.0  \n",
       "7             3.27        0.71              0.0  \n",
       "8             3.35        0.52              0.0  \n",
       "9             2.97        0.60              0.0  "
      ]
     },
     "execution_count": 30,
     "metadata": {},
     "output_type": "execute_result"
    }
   ],
   "source": [
    "final_data_wdemo = final_data_wdemo.drop(['name','house_id','overall_arrear','monthly_arrear','arrear_max_duration'], axis = 1)\n",
    "final_data_wdemo.head(10)"
   ]
  },
  {
   "cell_type": "markdown",
   "metadata": {},
   "source": [
    "The above is the dataset to be used for machine learning. Here, only the 'risk_rating' column is dependent variable. The rest of the columns are features that can be used to determine the output of the dependent variable and will be referred to as independent variables. Their predictive powers will be analysed in the next objective. "
   ]
  },
  {
   "cell_type": "code",
   "execution_count": 31,
   "metadata": {},
   "outputs": [
    {
     "name": "stdout",
     "output_type": "stream",
     "text": [
      "There are 2470 rows of data\n"
     ]
    }
   ],
   "source": [
    "print('There are {} rows of data'. format(len(final_data_wdemo)))"
   ]
  },
  {
   "cell_type": "markdown",
   "metadata": {},
   "source": [
    "## Objective 2: Is there a single factor with the strongest predictive power?"
   ]
  },
  {
   "cell_type": "code",
   "execution_count": 32,
   "metadata": {},
   "outputs": [
    {
     "name": "stdout",
     "output_type": "stream",
     "text": [
      "[0.28044678 0.10858401 0.61096922]\n"
     ]
    },
    {
     "name": "stderr",
     "output_type": "stream",
     "text": [
      "C:\\Users\\Fay_Asus\\Anaconda3\\lib\\site-packages\\sklearn\\ensemble\\forest.py:245: FutureWarning: The default value of n_estimators will change from 10 in version 0.20 to 100 in 0.22.\n",
      "  \"10 in version 0.20 to 100 in 0.22.\", FutureWarning)\n"
     ]
    },
    {
     "data": {
      "text/plain": [
       "<Figure size 640x480 with 1 Axes>"
      ]
     },
     "metadata": {},
     "output_type": "display_data"
    }
   ],
   "source": [
    "# lets start with a simple set of regressors for the prediction - house_zip, dob and rent_amount. This would be available for any\n",
    "# newly added tenant and we would be able to predict with some degree of accuracy their risk rating. \n",
    "\n",
    "X1 = final_data_wdemo.drop(['count_arrear_mths_1yr','risk_rating', 'avg_family_size', 'perc_white', 'perc_hh_bel_pvl'], axis=1)\n",
    "Y1 = final_data_wdemo['risk_rating']\n",
    "\n",
    "from sklearn.ensemble import ExtraTreesClassifier\n",
    "import matplotlib.pyplot as plt\n",
    "model = ExtraTreesClassifier()\n",
    "model.fit(X1,Y1)\n",
    "print(model.feature_importances_) \n",
    "\n",
    "#plot graph of feature importance\n",
    "feat_importances = pd.Series(model.feature_importances_, index=X1.columns)\n",
    "feat_importances.plot(kind='barh')\n",
    "plt.show()"
   ]
  },
  {
   "cell_type": "markdown",
   "metadata": {},
   "source": [
    "Based on the feature importance inbuilt class, the factor with the highest predictive power, from the current regressors, appears to be rent_amount. We can try to build a predictive model for the above 3 independent variables and determine the accuracy of the model. "
   ]
  },
  {
   "cell_type": "markdown",
   "metadata": {},
   "source": [
    "We can conduct the above test on an extrapolated model, including the demographic related features which could also be obtained, given the zip code, for a newly added in tenant. Hence this model too can be used for newly added in tenants. "
   ]
  },
  {
   "cell_type": "code",
   "execution_count": 33,
   "metadata": {},
   "outputs": [
    {
     "name": "stdout",
     "output_type": "stream",
     "text": [
      "[1.44688420e-01 1.09634202e-01 6.97216159e-01 2.41986630e-02\n",
      " 2.35935315e-02 6.69024476e-04]\n"
     ]
    },
    {
     "name": "stderr",
     "output_type": "stream",
     "text": [
      "C:\\Users\\Fay_Asus\\Anaconda3\\lib\\site-packages\\sklearn\\ensemble\\forest.py:245: FutureWarning: The default value of n_estimators will change from 10 in version 0.20 to 100 in 0.22.\n",
      "  \"10 in version 0.20 to 100 in 0.22.\", FutureWarning)\n"
     ]
    },
    {
     "data": {
      "image/png": "[encoded data removed]",
      "text/plain": [
       "<Figure size 432x288 with 1 Axes>"
      ]
     },
     "metadata": {
      "needs_background": "light"
     },
     "output_type": "display_data"
    }
   ],
   "source": [
    "X2 = final_data_wdemo.drop(['count_arrear_mths_1yr','risk_rating'], axis=1)\n",
    "Y1 = final_data_wdemo['risk_rating']\n",
    "model = ExtraTreesClassifier()\n",
    "model.fit(X2,Y1)\n",
    "print(model.feature_importances_) \n",
    "\n",
    "#plot graph of feature importance\n",
    "feat_importances = pd.Series(model.feature_importances_, index=X2.columns)\n",
    "feat_importances.plot(kind='barh')\n",
    "plt.show()"
   ]
  },
  {
   "cell_type": "markdown",
   "metadata": {},
   "source": [
    "In the above figure, it can be seen that the demographic features added, have very little predictive power in comparison to the rent_amount, dob, or house_zip. This could be because of the large amount of missing data for those 3 features for 43 zipcodes(81-38). We had used imputed values for these missing NA values, which explains the poor predictive power of these features. \n",
    "\n",
    "As discussed earlier, 'perc_hh_bel_pvl' has almost negligible predictive power. This could be because, most of the values in this field were set as 0 (which might be wrong). Hence, the data from the source was already significantly incomplete. Hence, we should drop this variable from subsequent models altogether. "
   ]
  },
  {
   "cell_type": "markdown",
   "metadata": {},
   "source": [
    "The above independent variables are used in the case where we want to predict the risk rating of a newly added tenant who has no payment history. However, for existing tenants as in the given data set we would also include the 'count_arrear_mths_1yr' variable as discussed above. So now the realtive feature importances become."
   ]
  },
  {
   "cell_type": "code",
   "execution_count": 34,
   "metadata": {},
   "outputs": [
    {
     "name": "stdout",
     "output_type": "stream",
     "text": [
      "[0.08969754 0.0479646  0.18334315 0.62326254 0.02627623 0.02740325\n",
      " 0.00205269]\n"
     ]
    },
    {
     "name": "stderr",
     "output_type": "stream",
     "text": [
      "C:\\Users\\Fay_Asus\\Anaconda3\\lib\\site-packages\\sklearn\\ensemble\\forest.py:245: FutureWarning: The default value of n_estimators will change from 10 in version 0.20 to 100 in 0.22.\n",
      "  \"10 in version 0.20 to 100 in 0.22.\", FutureWarning)\n"
     ]
    },
    {
     "data": {
      "image/png": "[encoded data removed]",
      "text/plain": [
       "<Figure size 432x288 with 1 Axes>"
      ]
     },
     "metadata": {
      "needs_background": "light"
     },
     "output_type": "display_data"
    }
   ],
   "source": [
    "X3 = final_data_wdemo.drop(['risk_rating'], axis=1)\n",
    "Y1 = final_data['risk_rating']\n",
    "\n",
    "model = ExtraTreesClassifier()\n",
    "model.fit(X3,Y1)\n",
    "print(model.feature_importances_) \n",
    "\n",
    "#plot graph of feature importance\n",
    "feat_importances = pd.Series(model.feature_importances_, index=X3.columns)\n",
    "feat_importances.plot(kind='barh')\n",
    "plt.show()"
   ]
  },
  {
   "cell_type": "markdown",
   "metadata": {},
   "source": [
    "It can be seen that 'count_arrear_mths_1yr' is a strong feature in comparison to the rest of the features in predicting the risk rating of the tenants. This is because a risk of default strongly depends on how often a person makes a deficit (or 0) payment for his rent. Indeed this would cause him to roll his arrears and send him into a spiral of long term arrear. "
   ]
  },
  {
   "cell_type": "code",
   "execution_count": 35,
   "metadata": {},
   "outputs": [
    {
     "data": {
      "text/html": [
       "<div>\n",
       "<style scoped>\n",
       "    .dataframe tbody tr th:only-of-type {\n",
       "        vertical-align: middle;\n",
       "    }\n",
       "\n",
       "    .dataframe tbody tr th {\n",
       "        vertical-align: top;\n",
       "    }\n",
       "\n",
       "    .dataframe thead th {\n",
       "        text-align: right;\n",
       "    }\n",
       "</style>\n",
       "<table border=\"1\" class=\"dataframe\">\n",
       "  <thead>\n",
       "    <tr style=\"text-align: right;\">\n",
       "      <th></th>\n",
       "      <th>house_zip</th>\n",
       "      <th>dob</th>\n",
       "      <th>rent_amount</th>\n",
       "      <th>count_arrear_mths_1yr</th>\n",
       "      <th>risk_rating</th>\n",
       "      <th>avg_family_size</th>\n",
       "      <th>perc_white</th>\n",
       "    </tr>\n",
       "  </thead>\n",
       "  <tbody>\n",
       "    <tr>\n",
       "      <th>0</th>\n",
       "      <td>92194</td>\n",
       "      <td>1975.0</td>\n",
       "      <td>1720.0</td>\n",
       "      <td>0.0</td>\n",
       "      <td>0</td>\n",
       "      <td>2.97</td>\n",
       "      <td>0.60</td>\n",
       "    </tr>\n",
       "    <tr>\n",
       "      <th>1</th>\n",
       "      <td>92198</td>\n",
       "      <td>1975.0</td>\n",
       "      <td>1619.0</td>\n",
       "      <td>0.0</td>\n",
       "      <td>0</td>\n",
       "      <td>2.97</td>\n",
       "      <td>0.60</td>\n",
       "    </tr>\n",
       "    <tr>\n",
       "      <th>2</th>\n",
       "      <td>92161</td>\n",
       "      <td>1975.0</td>\n",
       "      <td>1143.0</td>\n",
       "      <td>0.4</td>\n",
       "      <td>2</td>\n",
       "      <td>2.97</td>\n",
       "      <td>0.60</td>\n",
       "    </tr>\n",
       "    <tr>\n",
       "      <th>3</th>\n",
       "      <td>92107</td>\n",
       "      <td>1975.0</td>\n",
       "      <td>1802.0</td>\n",
       "      <td>0.0</td>\n",
       "      <td>0</td>\n",
       "      <td>2.69</td>\n",
       "      <td>0.92</td>\n",
       "    </tr>\n",
       "    <tr>\n",
       "      <th>4</th>\n",
       "      <td>92160</td>\n",
       "      <td>1975.0</td>\n",
       "      <td>1269.0</td>\n",
       "      <td>0.0</td>\n",
       "      <td>0</td>\n",
       "      <td>2.97</td>\n",
       "      <td>0.60</td>\n",
       "    </tr>\n",
       "    <tr>\n",
       "      <th>5</th>\n",
       "      <td>92169</td>\n",
       "      <td>1975.0</td>\n",
       "      <td>1650.0</td>\n",
       "      <td>0.4</td>\n",
       "      <td>0</td>\n",
       "      <td>2.97</td>\n",
       "      <td>0.60</td>\n",
       "    </tr>\n",
       "    <tr>\n",
       "      <th>6</th>\n",
       "      <td>92172</td>\n",
       "      <td>1975.0</td>\n",
       "      <td>948.0</td>\n",
       "      <td>0.0</td>\n",
       "      <td>0</td>\n",
       "      <td>2.97</td>\n",
       "      <td>0.60</td>\n",
       "    </tr>\n",
       "    <tr>\n",
       "      <th>7</th>\n",
       "      <td>92124</td>\n",
       "      <td>1975.0</td>\n",
       "      <td>1279.0</td>\n",
       "      <td>0.0</td>\n",
       "      <td>0</td>\n",
       "      <td>3.27</td>\n",
       "      <td>0.71</td>\n",
       "    </tr>\n",
       "    <tr>\n",
       "      <th>8</th>\n",
       "      <td>92127</td>\n",
       "      <td>1975.0</td>\n",
       "      <td>1446.0</td>\n",
       "      <td>2.0</td>\n",
       "      <td>0</td>\n",
       "      <td>3.35</td>\n",
       "      <td>0.52</td>\n",
       "    </tr>\n",
       "    <tr>\n",
       "      <th>9</th>\n",
       "      <td>92161</td>\n",
       "      <td>1975.0</td>\n",
       "      <td>1531.0</td>\n",
       "      <td>0.0</td>\n",
       "      <td>0</td>\n",
       "      <td>2.97</td>\n",
       "      <td>0.60</td>\n",
       "    </tr>\n",
       "  </tbody>\n",
       "</table>\n",
       "</div>"
      ],
      "text/plain": [
       "  house_zip     dob  rent_amount  count_arrear_mths_1yr  risk_rating  \\\n",
       "0     92194  1975.0       1720.0                    0.0            0   \n",
       "1     92198  1975.0       1619.0                    0.0            0   \n",
       "2     92161  1975.0       1143.0                    0.4            2   \n",
       "3     92107  1975.0       1802.0                    0.0            0   \n",
       "4     92160  1975.0       1269.0                    0.0            0   \n",
       "5     92169  1975.0       1650.0                    0.4            0   \n",
       "6     92172  1975.0        948.0                    0.0            0   \n",
       "7     92124  1975.0       1279.0                    0.0            0   \n",
       "8     92127  1975.0       1446.0                    2.0            0   \n",
       "9     92161  1975.0       1531.0                    0.0            0   \n",
       "\n",
       "   avg_family_size  perc_white  \n",
       "0             2.97        0.60  \n",
       "1             2.97        0.60  \n",
       "2             2.97        0.60  \n",
       "3             2.69        0.92  \n",
       "4             2.97        0.60  \n",
       "5             2.97        0.60  \n",
       "6             2.97        0.60  \n",
       "7             3.27        0.71  \n",
       "8             3.35        0.52  \n",
       "9             2.97        0.60  "
      ]
     },
     "execution_count": 35,
     "metadata": {},
     "output_type": "execute_result"
    }
   ],
   "source": [
    "# dropping perc_hh_bel_pvl variable from the data set owing to its low predictive power. \n",
    "final_data_wdemo = final_data_wdemo.drop(['perc_hh_bel_pvl'], axis = 1)\n",
    "final_data_wdemo.head(10)"
   ]
  },
  {
   "cell_type": "markdown",
   "metadata": {},
   "source": [
    "## Objective 3 & 4: Predictive model for each of the tenants distinguishing between short, medium and long term arrears (in terms of risk ratings)"
   ]
  },
  {
   "cell_type": "code",
   "execution_count": 36,
   "metadata": {},
   "outputs": [
    {
     "name": "stderr",
     "output_type": "stream",
     "text": [
      "C:\\Users\\Fay_Asus\\Anaconda3\\lib\\site-packages\\sklearn\\externals\\six.py:31: DeprecationWarning: The module is deprecated in version 0.21 and will be removed in version 0.23 since we've dropped support for Python 2.7. Please rely on the official version of six (https://pypi.org/project/six/).\n",
      "  \"(https://pypi.org/project/six/).\", DeprecationWarning)\n"
     ]
    }
   ],
   "source": [
    "# import machine learning librarires\n",
    "\n",
    "from sklearn import metrics\n",
    "from sklearn.utils import shuffle\n",
    "from sklearn import tree\n",
    "from sklearn.tree import export_graphviz\n",
    "from sklearn.tree import DecisionTreeClassifier\n",
    "from sklearn.externals.six import StringIO  \n",
    "from sklearn.metrics import confusion_matrix\n",
    "from IPython.display import Image  \n",
    "import pydotplus\n"
   ]
  },
  {
   "cell_type": "markdown",
   "metadata": {},
   "source": [
    "We'll be developing 2 models: \n",
    "\n",
    "(1) New_tenants: for newly added in tenants which would include the following variables:  \n",
    "  \n",
    "* house_zip\n",
    "* dob\n",
    "* rent_amount\n",
    "* avg_family_size\n",
    "* perc_white\n",
    "\n",
    "These are variables that are readily available for any newly added in tenant. This model can be used for predicting if a newly added in tenant will have a risk of defaulting. \n",
    "\n",
    "(2) Exist_tenants: for existing tenants in the database with a payment history, which would include the following variables: \n",
    "\n",
    "* house_zip\n",
    "* dob\n",
    "* rent_amount\n",
    "* avg_family_size\n",
    "* perc_white\n",
    "* count_arrear_mths_1yr"
   ]
  },
  {
   "cell_type": "code",
   "execution_count": 37,
   "metadata": {},
   "outputs": [],
   "source": [
    "final_data1 = shuffle(final_data_wdemo, random_state = 2) #set fixed seed for shuffle to shuffle once only\n",
    "trg_data = final_data1.iloc[:1200]\n",
    "val_data = final_data1.iloc[1200:1800]\n",
    "test_data = final_data1.iloc[1800:]"
   ]
  },
  {
   "cell_type": "code",
   "execution_count": 38,
   "metadata": {},
   "outputs": [
    {
     "data": {
      "text/html": [
       "<div>\n",
       "<style scoped>\n",
       "    .dataframe tbody tr th:only-of-type {\n",
       "        vertical-align: middle;\n",
       "    }\n",
       "\n",
       "    .dataframe tbody tr th {\n",
       "        vertical-align: top;\n",
       "    }\n",
       "\n",
       "    .dataframe thead th {\n",
       "        text-align: right;\n",
       "    }\n",
       "</style>\n",
       "<table border=\"1\" class=\"dataframe\">\n",
       "  <thead>\n",
       "    <tr style=\"text-align: right;\">\n",
       "      <th></th>\n",
       "      <th>house_zip</th>\n",
       "      <th>dob</th>\n",
       "      <th>rent_amount</th>\n",
       "      <th>count_arrear_mths_1yr</th>\n",
       "      <th>risk_rating</th>\n",
       "      <th>avg_family_size</th>\n",
       "      <th>perc_white</th>\n",
       "    </tr>\n",
       "  </thead>\n",
       "  <tbody>\n",
       "    <tr>\n",
       "      <th>347</th>\n",
       "      <td>92153</td>\n",
       "      <td>1975.0</td>\n",
       "      <td>1237.0</td>\n",
       "      <td>0.8</td>\n",
       "      <td>0</td>\n",
       "      <td>2.97</td>\n",
       "      <td>0.60</td>\n",
       "    </tr>\n",
       "    <tr>\n",
       "      <th>1441</th>\n",
       "      <td>92179</td>\n",
       "      <td>1986.0</td>\n",
       "      <td>1399.0</td>\n",
       "      <td>0.4</td>\n",
       "      <td>0</td>\n",
       "      <td>2.97</td>\n",
       "      <td>0.60</td>\n",
       "    </tr>\n",
       "    <tr>\n",
       "      <th>2229</th>\n",
       "      <td>92129</td>\n",
       "      <td>1975.0</td>\n",
       "      <td>1700.0</td>\n",
       "      <td>3.4</td>\n",
       "      <td>1</td>\n",
       "      <td>3.30</td>\n",
       "      <td>0.48</td>\n",
       "    </tr>\n",
       "    <tr>\n",
       "      <th>1777</th>\n",
       "      <td>92113</td>\n",
       "      <td>1975.0</td>\n",
       "      <td>1822.0</td>\n",
       "      <td>0.0</td>\n",
       "      <td>0</td>\n",
       "      <td>4.28</td>\n",
       "      <td>0.63</td>\n",
       "    </tr>\n",
       "    <tr>\n",
       "      <th>140</th>\n",
       "      <td>92196</td>\n",
       "      <td>1975.0</td>\n",
       "      <td>1565.0</td>\n",
       "      <td>0.0</td>\n",
       "      <td>0</td>\n",
       "      <td>2.97</td>\n",
       "      <td>0.60</td>\n",
       "    </tr>\n",
       "  </tbody>\n",
       "</table>\n",
       "</div>"
      ],
      "text/plain": [
       "     house_zip     dob  rent_amount  count_arrear_mths_1yr  risk_rating  \\\n",
       "347      92153  1975.0       1237.0                    0.8            0   \n",
       "1441     92179  1986.0       1399.0                    0.4            0   \n",
       "2229     92129  1975.0       1700.0                    3.4            1   \n",
       "1777     92113  1975.0       1822.0                    0.0            0   \n",
       "140      92196  1975.0       1565.0                    0.0            0   \n",
       "\n",
       "      avg_family_size  perc_white  \n",
       "347              2.97        0.60  \n",
       "1441             2.97        0.60  \n",
       "2229             3.30        0.48  \n",
       "1777             4.28        0.63  \n",
       "140              2.97        0.60  "
      ]
     },
     "execution_count": 38,
     "metadata": {},
     "output_type": "execute_result"
    }
   ],
   "source": [
    "trg_data.head()"
   ]
  },
  {
   "cell_type": "code",
   "execution_count": 39,
   "metadata": {},
   "outputs": [
    {
     "name": "stdout",
     "output_type": "stream",
     "text": [
      "Accuracy on validation set using new_tenants model:  59.8 %\n"
     ]
    }
   ],
   "source": [
    "# for New_tenants model\n",
    "X_trg_data1 = trg_data.drop(columns = ['count_arrear_mths_1yr', 'risk_rating'])\n",
    "Y_trg_data1 = trg_data['risk_rating']\n",
    "\n",
    "\n",
    "X_val_data1 = val_data.drop(columns = ['count_arrear_mths_1yr', 'risk_rating'])\n",
    "Y_val_data1 = val_data['risk_rating']\n",
    "\n",
    "X_test_data1 = test_data.drop(columns = ['count_arrear_mths_1yr', 'risk_rating'])\n",
    "Y_test_data1 = test_data['risk_rating']\n",
    "\n",
    "#train the model on training data\n",
    "new_tenants = DecisionTreeClassifier()\n",
    "new_tenants_tree = new_tenants.fit(X_trg_data1,Y_trg_data1)\n",
    "\n",
    "# calculate the accuracy of this tree on validation set\n",
    "y_pred_on_val = new_tenants_tree.predict(X_val_data1)\n",
    "print(\"Accuracy on validation set using new_tenants model: \", round(metrics.accuracy_score(Y_val_data1,y_pred_on_val)*100,1),'%')"
   ]
  },
  {
   "cell_type": "code",
   "execution_count": 40,
   "metadata": {},
   "outputs": [
    {
     "name": "stdout",
     "output_type": "stream",
     "text": [
      "Accuracy on validation set using exist_tenants model:  82.0 %\n"
     ]
    }
   ],
   "source": [
    "# for Exist_tenants model\n",
    "X_trg_data2 = trg_data.drop(columns = ['risk_rating'])\n",
    "Y_trg_data1 = trg_data['risk_rating']\n",
    "\n",
    "\n",
    "X_val_data2 = val_data.drop(columns = ['risk_rating'])\n",
    "Y_val_data1 = val_data['risk_rating']\n",
    "\n",
    "X_test_data2 = test_data.drop(columns = ['risk_rating'])\n",
    "Y_test_data1 = test_data['risk_rating']\n",
    "\n",
    "#train the model on training data\n",
    "exist_tenants = DecisionTreeClassifier()\n",
    "exist_tenants_tree = exist_tenants.fit(X_trg_data2,Y_trg_data1)\n",
    "\n",
    "# calculate the accuracy of this tree on validation set\n",
    "y_pred_on_val = exist_tenants_tree.predict(X_val_data2)\n",
    "print(\"Accuracy on validation set using exist_tenants model: \", round(metrics.accuracy_score(Y_val_data1,y_pred_on_val)*100,1),'%')"
   ]
  },
  {
   "cell_type": "markdown",
   "metadata": {},
   "source": [
    "It can be seen that the accuracy of the new_tenants model on the validation dataset (using decision tree classifier) is lower, under 60%. This is expected as only one of the indepedent features (rent_amount) is a reasonably strong predictor. The others are poor indicators: \n",
    "- dob, which had many datapoints that were missing due to erroneous data entry\n",
    "- house_zip which is actually a variable with much more implicit information but owing to its numerical chanracteristic, it will be taken as a continuous numerical variable by the model. Hence, expected to have low accuracy.\n",
    "- Other demographic variables which we already established as having poor predictive power. \n",
    "\n",
    "However, in the exist_tenants model, we have more information on the tenants based on their payment history which is very powerful in predicting the risk of default of an individual. Hence, this model has a very high accuracy on the validation dataset (using decision tree classifier) around 83%. \n",
    "\n",
    "#### We'll perform further analysis based on the exist_tenants model applying other machine learning approaches with this model to evaluate the accuracy. "
   ]
  },
  {
   "cell_type": "code",
   "execution_count": 41,
   "metadata": {},
   "outputs": [
    {
     "name": "stdout",
     "output_type": "stream",
     "text": [
      "Depth of tree:  23\n"
     ]
    }
   ],
   "source": [
    "# check the current depth of exist_tenants_tree\n",
    "print('Depth of tree: ', exist_tenants_tree.tree_.max_depth)"
   ]
  },
  {
   "cell_type": "code",
   "execution_count": 42,
   "metadata": {},
   "outputs": [
    {
     "name": "stdout",
     "output_type": "stream",
     "text": [
      "[1, 2, 3, 4, 5, 6, 7, 8, 9, 10, 11, 12, 13, 14, 15, 16, 17, 18, 19, 20, 21, 22, 23]\n",
      "[0.901, 0.908, 0.908, 0.91, 0.912, 0.918, 0.923, 0.928, 0.938, 0.945, 0.948, 0.957, 0.963, 0.97, 0.975, 0.987, 0.991, 0.992, 0.995, 0.998, 0.998, 0.999, 1.0]\n",
      "[0.88, 0.877, 0.877, 0.87, 0.87, 0.867, 0.868, 0.863, 0.863, 0.852, 0.85, 0.842, 0.843, 0.837, 0.842, 0.835, 0.82, 0.823, 0.827, 0.823, 0.822, 0.825, 0.828]\n"
     ]
    }
   ],
   "source": [
    "# post pruning of the tree\n",
    "\n",
    "tree_0 = exist_tenants_tree\n",
    "depth_list = []\n",
    "trg_accuracy_list = []\n",
    "val_accuracy_list = []\n",
    "for i in range(1,tree_0.tree_.max_depth+1):\n",
    "    clf = DecisionTreeClassifier(max_depth=i)\n",
    "    clf = clf.fit(X_trg_data2,Y_trg_data1)\n",
    "    y_pred_train = clf.predict(X_trg_data2)\n",
    "    y_pred_val = clf.predict(X_val_data2)\n",
    "    depth_list.append(i)\n",
    "    trg_accuracy_list.append(metrics.accuracy_score(Y_trg_data1,y_pred_train))\n",
    "    val_accuracy_list.append(metrics.accuracy_score(Y_val_data1,y_pred_val))\n",
    "trg_accuracy_list = [round(i,3) for i in trg_accuracy_list]\n",
    "val_accuracy_list = [round(i,3) for i in val_accuracy_list]\n",
    "print(depth_list)\n",
    "print(trg_accuracy_list)\n",
    "print(val_accuracy_list)"
   ]
  },
  {
   "cell_type": "code",
   "execution_count": 43,
   "metadata": {},
   "outputs": [
    {
     "data": {
      "image/png": "[encoded data removed]",
      "text/plain": [
       "<Figure size 864x576 with 1 Axes>"
      ]
     },
     "metadata": {
      "needs_background": "light"
     },
     "output_type": "display_data"
    }
   ],
   "source": [
    "import matplotlib.pyplot as plt\n",
    "plt.figure(figsize=(12,8))\n",
    "\n",
    "plt.plot(depth_list, trg_accuracy_list,'red', label='Accuracy of tree on Training Data')\n",
    "plt.plot(depth_list, val_accuracy_list, 'blue', label='Accuracy of tree on Validation Data')\n",
    "\n",
    "\n",
    "plt.xlabel('Tree depth', fontsize = 12)\n",
    "plt.ylabel('Classification accuracy',fontsize = 12)\n",
    "plt.legend()\n",
    "plt.title(\"Classfication accuracy of tree\",fontsize = 16)\n",
    "plt.show()"
   ]
  },
  {
   "cell_type": "markdown",
   "metadata": {},
   "source": [
    "It can be seen that the classification accuracy of the model on the validation data set decreases significantly after a depth of 4, but remains at around 83% for subsequent levels of the tree. It can be assumed that after a depth of 4, further classification of the data in a decision tree does not bring about a signficant increase in the prediction accuracy on unseen data. This could be because there could be other factors that need to be considered before we can make a meaningful prediction on the behavior of the data. We could use this post-pruning approach to avoid overfitting of the training data by pruning the tree at a depth of 4 and an accuracy of around 87% on unseen data. "
   ]
  },
  {
   "cell_type": "code",
   "execution_count": 44,
   "metadata": {},
   "outputs": [
    {
     "data": {
      "image/png": "[encoded data removed]",
      "text/plain": [
       "<IPython.core.display.Image object>"
      ]
     },
     "execution_count": 44,
     "metadata": {},
     "output_type": "execute_result"
    }
   ],
   "source": [
    "tree_4 = DecisionTreeClassifier(max_depth = 4)\n",
    "tree_4 = tree_4.fit(X_trg_data2, Y_trg_data1)\n",
    "\n",
    "# Plot the decision tree\n",
    "import graphviz\n",
    "feature_cols= list(X_trg_data2.columns.values)\n",
    "dot_data = StringIO()\n",
    "export_graphviz(tree_4, out_file=dot_data,  \n",
    "                filled=True, rounded=True,\n",
    "                special_characters=True,feature_names = feature_cols,class_names=['0','1','2'])\n",
    "graph = pydotplus.graph_from_dot_data(dot_data.getvalue())  \n",
    "graph.write_png('tree_classifier.png')\n",
    "Image(graph.create_png())"
   ]
  },
  {
   "cell_type": "markdown",
   "metadata": {},
   "source": [
    "#### We can try establishing a new classifier using kNN approach"
   ]
  },
  {
   "cell_type": "markdown",
   "metadata": {},
   "source": [
    "While decision trees are not affected by and do not require the data to be normalised, for kNN classification we need to scale the data using an appropriate normalisation approach. This is because kNN approach relies on the calculation of the Euclidean distance (or the 2-norm) to determine the nearest neighbours and if not normalised, the data could be skewed on one or many of the axes (independent variables) rendering our classification inaccurate."
   ]
  },
  {
   "cell_type": "code",
   "execution_count": 46,
   "metadata": {},
   "outputs": [],
   "source": [
    "# normalise x data using z-score normalisation\n",
    "from sklearn.preprocessing import StandardScaler\n",
    "\n",
    "scaled_xtrain = StandardScaler().fit(X_trg_data2).transform(X_trg_data2) # fit on training data and transform training data\n",
    "scaled_xval = StandardScaler().fit(X_trg_data2).transform(X_val_data2)   # transform validation data\n",
    "scaled_xtest = StandardScaler().fit(X_trg_data2).transform(X_test_data2) # transform test data\n",
    "Y_trg_data1 = np.asarray(Y_trg_data1).ravel()\n",
    "Y_val_data1 = np.asarray(Y_val_data1).ravel()\n",
    "Y_test_data1 = np.asarray(Y_test_data1).ravel()\n"
   ]
  },
  {
   "cell_type": "code",
   "execution_count": 47,
   "metadata": {},
   "outputs": [],
   "source": [
    "from sklearn.neighbors import KNeighborsClassifier\n",
    "from sklearn.metrics import accuracy_score\n",
    "accuracy_list = []\n",
    "for i in range(1,101):\n",
    "     knn = KNeighborsClassifier(n_neighbors=i)\n",
    "     knn.fit(scaled_xtrain,Y_trg_data1)                       # fit on training data\n",
    "     y_pred_on_val_knn = knn.predict(scaled_xval)            # predict on validation data\n",
    "     accuracy = accuracy_score(Y_val_data1,y_pred_on_val_knn) # compare predicted and actual values\n",
    "     accuracy_list.append(accuracy)"
   ]
  },
  {
   "cell_type": "code",
   "execution_count": 48,
   "metadata": {},
   "outputs": [
    {
     "data": {
      "image/png": "[encoded data removed]",
      "text/plain": [
       "<Figure size 864x576 with 1 Axes>"
      ]
     },
     "metadata": {
      "needs_background": "light"
     },
     "output_type": "display_data"
    },
    {
     "name": "stdout",
     "output_type": "stream",
     "text": [
      "Classifier with k = 7  is the best classifier with accuracy is 83.7 %\n"
     ]
    }
   ],
   "source": [
    "plt.figure(figsize=(12,8))\n",
    "k_list = list(range(1,101))\n",
    "plt.plot(k_list, accuracy_list,'blue', label='Accuracy of knn classifier with different k values')\n",
    "\n",
    "\n",
    "plt.xlabel('k-neighbors', fontsize = 12)\n",
    "plt.ylabel('Classification accuracy',fontsize = 12)\n",
    "plt.legend()\n",
    "plt.title(\"Classfication accuracy of knn classifier\",fontsize = 16)\n",
    "plt.show()\n",
    "print(\"Classifier with k =\",accuracy_list.index(max(accuracy_list))+1,\" is the best classifier with accuracy is\",round(max(accuracy_list)*100,1),\"%\",sep=\" \")  "
   ]
  },
  {
   "cell_type": "markdown",
   "metadata": {},
   "source": [
    "It can be seen that the accuracy of the classifiers starts decreasing drastically after k-value of around 11. The model suffers from overfitting of the training data at a high k-value. kNN classification yields lower degree of accuracy at low k-values but reaches an optimum once the model is sufficiently trained. In this case it appears to be around k=11."
   ]
  },
  {
   "cell_type": "markdown",
   "metadata": {},
   "source": [
    "#### Compare performance of both the chosen classifiers on the test data"
   ]
  },
  {
   "cell_type": "code",
   "execution_count": 49,
   "metadata": {},
   "outputs": [
    {
     "name": "stdout",
     "output_type": "stream",
     "text": [
      "The accuracy of the decision tree classifer with a depth of 4 has 87.2 % accuracy\n",
      "The accuracy of the kNN classifier with 11 neighbours has 81.2 % accuracy\n"
     ]
    }
   ],
   "source": [
    "# for tree with a depth of 4\n",
    "y_pred_test_tree_4 = tree_4.predict(X_test_data2)\n",
    "print('The accuracy of the decision tree classifer with a depth of 4 has', \\\n",
    "      round(metrics.accuracy_score(Y_test_data1,y_pred_test_tree_4),3)*100,'% accuracy')\n",
    "\n",
    "# for knn with k = 11\n",
    "knn_11 = KNeighborsClassifier(n_neighbors=11)\n",
    "knn_11.fit(scaled_xtrain,Y_trg_data1)                       \n",
    "y_pred_test_knn11 = knn_11.predict(scaled_xtest)            \n",
    "print('The accuracy of the kNN classifier with 11 neighbours has', \\\n",
    "      round(metrics.accuracy_score(Y_test_data1,y_pred_test_knn11),3)*100,'% accuracy')\n"
   ]
  },
  {
   "cell_type": "markdown",
   "metadata": {},
   "source": [
    "We can identify that based on the current data set, for the exist_tenants model (i.e. with the independent features - 'house_zip', 'dob', 'rent_amount', 'avg_family_size', 'perc_white' and 'count_arrear_mths_1yr') the decision tree classifier with a depth of 4 is a sufficiently accurate classifier in comparison to a knn classifier with k = 11 (which is the best k value in terms of accuracy) based on its performance on both the validation and test data set. However, it is important for us to consider other factors that affect the accuracy too."
   ]
  },
  {
   "cell_type": "code",
   "execution_count": 52,
   "metadata": {},
   "outputs": [
    {
     "data": {
      "text/plain": [
       "array([[422,   3,  47],\n",
       "       [  4,   0,  28],\n",
       "       [  1,   3, 162]], dtype=int64)"
      ]
     },
     "execution_count": 52,
     "metadata": {},
     "output_type": "execute_result"
    }
   ],
   "source": [
    "from sklearn.metrics import confusion_matrix\n",
    "cm = confusion_matrix(Y_test_data1,y_pred_test_tree_4, labels=[0, 1, 2])\n",
    "cm"
   ]
  },
  {
   "cell_type": "code",
   "execution_count": 54,
   "metadata": {},
   "outputs": [
    {
     "data": {
      "image/png": "[encoded data removed]",
      "text/plain": [
       "<Figure size 432x288 with 2 Axes>"
      ]
     },
     "metadata": {
      "needs_background": "light"
     },
     "output_type": "display_data"
    }
   ],
   "source": [
    "import seaborn as sns\n",
    "\n",
    "ax= plt.subplot()\n",
    "sns.heatmap(cm, annot=True, ax = ax); \n",
    "\n",
    "# labels, title and ticks\n",
    "ax.set_xlabel('Predicted risk rating');ax.set_ylabel('True risk rating'); \n",
    "ax.set_title('Confusion Matrix'); \n",
    "ax.xaxis.set_ticklabels(['low', 'medium', 'high']); ax.yaxis.set_ticklabels(['low', 'medium', 'high']);"
   ]
  },
  {
   "cell_type": "markdown",
   "metadata": {},
   "source": [
    "## Summary of Findings  \n",
    "\n",
    "From the decision tree depicted earlier, as expected, if the count of arrears is less than or equal to 0.2 the risk of arrear debt is low (=0) with zero error (Gini index = 0).  \n",
    "\n",
    "Otherwise, at the next level of the at decision tree, if the count of arrears is less than or equal to 1.65 the risk of arrear debt is classified either as medium or high. Alternatively, the risk of arrear debt is classified as low or medium. In the training data the majority of the cases where count_arrear_mths_1yr is greater than 0.2 (277 of 396 samples) will be high risk.  \n",
    "  \n",
    "In the latter case, we can see that the model does a good job in classifying risk on the training data, and will classify as low risk cases where the rent amount is less than 1696 and the % of White peole is less than or equal to 82.5%. The remaining cases are classified as medium risk.  \n",
    "  \n",
    "In the case where the count of arrears is less than or equal to 1.65, five out of the six terminal nodes are the high risk class and one node is medium. However, we can see from the Gini index that impurity is relatively large in this class.  \n",
    "  \n",
    "Moreover, form the confusion matrix, we understand that our model does a good job in predicting correctly the low risk tenats in the test data (422 of 472), and a very good job in classifying high risk correctly (162 of 166). However, what is concerning is the large amount of false positives (high risk). More than 10% of low risk tenants and almost all of the medium risk tenants in the test set are classified as high risk.  "
   ]
  },
  {
   "cell_type": "markdown",
   "metadata": {},
   "source": [
    "## Recommendations  \n",
    "\n",
    "Based on the above analysis we can conclude that there is no strong predictor, in saying whether the tenant is going to fall into arrears debt. We need to be conscious of the damage eviction may cause to tenants with low risk both personally and in the housing association's reputation, while at the same time we should be cautious of losses from long-term unpaid rent.  \n",
    "  \n",
    "Due to the sensitive nature of the matter we recommend that the housing association uses a tree of depth 2 in the decsion making.  \n",
    "  \n",
    "As long a tenant does not have count_arrear_mths_1yr greater than 0.2 they are considered to be low risk and the housing association should not spend resources on these risk grade tenants.  \n",
    "  \n",
    "We recommend that tenants who have count_arrear_mths_1yr between 0.2 and 1.65 are given a warning of eviction as in the majority of cases these will be high risk tenants. If the behaviour persists it is in the landlord legal right to start court proceedings to evict the tenant with arrear debt.  \n",
    "  \n",
    "In the case where count_arrear_mths_1yr is over 1.65, we recommend that the housing association does not take immediate action but monitors the payment behaviour of tenants to ensure they continue to remain in low - medium risk grade. \n"
   ]
  },
  {
   "cell_type": "markdown",
   "metadata": {},
   "source": [
    "## Considerations / Limitations  \n",
    "\n",
    "* A fairly large amount of assumptions have been made in the cleaning of an incomplete and inconsistent dataset to ensure good quality data to base our decision on. In the case where incorrect assumptions and/or interpretations are made, the conclusion will be wrong. In a real-world project we would consult with stakeholders on the business rules on data entry and collection  \n",
    "<br>  \n",
    "* Since a large amount of dob has been imputed using the mean, dob cannot be a strong predictor in our model as can be seen from the decision tree above. There is not a sufficiently large information gain from age of tenant what could usually be considered an intuitively good indicator.   \n",
    "<br>  \n",
    "* We have assumed that rent_amount is the same per tenant per house in our analysis. In reality a rent increase is possible due to inflation and other factos  \n",
    "<br>  \n",
    "* To understand the risk of arrear debt we have looked at the duration of owed rent. If a tenant misses 3 payments and then moves out of the property he will appear as mid risk although in reality he may not repay the debt  \n",
    "<br>  \n",
    "* We have assumed that when no rent payment was made this has been recorded as blank which we subsequently replaced with 0. If there is inconsistency in the way 'no payment' was recorded, i.e. if missing month means no payment, this will not be identified and accumulated arrears, count of arrears and duration of arrears will be underestimated. "
   ]
  },
  {
   "cell_type": "markdown",
   "metadata": {},
   "source": [
    "## References"
   ]
  },
  {
   "cell_type": "markdown",
   "metadata": {},
   "source": [
    "1) Table 1 — Total population, median age, sex, age, household and family size, 2010, State of California, Department of Finance, viewed 11 July <http://www.dof.ca.gov/Reports/Demographic_Reports/Census_2010/>\n",
    "\n",
    "\n",
    "2) Table 3c — Population by Race (Hispanic Origin exclusive) and Hispanic Origin, 2010, State of California, Department of Finance, viewed 11 July <http://www.dof.ca.gov/Reports/Demographic_Reports/Census_2010/>\n",
    "\n",
    "\n",
    "3) 2016 San Diego County Demographics - Families in Poverty, 2016, San Diego County, viewed 11 July \n",
    "<https://data.sandiegocounty.gov/Demographics/2016-San-Diego-County-Demographics-Families-in-Pov/ayc4-bmye>"
   ]
  }
 ],
 "metadata": {
  "kernelspec": {
   "display_name": "Python 3",
   "language": "python",
   "name": "python3"
  },
  "language_info": {
   "codemirror_mode": {
    "name": "ipython",
    "version": 3
   },
   "file_extension": ".py",
   "mimetype": "text/x-python",
   "name": "python",
   "nbconvert_exporter": "python",
   "pygments_lexer": "ipython3",
   "version": "3.7.3"
  },
  "varInspector": {
   "cols": {
    "lenName": 16,
    "lenType": 16,
    "lenVar": 40
   },
   "kernels_config": {
    "python": {
     "delete_cmd_postfix": "",
     "delete_cmd_prefix": "del ",
     "library": "var_list.py",
     "varRefreshCmd": "print(var_dic_list())"
    },
    "r": {
     "delete_cmd_postfix": ") ",
     "delete_cmd_prefix": "rm(",
     "library": "var_list.r",
     "varRefreshCmd": "cat(var_dic_list()) "
    }
   },
   "types_to_exclude": [
    "module",
    "function",
    "builtin_function_or_method",
    "instance",
    "_Feature"
   ],
   "window_display": false
  }
 },
 "nbformat": 4,
 "nbformat_minor": 2
}
