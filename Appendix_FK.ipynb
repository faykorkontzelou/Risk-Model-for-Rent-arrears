{
 "cells": [
  {
   "cell_type": "markdown",
   "metadata": {
    "slideshow": {
     "slide_type": "slide"
    }
   },
   "source": [
    "# <center>Acme Credit Reports: Risk Model for Rent Arrears</center>\n",
    "# <center>Appendix</center>\n",
    "## <center>July 2019</center>\n",
    "### Fay Korkontzelou\n",
    "\n",
    "<br>  \n",
    "**Appedix notebook should be run first as it cleans the file that is used in the main report**"
   ]
  },
  {
   "cell_type": "markdown",
   "metadata": {
    "slideshow": {
     "slide_type": "slide"
    }
   },
   "source": [
    "__Appendix A__\n",
    "1. payment_amount\n",
    "2. dob\n",
    "3. payment_date\n",
    "4. debt\n",
    "5. Demographic Statistics\n",
    "6. References"
   ]
  },
  {
   "cell_type": "code",
   "execution_count": 2,
   "metadata": {
    "slideshow": {
     "slide_type": "skip"
    }
   },
   "outputs": [],
   "source": [
    "import pandas as pd\n",
    "import numpy as np\n",
    "import matplotlib.pyplot as plt\n",
    "import seaborn as sns\n",
    "%matplotlib inline\n",
    "from IPython.core.interactiveshell import InteractiveShell\n",
    "InteractiveShell.ast_node_interactivity = \"all\""
   ]
  },
  {
   "cell_type": "code",
   "execution_count": 35,
   "metadata": {
    "scrolled": true,
    "slideshow": {
     "slide_type": "slide"
    }
   },
   "outputs": [
    {
     "data": {
      "text/html": [
       "<div>\n",
       "<style scoped>\n",
       "    .dataframe tbody tr th:only-of-type {\n",
       "        vertical-align: middle;\n",
       "    }\n",
       "\n",
       "    .dataframe tbody tr th {\n",
       "        vertical-align: top;\n",
       "    }\n",
       "\n",
       "    .dataframe thead th {\n",
       "        text-align: right;\n",
       "    }\n",
       "</style>\n",
       "<table border=\"1\" class=\"dataframe\">\n",
       "  <thead>\n",
       "    <tr style=\"text-align: right;\">\n",
       "      <th></th>\n",
       "      <th>name</th>\n",
       "      <th>house_id</th>\n",
       "      <th>house_zip</th>\n",
       "      <th>rent_amount</th>\n",
       "      <th>payment_date</th>\n",
       "      <th>dob</th>\n",
       "      <th>payment_amount</th>\n",
       "    </tr>\n",
       "  </thead>\n",
       "  <tbody>\n",
       "    <tr>\n",
       "      <th>0</th>\n",
       "      <td>Paulina Lefort</td>\n",
       "      <td>1869</td>\n",
       "      <td>92129</td>\n",
       "      <td>1324.0</td>\n",
       "      <td>2010-01-02</td>\n",
       "      <td>NaT</td>\n",
       "      <td>1324.0</td>\n",
       "    </tr>\n",
       "    <tr>\n",
       "      <th>1</th>\n",
       "      <td>Clare Tilly</td>\n",
       "      <td>407</td>\n",
       "      <td>92155</td>\n",
       "      <td>1723.0</td>\n",
       "      <td>2010-01-02</td>\n",
       "      <td>NaT</td>\n",
       "      <td>1723.0</td>\n",
       "    </tr>\n",
       "    <tr>\n",
       "      <th>2</th>\n",
       "      <td>Eleni Loudin</td>\n",
       "      <td>647</td>\n",
       "      <td>92111</td>\n",
       "      <td>1494.0</td>\n",
       "      <td>2010-01-02</td>\n",
       "      <td>2000-01-01</td>\n",
       "      <td>1494.0</td>\n",
       "    </tr>\n",
       "    <tr>\n",
       "      <th>3</th>\n",
       "      <td>Tandy Ammann</td>\n",
       "      <td>2215</td>\n",
       "      <td>92153</td>\n",
       "      <td>1438.0</td>\n",
       "      <td>2010-01-02</td>\n",
       "      <td>1992-12-02</td>\n",
       "      <td>1438.0</td>\n",
       "    </tr>\n",
       "    <tr>\n",
       "      <th>4</th>\n",
       "      <td>Tamra Trisler</td>\n",
       "      <td>2213</td>\n",
       "      <td>92172</td>\n",
       "      <td>1658.0</td>\n",
       "      <td>2010-01-02</td>\n",
       "      <td>2000-01-01</td>\n",
       "      <td>1658.0</td>\n",
       "    </tr>\n",
       "  </tbody>\n",
       "</table>\n",
       "</div>"
      ],
      "text/plain": [
       "             name house_id house_zip  rent_amount payment_date        dob  \\\n",
       "0  Paulina Lefort     1869     92129       1324.0   2010-01-02        NaT   \n",
       "1     Clare Tilly      407     92155       1723.0   2010-01-02        NaT   \n",
       "2    Eleni Loudin      647     92111       1494.0   2010-01-02 2000-01-01   \n",
       "3    Tandy Ammann     2215     92153       1438.0   2010-01-02 1992-12-02   \n",
       "4   Tamra Trisler     2213     92172       1658.0   2010-01-02 2000-01-01   \n",
       "\n",
       "   payment_amount  \n",
       "0          1324.0  \n",
       "1          1723.0  \n",
       "2          1494.0  \n",
       "3          1438.0  \n",
       "4          1658.0  "
      ]
     },
     "execution_count": 35,
     "metadata": {},
     "output_type": "execute_result"
    },
    {
     "data": {
      "text/plain": [
       "(56610, 7)"
      ]
     },
     "execution_count": 35,
     "metadata": {},
     "output_type": "execute_result"
    },
    {
     "data": {
      "text/plain": [
       "1989"
      ]
     },
     "execution_count": 35,
     "metadata": {},
     "output_type": "execute_result"
    },
    {
     "data": {
      "text/plain": [
       "1"
      ]
     },
     "execution_count": 35,
     "metadata": {},
     "output_type": "execute_result"
    },
    {
     "data": {
      "text/plain": [
       "5"
      ]
     },
     "execution_count": 35,
     "metadata": {},
     "output_type": "execute_result"
    },
    {
     "data": {
      "text/plain": [
       "Timestamp('2010-01-02 00:00:00')"
      ]
     },
     "execution_count": 35,
     "metadata": {},
     "output_type": "execute_result"
    },
    {
     "data": {
      "text/plain": [
       "Timestamp('2012-12-10 00:00:00')"
      ]
     },
     "execution_count": 35,
     "metadata": {},
     "output_type": "execute_result"
    }
   ],
   "source": [
    "placeholder = './'\n",
    "rental_data=pd.read_csv(placeholder + 'rental_data.csv',index_col=0, parse_dates=['paymentDate_clean','dob_clean'], \\\n",
    "               dtype={'houseID':'object','houseZip':'object'})\n",
    "\n",
    "columns = 'name house_id house_zip rent_amount payment_date dob payment_amount'\n",
    "rental_data.columns = columns.split()\n",
    "\n",
    "rental_data.head()\n",
    "rental_data.shape\n",
    "len(set(rental_data.name))\n",
    "min(rental_data.groupby('name').nunique()['house_id'])\n",
    "max(rental_data.groupby('name').nunique()['house_id'])\n",
    "rental_data.payment_date.min()\n",
    "rental_data.payment_date.max()"
   ]
  },
  {
   "cell_type": "markdown",
   "metadata": {},
   "source": [
    "__Summary of dataset \"rental_data.csv:__  \n",
    "* The dataset consists of 56,610 rental payment transactions and 7 columns of relevant information for each transaction\n",
    "* The dataset contains information on 1,989 individuals, who have rented between 1 to 5 different properties\n",
    "* The dataset contains rental payment transactions for the period 2010 to 2012  \n",
    "  \n",
    "Next, we look for missing values in the dataset."
   ]
  },
  {
   "cell_type": "code",
   "execution_count": 36,
   "metadata": {
    "scrolled": false,
    "slideshow": {
     "slide_type": "slide"
    }
   },
   "outputs": [
    {
     "data": {
      "text/plain": [
       "name                  0\n",
       "house_id              0\n",
       "house_zip             0\n",
       "rent_amount           0\n",
       "payment_date          0\n",
       "dob               14725\n",
       "payment_amount      528\n",
       "dtype: int64"
      ]
     },
     "execution_count": 36,
     "metadata": {},
     "output_type": "execute_result"
    },
    {
     "data": {
      "text/plain": [
       "<matplotlib.axes._subplots.AxesSubplot at 0x1ec0ab7a400>"
      ]
     },
     "execution_count": 36,
     "metadata": {},
     "output_type": "execute_result"
    },
    {
     "data": {
      "image/png": "[encoded data removed]",
      "text/plain": [
       "<Figure size 1728x720 with 3 Axes>"
      ]
     },
     "metadata": {
      "needs_background": "light"
     },
     "output_type": "display_data"
    }
   ],
   "source": [
    "import missingno as msno\n",
    "\n",
    "rental_data.isnull().sum()\n",
    "msno.bar(rental_data)"
   ]
  },
  {
   "cell_type": "markdown",
   "metadata": {},
   "source": [
    "There columns 'dob' and 'payment_amount' have 26% and 1% blank values respectively. All other columns are fully populated. Decisions on how to handle missing data will depend on the specific feature and will be explored in more detail below. A null value can be interpreted as either a missing value, due to error in data entry or absence of information, or as a 0 value."
   ]
  },
  {
   "cell_type": "markdown",
   "metadata": {},
   "source": [
    "In the sections that follow, we explore the features of the dataset that we believe require further cleansing and assumptions to be made for their interpretation. Through a careful exploration of data, we will make the assumptions we consider more fit for purpose and make the according transformations in a copy of the original dataset. We will be then ready to proceed with investigating the risk among tenants.  \n",
    "We will use two methods to do so. Firstly, we will look at the newly cleansed dataset for predicting risk. Secondly, we will look at the dataset where we remove all records that are not clean. We will make a conclusion then on the predictive accuracy between the model based on what we think is more costly, a lesser clean dataset based on several assumptions or the loss of data."
   ]
  },
  {
   "cell_type": "code",
   "execution_count": 37,
   "metadata": {},
   "outputs": [],
   "source": [
    "# start by creating a copy of original dataset for further data cleansing\n",
    "rental_data_clean = rental_data.copy()"
   ]
  },
  {
   "cell_type": "markdown",
   "metadata": {
    "slideshow": {
     "slide_type": "slide"
    }
   },
   "source": [
    "__A.1 payment_amount__"
   ]
  },
  {
   "cell_type": "code",
   "execution_count": 38,
   "metadata": {
    "scrolled": true,
    "slideshow": {
     "slide_type": "subslide"
    }
   },
   "outputs": [
    {
     "name": "stdout",
     "output_type": "stream",
     "text": [
      "Number of values equal to zero: 0\n",
      "Number of blank values: 528\n",
      "Number of values where payment_amount equals the rent_amount: 49527\n",
      "Number of values where payment_amount exceeds the rent_amount: 5997\n",
      "Number of values where payment_amount is less than the rent_amount: 558\n",
      "Number of negative values: 558\n",
      "\n",
      "\n",
      "Check that all cases are captured: 528 + 49527 + 5997 + 558 = 56610\n"
     ]
    }
   ],
   "source": [
    "print('Number of values equal to zero:', len(rental_data[rental_data['payment_amount']==0]))\n",
    "print('Number of blank values:', rental_data['payment_amount'].isnull().sum())\n",
    "print('Number of values where payment_amount equals the rent_amount:', \\\n",
    "      len(rental_data[rental_data['payment_amount']==rental_data['rent_amount']]))\n",
    "print('Number of values where payment_amount exceeds the rent_amount:', \\\n",
    "      len(rental_data[rental_data['payment_amount']>rental_data['rent_amount']]))\n",
    "print('Number of values where payment_amount is less than the rent_amount:', \\\n",
    "      len(rental_data[rental_data['payment_amount']<rental_data['rent_amount']]))\n",
    "print('Number of negative values:', len(rental_data[rental_data['payment_amount']<0]))\n",
    "print('\\n')\n",
    "print('Check that all cases are captured: 528 + 49527 + 5997 + 558 =', str(528+49527+5997+558))"
   ]
  },
  {
   "cell_type": "markdown",
   "metadata": {},
   "source": [
    "All rent payments that are less than the rent due and are not blank are entered as negative values. The consistency of this practice across the dataset forbids the interpretation of this as bad data and its removal as this would leave us with a dataset where no tenant pays less than the amount due. In order to make a decision on how to handle negative values in 'payment_amount', we need to examine these transactions more closely."
   ]
  },
  {
   "cell_type": "code",
   "execution_count": 39,
   "metadata": {
    "scrolled": false
   },
   "outputs": [
    {
     "name": "stdout",
     "output_type": "stream",
     "text": [
      "max (in absolute value) negative payments: -348.0\n",
      "min (in absolute value) negative payments: -101.25\n",
      "mean of negative payments: -224.23548387096773 ; median of negative payments: -224.1\n",
      "standard deviation of negative payments: 46.14999684330257\n"
     ]
    },
    {
     "data": {
      "text/plain": [
       "(array([  7.,  26.,  50.,  90., 101., 118.,  86.,  47.,  26.,   7.]),\n",
       " array([-348.   , -323.325, -298.65 , -273.975, -249.3  , -224.625,\n",
       "        -199.95 , -175.275, -150.6  , -125.925, -101.25 ]),\n",
       " <a list of 10 Patch objects>)"
      ]
     },
     "execution_count": 39,
     "metadata": {},
     "output_type": "execute_result"
    },
    {
     "data": {
      "text/plain": [
       "Text(0.5, 1.0, 'Distribution for negative payments')"
      ]
     },
     "execution_count": 39,
     "metadata": {},
     "output_type": "execute_result"
    },
    {
     "data": {
      "image/png": "[encoded data removed]",
      "text/plain": [
       "<Figure size 432x288 with 1 Axes>"
      ]
     },
     "metadata": {
      "needs_background": "light"
     },
     "output_type": "display_data"
    }
   ],
   "source": [
    "# look at the distribution of negative payments\n",
    "payments_neg = [i for i in list(rental_data['payment_amount']) if i < 0]\n",
    "\n",
    "print('max (in absolute value) negative payments:', min(payments_neg))\n",
    "print('min (in absolute value) negative payments:', max(payments_neg))\n",
    "print('mean of negative payments:', np.mean(payments_neg), '; median of negative payments:', np.median(payments_neg))\n",
    "print('standard deviation of negative payments:', np.std(payments_neg))\n",
    "\n",
    "plt.hist(payments_neg)\n",
    "plt.title('Distribution for negative payments', fontsize=16)"
   ]
  },
  {
   "cell_type": "code",
   "execution_count": 40,
   "metadata": {},
   "outputs": [
    {
     "data": {
      "text/plain": [
       "428.0"
      ]
     },
     "execution_count": 40,
     "metadata": {},
     "output_type": "execute_result"
    },
    {
     "data": {
      "text/plain": [
       "0"
      ]
     },
     "execution_count": 40,
     "metadata": {},
     "output_type": "execute_result"
    }
   ],
   "source": [
    "min(rental_data['rent_amount'])\n",
    "(rental_data.loc[rental_data['payment_amount']<rental_data['rent_amount'],'payment_amount'] > 0).sum()"
   ]
  },
  {
   "cell_type": "markdown",
   "metadata": {},
   "source": [
    "All negative values in 'payment_amount' are between -101.25 and -348. Looking at the bell-shaped histogram, the negative values we observe are highly centrered around the mean $\\approx$ median $\\approx$ -224.  \n",
    "We can now say with confidence that negative amounts of rent payment represent only under-payments since the lowest rent amount due ($428) is greater in absolute value than any of the negative payment amount values, and also all payments that are lower than the rent due are negative values."
   ]
  },
  {
   "cell_type": "code",
   "execution_count": 41,
   "metadata": {},
   "outputs": [
    {
     "data": {
      "text/plain": [
       "<Figure size 1080x360 with 0 Axes>"
      ]
     },
     "execution_count": 41,
     "metadata": {},
     "output_type": "execute_result"
    },
    {
     "data": {
      "text/plain": [
       "[<matplotlib.lines.Line2D at 0x1ec0bf1cdd8>]"
      ]
     },
     "execution_count": 41,
     "metadata": {},
     "output_type": "execute_result"
    },
    {
     "data": {
      "text/plain": [
       "[<matplotlib.lines.Line2D at 0x1ec0beec7f0>]"
      ]
     },
     "execution_count": 41,
     "metadata": {},
     "output_type": "execute_result"
    },
    {
     "data": {
      "text/plain": [
       "[<matplotlib.lines.Line2D at 0x1ec0bf1cf28>]"
      ]
     },
     "execution_count": 41,
     "metadata": {},
     "output_type": "execute_result"
    },
    {
     "data": {
      "text/plain": [
       "<matplotlib.legend.Legend at 0x1ec0bf28518>"
      ]
     },
     "execution_count": 41,
     "metadata": {},
     "output_type": "execute_result"
    },
    {
     "data": {
      "image/png": "[encoded data removed]",
      "text/plain": [
       "<Figure size 1080x360 with 1 Axes>"
      ]
     },
     "metadata": {
      "needs_background": "light"
     },
     "output_type": "display_data"
    }
   ],
   "source": [
    "rent_due = list(rental_data.loc[rental_data['payment_amount'] < 0, 'rent_amount'])\n",
    "payments_abs = [abs(x) for x in payments_neg]\n",
    "payments_short = [y+x for y,x in zip(rent_due,payments_neg)]\n",
    "\n",
    "plt.figure(figsize=(15,5))\n",
    "plt.plot(rent_due, label='rent due')\n",
    "plt.plot(payments_abs, 'r', label='neg payments as amount paid')\n",
    "plt.plot(payments_short, 'g', label='neg payments as shortage')\n",
    "\n",
    "plt.legend(bbox_to_anchor=(0., 1.02, 1., .102), loc=3, ncol=3, mode=\"expand\", borderaxespad=0., fontsize = 'large')\n",
    "\n",
    "plt.show()"
   ]
  },
  {
   "cell_type": "markdown",
   "metadata": {},
   "source": [
    "As illustrated in the above graph, there are two ways to interpret the negative data in 'payment_amount'; either as the actual amount paid (red line) or the shortage in the amount paid from the rent due, in which case the amount paid is given by the green line."
   ]
  },
  {
   "cell_type": "markdown",
   "metadata": {},
   "source": [
    "Overall for 'payment_amount' we have the below.  \n",
    "  \n",
    "__Issues Identified:__  \n",
    "* There are 528 missing values for the payment amount\n",
    "* There are 5997 instances where the payment amount exceeds the rent amount\n",
    "* There are 558 instances where the the tenant has made a payment smaller than the rent amount, and that amount is a negative value  \n",
    "  \n",
    "__Assumptions:__  \n",
    "* Since there are no values in 'payment_amount' that equal zero, we assume that a blank entry represent that no payment was made. We will hence replace of null values in 'payment_amount' with zero.\n",
    "* We assume that in the cases where the payment amount exceeds the monthly rent due, the tenant is trying to repay an existing debt, and hence the debt is reduced by that surplus in the payment\n",
    "* There are two ways to interpret the negative values in 'payment_amount'; either as the shortage from the rent amount that is due or as the amount that was actually paid in which case the minus sign is an error in the data. Based on the above analysis, we decide to go with the first case and hence we will transform all negative values be taking the sum of the shortage and respective rent due to derive the amount that was paid. We are able to make this assumption only due to the consistency in the way the negative values are entered. Having said that, this assumption about data entry is made only for the case where less, but not null, rent was paid. We are not saying that where the correct rent amount is paid, the value in 'payment_amount' should be 0 or that positive payment amounts should be interpreted as the suplus on top of the rent due."
   ]
  },
  {
   "cell_type": "code",
   "execution_count": 42,
   "metadata": {},
   "outputs": [],
   "source": [
    "# replace missing values with 0\n",
    "rental_data_clean.payment_amount.fillna(0, inplace=True)\n",
    "\n",
    "# replace negative values with sum of rent amount and shortage\n",
    "rental_data_clean['payment_amount'] = np.where(rental_data_clean['payment_amount']<0,\n",
    "                                               rental_data_clean['rent_amount'] + rental_data_clean['payment_amount'],\n",
    "                                               rental_data_clean['payment_amount'])"
   ]
  },
  {
   "cell_type": "code",
   "execution_count": 43,
   "metadata": {},
   "outputs": [
    {
     "data": {
      "text/plain": [
       "nan"
      ]
     },
     "execution_count": 43,
     "metadata": {},
     "output_type": "execute_result"
    },
    {
     "data": {
      "text/plain": [
       "0.0"
      ]
     },
     "execution_count": 43,
     "metadata": {},
     "output_type": "execute_result"
    },
    {
     "data": {
      "text/plain": [
       "1603.0"
      ]
     },
     "execution_count": 43,
     "metadata": {},
     "output_type": "execute_result"
    },
    {
     "data": {
      "text/plain": [
       "-240.45"
      ]
     },
     "execution_count": 43,
     "metadata": {},
     "output_type": "execute_result"
    },
    {
     "data": {
      "text/plain": [
       "1362.55"
      ]
     },
     "execution_count": 43,
     "metadata": {},
     "output_type": "execute_result"
    }
   ],
   "source": [
    "#check\n",
    "rental_data.iloc[194]['payment_amount']\n",
    "rental_data_clean.iloc[194]['payment_amount']\n",
    "\n",
    "rental_data.iloc[36]['rent_amount']\n",
    "rental_data.iloc[36]['payment_amount']\n",
    "rental_data_clean.iloc[36]['payment_amount']"
   ]
  },
  {
   "cell_type": "markdown",
   "metadata": {
    "slideshow": {
     "slide_type": "slide"
    }
   },
   "source": [
    "__A.2 dob__  "
   ]
  },
  {
   "cell_type": "code",
   "execution_count": 44,
   "metadata": {
    "scrolled": false
   },
   "outputs": [
    {
     "name": "stdout",
     "output_type": "stream",
     "text": [
      "Date of births in the dataset are from 1900 to 2068\n",
      "After 1900 year, the earlier dob year in the data is 1939:\n"
     ]
    },
    {
     "data": {
      "text/plain": [
       "dob      1939-05-10 00:00:00\n",
       "name                       1\n",
       "dob_y                   1939\n",
       "dtype: object"
      ]
     },
     "execution_count": 44,
     "metadata": {},
     "output_type": "execute_result"
    },
    {
     "name": "stdout",
     "output_type": "stream",
     "text": [
      "Number of occurances with missing dob: 14725\n"
     ]
    },
    {
     "data": {
      "text/plain": [
       "Text(0.5, 0.98, 'dob distribution')"
      ]
     },
     "execution_count": 44,
     "metadata": {},
     "output_type": "execute_result"
    },
    {
     "data": {
      "text/plain": [
       "<BarContainer object of 473 artists>"
      ]
     },
     "execution_count": 44,
     "metadata": {},
     "output_type": "execute_result"
    },
    {
     "data": {
      "text/plain": [
       "<BarContainer object of 473 artists>"
      ]
     },
     "execution_count": 44,
     "metadata": {},
     "output_type": "execute_result"
    },
    {
     "data": {
      "text/plain": [
       "(0, 3)"
      ]
     },
     "execution_count": 44,
     "metadata": {},
     "output_type": "execute_result"
    },
    {
     "data": {
      "image/png": "[encoded data removed]",
      "text/plain": [
       "<Figure size 720x576 with 2 Axes>"
      ]
     },
     "metadata": {
      "needs_background": "light"
     },
     "output_type": "display_data"
    }
   ],
   "source": [
    "# group by 'dob' to see how many people in the dataset have the same birthday\n",
    "dob = rental_data.groupby('dob').nunique()[['name']].reset_index()\n",
    "# only look at year of birthday\n",
    "dob['dob_y'] = pd.to_datetime(dob['dob']).dt.year\n",
    "print('Date of births in the dataset are from', min(dob['dob_y']), 'to', max(dob['dob_y'])) \n",
    "print('After 1900 year, the earlier dob year in the data is 1939:')\n",
    "dob[dob['dob_y']!=1900].min()\n",
    "print('Number of occurances with missing dob:', rental_data['dob'].isnull().sum())\n",
    "\n",
    "# set year of 'dob' as index and remove blanks in order to visualise \n",
    "dob = dob.set_index('dob_y').dropna()\n",
    "\n",
    "fig, (ax1, ax2) = plt.subplots(2, sharex=True, figsize=(10,8))\n",
    "fig.suptitle('dob distribution', fontsize=16)\n",
    "\n",
    "ax1.bar(x=dob.index,height=dob['name'],width=4)\n",
    "\n",
    "ax2.bar(x=dob.index, height=dob['name'], width=0.4)\n",
    "ax2.set_ylim([0,3])\n"
   ]
  },
  {
   "cell_type": "code",
   "execution_count": 45,
   "metadata": {},
   "outputs": [
    {
     "data": {
      "text/html": [
       "<div>\n",
       "<style scoped>\n",
       "    .dataframe tbody tr th:only-of-type {\n",
       "        vertical-align: middle;\n",
       "    }\n",
       "\n",
       "    .dataframe tbody tr th {\n",
       "        vertical-align: top;\n",
       "    }\n",
       "\n",
       "    .dataframe thead th {\n",
       "        text-align: right;\n",
       "    }\n",
       "</style>\n",
       "<table border=\"1\" class=\"dataframe\">\n",
       "  <thead>\n",
       "    <tr style=\"text-align: right;\">\n",
       "      <th></th>\n",
       "      <th>dob</th>\n",
       "      <th>name</th>\n",
       "    </tr>\n",
       "    <tr>\n",
       "      <th>dob_y</th>\n",
       "      <th></th>\n",
       "      <th></th>\n",
       "    </tr>\n",
       "  </thead>\n",
       "  <tbody>\n",
       "    <tr>\n",
       "      <th>1900</th>\n",
       "      <td>1900-01-01</td>\n",
       "      <td>88</td>\n",
       "    </tr>\n",
       "    <tr>\n",
       "      <th>2000</th>\n",
       "      <td>2000-01-01</td>\n",
       "      <td>903</td>\n",
       "    </tr>\n",
       "    <tr>\n",
       "      <th>2000</th>\n",
       "      <td>2000-01-06</td>\n",
       "      <td>1</td>\n",
       "    </tr>\n",
       "    <tr>\n",
       "      <th>2000</th>\n",
       "      <td>2000-10-06</td>\n",
       "      <td>1</td>\n",
       "    </tr>\n",
       "    <tr>\n",
       "      <th>2000</th>\n",
       "      <td>2000-11-11</td>\n",
       "      <td>1</td>\n",
       "    </tr>\n",
       "  </tbody>\n",
       "</table>\n",
       "</div>"
      ],
      "text/plain": [
       "             dob  name\n",
       "dob_y                 \n",
       "1900  1900-01-01    88\n",
       "2000  2000-01-01   903\n",
       "2000  2000-01-06     1\n",
       "2000  2000-10-06     1\n",
       "2000  2000-11-11     1"
      ]
     },
     "execution_count": 45,
     "metadata": {},
     "output_type": "execute_result"
    },
    {
     "data": {
      "text/html": [
       "<div>\n",
       "<style scoped>\n",
       "    .dataframe tbody tr th:only-of-type {\n",
       "        vertical-align: middle;\n",
       "    }\n",
       "\n",
       "    .dataframe tbody tr th {\n",
       "        vertical-align: top;\n",
       "    }\n",
       "\n",
       "    .dataframe thead th {\n",
       "        text-align: right;\n",
       "    }\n",
       "</style>\n",
       "<table border=\"1\" class=\"dataframe\">\n",
       "  <thead>\n",
       "    <tr style=\"text-align: right;\">\n",
       "      <th></th>\n",
       "      <th>dob</th>\n",
       "      <th>name</th>\n",
       "    </tr>\n",
       "    <tr>\n",
       "      <th>dob_y</th>\n",
       "      <th></th>\n",
       "      <th></th>\n",
       "    </tr>\n",
       "  </thead>\n",
       "  <tbody>\n",
       "    <tr>\n",
       "      <th>1939</th>\n",
       "      <td>1939-05-10</td>\n",
       "      <td>1</td>\n",
       "    </tr>\n",
       "    <tr>\n",
       "      <th>1939</th>\n",
       "      <td>1939-06-08</td>\n",
       "      <td>1</td>\n",
       "    </tr>\n",
       "    <tr>\n",
       "      <th>1953</th>\n",
       "      <td>1953-11-04</td>\n",
       "      <td>1</td>\n",
       "    </tr>\n",
       "  </tbody>\n",
       "</table>\n",
       "</div>"
      ],
      "text/plain": [
       "             dob  name\n",
       "dob_y                 \n",
       "1939  1939-05-10     1\n",
       "1939  1939-06-08     1\n",
       "1953  1953-11-04     1"
      ]
     },
     "execution_count": 45,
     "metadata": {},
     "output_type": "execute_result"
    },
    {
     "data": {
      "text/html": [
       "<div>\n",
       "<style scoped>\n",
       "    .dataframe tbody tr th:only-of-type {\n",
       "        vertical-align: middle;\n",
       "    }\n",
       "\n",
       "    .dataframe tbody tr th {\n",
       "        vertical-align: top;\n",
       "    }\n",
       "\n",
       "    .dataframe thead th {\n",
       "        text-align: right;\n",
       "    }\n",
       "</style>\n",
       "<table border=\"1\" class=\"dataframe\">\n",
       "  <thead>\n",
       "    <tr style=\"text-align: right;\">\n",
       "      <th></th>\n",
       "      <th>dob</th>\n",
       "      <th>name</th>\n",
       "    </tr>\n",
       "    <tr>\n",
       "      <th>dob_y</th>\n",
       "      <th></th>\n",
       "      <th></th>\n",
       "    </tr>\n",
       "  </thead>\n",
       "  <tbody>\n",
       "    <tr>\n",
       "      <th>2019</th>\n",
       "      <td>2019-06-10</td>\n",
       "      <td>1</td>\n",
       "    </tr>\n",
       "    <tr>\n",
       "      <th>2030</th>\n",
       "      <td>2030-05-12</td>\n",
       "      <td>1</td>\n",
       "    </tr>\n",
       "  </tbody>\n",
       "</table>\n",
       "</div>"
      ],
      "text/plain": [
       "             dob  name\n",
       "dob_y                 \n",
       "2019  2019-06-10     1\n",
       "2030  2030-05-12     1"
      ]
     },
     "execution_count": 45,
     "metadata": {},
     "output_type": "execute_result"
    }
   ],
   "source": [
    "dob.loc[[1900,2000]]\n",
    "dob.loc[[1939,1953]]\n",
    "dob.loc[[2019,2030]]"
   ]
  },
  {
   "cell_type": "markdown",
   "metadata": {},
   "source": [
    "__Observations:__  \n",
    "* There are two very large spikes in the number of tenants that have their birthday on the same day, namely, on the 01/01/1900 and the 01/01/2000. Other than that, 1-2 people have the same birthday.\n",
    "* There is a gap in 'dob' between 1900 and 1939\n",
    "* There is a gap in 'dob' between 1939 and 1953\n",
    "* There is a gap in 'dob' between 2019 and 2030  \n",
    "  \n",
    "__Issues Identified:__  \n",
    "  \n",
    "\n",
    "Date of births for tenants in the time period 2010-2012 are from 1900 to 2068 which a clear indication of presence of incorrect entries. More specifically:\n",
    "* Large amount of tenants with 'dob' in 01/01/1900 and 01/01/2000. Neither of these dates of birth are likely as the tenant would have been 110 and 10 years old respectively in 2010.\n",
    "* For several tenants the date of birth is after 2012, which is clearly an error\n",
    "* For several tenants the date of birth is less than 18 years before 2010\n",
    "* There are 14725 rows in the dataset where the dob is missing  \n",
    "  \n",
    "__Assumptions:__\n",
    "* Birth dates in 1900 will be considered an error and will be replaced with null. When a date is entered in the wrong format in excel, for example just one number is entered, excel changes the date to a date in 1900. Following the same logic, we assume this is an error in data entry and dob will be assumed unknown, thus null.\n",
    "* We assume that a reasonable age range for tenants to be paying rent is 18-90 years old from the date of their first payment. For example, if a person has been paying rent since 2010, we will only accept dob between the years 1930-1992.\n",
    "* For dates of birth that are after the accepted period there are two cases. Firstly. dates that are after 2030, will be considered a typing error and will be changed to 1930 and so on. Secondly, the remaining dates that are not accepted in the above mentioned period, will be assumed uknown and replaced with null."
   ]
  },
  {
   "cell_type": "code",
   "execution_count": 46,
   "metadata": {},
   "outputs": [
    {
     "data": {
      "text/html": [
       "<div>\n",
       "<style scoped>\n",
       "    .dataframe tbody tr th:only-of-type {\n",
       "        vertical-align: middle;\n",
       "    }\n",
       "\n",
       "    .dataframe tbody tr th {\n",
       "        vertical-align: top;\n",
       "    }\n",
       "\n",
       "    .dataframe thead th {\n",
       "        text-align: right;\n",
       "    }\n",
       "</style>\n",
       "<table border=\"1\" class=\"dataframe\">\n",
       "  <thead>\n",
       "    <tr style=\"text-align: right;\">\n",
       "      <th></th>\n",
       "      <th>name</th>\n",
       "      <th>house_id</th>\n",
       "      <th>house_zip</th>\n",
       "      <th>rent_amount</th>\n",
       "      <th>payment_date</th>\n",
       "      <th>dob</th>\n",
       "      <th>payment_amount</th>\n",
       "    </tr>\n",
       "  </thead>\n",
       "  <tbody>\n",
       "    <tr>\n",
       "      <th>0</th>\n",
       "      <td>Paulina Lefort</td>\n",
       "      <td>1869</td>\n",
       "      <td>92129</td>\n",
       "      <td>1324.0</td>\n",
       "      <td>2010-01-02</td>\n",
       "      <td>NaN</td>\n",
       "      <td>1324.0</td>\n",
       "    </tr>\n",
       "    <tr>\n",
       "      <th>1</th>\n",
       "      <td>Clare Tilly</td>\n",
       "      <td>407</td>\n",
       "      <td>92155</td>\n",
       "      <td>1723.0</td>\n",
       "      <td>2010-01-02</td>\n",
       "      <td>NaN</td>\n",
       "      <td>1723.0</td>\n",
       "    </tr>\n",
       "    <tr>\n",
       "      <th>2</th>\n",
       "      <td>Eleni Loudin</td>\n",
       "      <td>647</td>\n",
       "      <td>92111</td>\n",
       "      <td>1494.0</td>\n",
       "      <td>2010-01-02</td>\n",
       "      <td>2000.0</td>\n",
       "      <td>1494.0</td>\n",
       "    </tr>\n",
       "    <tr>\n",
       "      <th>3</th>\n",
       "      <td>Tandy Ammann</td>\n",
       "      <td>2215</td>\n",
       "      <td>92153</td>\n",
       "      <td>1438.0</td>\n",
       "      <td>2010-01-02</td>\n",
       "      <td>1992.0</td>\n",
       "      <td>1438.0</td>\n",
       "    </tr>\n",
       "    <tr>\n",
       "      <th>4</th>\n",
       "      <td>Tamra Trisler</td>\n",
       "      <td>2213</td>\n",
       "      <td>92172</td>\n",
       "      <td>1658.0</td>\n",
       "      <td>2010-01-02</td>\n",
       "      <td>2000.0</td>\n",
       "      <td>1658.0</td>\n",
       "    </tr>\n",
       "  </tbody>\n",
       "</table>\n",
       "</div>"
      ],
      "text/plain": [
       "             name house_id house_zip  rent_amount payment_date     dob  \\\n",
       "0  Paulina Lefort     1869     92129       1324.0   2010-01-02     NaN   \n",
       "1     Clare Tilly      407     92155       1723.0   2010-01-02     NaN   \n",
       "2    Eleni Loudin      647     92111       1494.0   2010-01-02  2000.0   \n",
       "3    Tandy Ammann     2215     92153       1438.0   2010-01-02  1992.0   \n",
       "4   Tamra Trisler     2213     92172       1658.0   2010-01-02  2000.0   \n",
       "\n",
       "   payment_amount  \n",
       "0          1324.0  \n",
       "1          1723.0  \n",
       "2          1494.0  \n",
       "3          1438.0  \n",
       "4          1658.0  "
      ]
     },
     "execution_count": 46,
     "metadata": {},
     "output_type": "execute_result"
    }
   ],
   "source": [
    "from datetime import datetime, date\n",
    "# In terms of dob we are interested in the year of birth not day so we can replace with just the year\n",
    "rental_data_clean['dob'] = pd.DatetimeIndex(rental_data_clean['dob']).year\n",
    "rental_data_clean.head()"
   ]
  },
  {
   "cell_type": "code",
   "execution_count": 47,
   "metadata": {
    "scrolled": true
   },
   "outputs": [
    {
     "name": "stdout",
     "output_type": "stream",
     "text": [
      "dob in 1900: 88\n",
      "dob after rent records time period: 101\n",
      "number of tenants younger than 18: 975\n",
      "\n",
      "\n",
      "number of tenantes who first payed rent in 2010: 1876\n",
      "number of tenantes who first payed rent in 2011: 58\n",
      "number of tenantes who first payed rent in 2012: 55\n"
     ]
    }
   ],
   "source": [
    "t = rental_data.groupby('name').agg({'dob': 'min', 'payment_date': 'min'})\n",
    "\n",
    "print('dob in 1900:', len(t.loc[t['dob'].dt.year == 1900]))\n",
    "print('dob after rent records time period:', len(t.loc[t['dob'].dt.year > 2012]))\n",
    "print('number of tenants younger than 18:', \n",
    "      len(t.loc[((t['payment_date'].dt.year - t['dob'].dt.year)<18) & (t['dob'].dt.year<=2012)]))\n",
    "print('\\n')\n",
    "print('number of tenantes who first payed rent in 2010:', len(t.loc[t['payment_date'].dt.year == 2010]))\n",
    "print('number of tenantes who first payed rent in 2011:', len(t.loc[t['payment_date'].dt.year == 2011]))\n",
    "print('number of tenantes who first payed rent in 2012:', len(t.loc[t['payment_date'].dt.year == 2012]))"
   ]
  },
  {
   "cell_type": "code",
   "execution_count": 48,
   "metadata": {},
   "outputs": [],
   "source": [
    "# replace all birthdays in 1900 with null\n",
    "rental_data_clean.loc[rental_data_clean.dob == 1900, 'dob'] = np.nan\n",
    "\n",
    "# changes dates that are after 2030 to 1930 and so on\n",
    "rental_data_clean['dob'] = np.where(rental_data_clean['dob'] >= 2030, rental_data_clean['dob']-100, rental_data_clean['dob'])\n",
    "\n",
    "# replace all birthdays that would render a tenant outside the eligible age group with null (includes those with 'negative' age)\n",
    "under_18 = list(rental_data_clean.loc[(rental_data_clean['payment_date'].dt.year - rental_data_clean['dob'])<18, 'name'])\n",
    "rental_data_clean['dob'] = np.where(rental_data_clean['name'].isin(under_18), np.nan, rental_data_clean['dob'])"
   ]
  },
  {
   "cell_type": "code",
   "execution_count": 49,
   "metadata": {},
   "outputs": [
    {
     "name": "stdout",
     "output_type": "stream",
     "text": [
      "Date of births are between 1930  and  1994. All other dates assumed unknown.\n"
     ]
    },
    {
     "data": {
      "text/plain": [
       "<Figure size 720x288 with 0 Axes>"
      ]
     },
     "execution_count": 49,
     "metadata": {},
     "output_type": "execute_result"
    },
    {
     "data": {
      "text/plain": [
       "Text(0.5, 1.0, 'dob distribution cleaned')"
      ]
     },
     "execution_count": 49,
     "metadata": {},
     "output_type": "execute_result"
    },
    {
     "data": {
      "text/plain": [
       "<BarContainer object of 55 artists>"
      ]
     },
     "execution_count": 49,
     "metadata": {},
     "output_type": "execute_result"
    },
    {
     "data": {
      "image/png": "[encoded data removed]",
      "text/plain": [
       "<Figure size 720x288 with 1 Axes>"
      ]
     },
     "metadata": {
      "needs_background": "light"
     },
     "output_type": "display_data"
    }
   ],
   "source": [
    "dob_clean = rental_data_clean.groupby('dob').nunique()[['name']].reset_index()\n",
    "dob_clean = dob_clean.set_index('dob').dropna()\n",
    "\n",
    "print('Date of births are between ' + str(int(rental_data_clean['dob'].min())), ' and ', \\\n",
    "      str(int(rental_data_clean['dob'].max())) + '. All other dates assumed unknown.')\n",
    "\n",
    "plt.figure(figsize=(10,4))\n",
    "plt.title('dob distribution cleaned', fontsize=16)\n",
    "plt.bar(x=dob_clean.index,height=dob_clean['name'],width=0.4)"
   ]
  },
  {
   "cell_type": "markdown",
   "metadata": {},
   "source": [
    "__A.3 payment_date__"
   ]
  },
  {
   "cell_type": "code",
   "execution_count": 50,
   "metadata": {},
   "outputs": [
    {
     "data": {
      "text/plain": [
       "count                   56610\n",
       "unique                    997\n",
       "top       2011-01-01 00:00:00\n",
       "freq                     1232\n",
       "first     2010-01-02 00:00:00\n",
       "last      2012-12-10 00:00:00\n",
       "Name: payment_date, dtype: object"
      ]
     },
     "execution_count": 50,
     "metadata": {},
     "output_type": "execute_result"
    },
    {
     "data": {
      "text/plain": [
       "payment_date    datetime64[ns]\n",
       "dtype: object"
      ]
     },
     "execution_count": 50,
     "metadata": {},
     "output_type": "execute_result"
    }
   ],
   "source": [
    "rental_data['payment_date'].describe()\n",
    "rental_data[['payment_date']].dtypes"
   ]
  },
  {
   "cell_type": "code",
   "execution_count": 51,
   "metadata": {},
   "outputs": [
    {
     "data": {
      "text/html": [
       "<div>\n",
       "<style scoped>\n",
       "    .dataframe tbody tr th:only-of-type {\n",
       "        vertical-align: middle;\n",
       "    }\n",
       "\n",
       "    .dataframe tbody tr th {\n",
       "        vertical-align: top;\n",
       "    }\n",
       "\n",
       "    .dataframe thead th {\n",
       "        text-align: right;\n",
       "    }\n",
       "</style>\n",
       "<table border=\"1\" class=\"dataframe\">\n",
       "  <thead>\n",
       "    <tr style=\"text-align: right;\">\n",
       "      <th></th>\n",
       "      <th>name</th>\n",
       "      <th>house_id</th>\n",
       "      <th>house_zip</th>\n",
       "      <th>rent_amount</th>\n",
       "      <th>payment_date</th>\n",
       "      <th>dob</th>\n",
       "      <th>payment_amount</th>\n",
       "      <th>payment_year</th>\n",
       "      <th>payment_month</th>\n",
       "    </tr>\n",
       "  </thead>\n",
       "  <tbody>\n",
       "    <tr>\n",
       "      <th>0</th>\n",
       "      <td>Paulina Lefort</td>\n",
       "      <td>1869</td>\n",
       "      <td>92129</td>\n",
       "      <td>1324.0</td>\n",
       "      <td>2010-01-02</td>\n",
       "      <td>NaT</td>\n",
       "      <td>1324.0</td>\n",
       "      <td>2010</td>\n",
       "      <td>1</td>\n",
       "    </tr>\n",
       "    <tr>\n",
       "      <th>1</th>\n",
       "      <td>Clare Tilly</td>\n",
       "      <td>407</td>\n",
       "      <td>92155</td>\n",
       "      <td>1723.0</td>\n",
       "      <td>2010-01-02</td>\n",
       "      <td>NaT</td>\n",
       "      <td>1723.0</td>\n",
       "      <td>2010</td>\n",
       "      <td>1</td>\n",
       "    </tr>\n",
       "    <tr>\n",
       "      <th>2</th>\n",
       "      <td>Eleni Loudin</td>\n",
       "      <td>647</td>\n",
       "      <td>92111</td>\n",
       "      <td>1494.0</td>\n",
       "      <td>2010-01-02</td>\n",
       "      <td>2000-01-01</td>\n",
       "      <td>1494.0</td>\n",
       "      <td>2010</td>\n",
       "      <td>1</td>\n",
       "    </tr>\n",
       "    <tr>\n",
       "      <th>3</th>\n",
       "      <td>Tandy Ammann</td>\n",
       "      <td>2215</td>\n",
       "      <td>92153</td>\n",
       "      <td>1438.0</td>\n",
       "      <td>2010-01-02</td>\n",
       "      <td>1992-12-02</td>\n",
       "      <td>1438.0</td>\n",
       "      <td>2010</td>\n",
       "      <td>1</td>\n",
       "    </tr>\n",
       "    <tr>\n",
       "      <th>4</th>\n",
       "      <td>Tamra Trisler</td>\n",
       "      <td>2213</td>\n",
       "      <td>92172</td>\n",
       "      <td>1658.0</td>\n",
       "      <td>2010-01-02</td>\n",
       "      <td>2000-01-01</td>\n",
       "      <td>1658.0</td>\n",
       "      <td>2010</td>\n",
       "      <td>1</td>\n",
       "    </tr>\n",
       "  </tbody>\n",
       "</table>\n",
       "</div>"
      ],
      "text/plain": [
       "             name house_id house_zip  rent_amount payment_date        dob  \\\n",
       "0  Paulina Lefort     1869     92129       1324.0   2010-01-02        NaT   \n",
       "1     Clare Tilly      407     92155       1723.0   2010-01-02        NaT   \n",
       "2    Eleni Loudin      647     92111       1494.0   2010-01-02 2000-01-01   \n",
       "3    Tandy Ammann     2215     92153       1438.0   2010-01-02 1992-12-02   \n",
       "4   Tamra Trisler     2213     92172       1658.0   2010-01-02 2000-01-01   \n",
       "\n",
       "   payment_amount  payment_year  payment_month  \n",
       "0          1324.0          2010              1  \n",
       "1          1723.0          2010              1  \n",
       "2          1494.0          2010              1  \n",
       "3          1438.0          2010              1  \n",
       "4          1658.0          2010              1  "
      ]
     },
     "execution_count": 51,
     "metadata": {},
     "output_type": "execute_result"
    }
   ],
   "source": [
    "rental_data['payment_year'] = pd.DatetimeIndex(rental_data['payment_date']).year\n",
    "rental_data['payment_month'] = pd.DatetimeIndex(rental_data['payment_date']).month\n",
    "rental_data.head()"
   ]
  },
  {
   "cell_type": "markdown",
   "metadata": {},
   "source": [
    "From the above table we see that dates appear to be in the format yyyy-mm-dd."
   ]
  },
  {
   "cell_type": "code",
   "execution_count": 52,
   "metadata": {},
   "outputs": [
    {
     "name": "stdout",
     "output_type": "stream",
     "text": [
      "The maximum number of payments per tenant per house per month is 12\n",
      "The mean across the dataset is 2.67 and the median is 1.0\n"
     ]
    }
   ],
   "source": [
    "payment_per_month = rental_data.groupby(['name', 'house_id', 'payment_year', 'payment_month']).count()[['payment_date']]\n",
    "print('The maximum number of payments per tenant per house per month is', payment_per_month['payment_date'].max())\n",
    "print('The mean across the dataset is', round(np.mean(payment_per_month['payment_date']),2), \n",
    "      'and the median is', np.median(payment_per_month['payment_date']))"
   ]
  },
  {
   "cell_type": "code",
   "execution_count": 53,
   "metadata": {
    "scrolled": false
   },
   "outputs": [
    {
     "data": {
      "text/plain": [
       "<Figure size 720x288 with 0 Axes>"
      ]
     },
     "execution_count": 53,
     "metadata": {},
     "output_type": "execute_result"
    },
    {
     "data": {
      "text/plain": [
       "(array([16511.,   885.,   280.,   110.,   131.,   240.,   562.,   712.,\n",
       "          672.,  1121.]),\n",
       " array([ 1. ,  2.1,  3.2,  4.3,  5.4,  6.5,  7.6,  8.7,  9.8, 10.9, 12. ]),\n",
       " <a list of 10 Patch objects>)"
      ]
     },
     "execution_count": 53,
     "metadata": {},
     "output_type": "execute_result"
    },
    {
     "data": {
      "image/png": "[encoded data removed]",
      "text/plain": [
       "<Figure size 720x288 with 1 Axes>"
      ]
     },
     "metadata": {
      "needs_background": "light"
     },
     "output_type": "display_data"
    }
   ],
   "source": [
    "plt.figure(figsize=(10,4))\n",
    "plt.hist(payment_per_month['payment_date'].values)"
   ]
  },
  {
   "cell_type": "code",
   "execution_count": 54,
   "metadata": {
    "scrolled": true
   },
   "outputs": [
    {
     "name": "stdout",
     "output_type": "stream",
     "text": [
      "1 payments per month: 13449\n",
      "2 payments per month: 3062\n",
      "3 payments per month: 885\n",
      "4 payments per month: 280\n",
      "5 payments per month: 110\n",
      "6 payments per month: 131\n",
      "7 payments per month: 240\n",
      "8 payments per month: 562\n",
      "9 payments per month: 712\n",
      "10 payments per month: 672\n",
      "11 payments per month: 830\n",
      "12 payments per month: 291\n"
     ]
    }
   ],
   "source": [
    "for i in range(1, 13):\n",
    "    print(i, 'payments per month:', len(payment_per_month.loc[payment_per_month['payment_date'] == i]))"
   ]
  },
  {
   "cell_type": "markdown",
   "metadata": {},
   "source": [
    "The issue with 'payment_date' appears to be that some dates have been inputted as in YDM date format and some in YMD format. Consequently, in the the histogram above, some tenants appear to be making 12 payments per month, whereas it is highly likely that they made 1 payment per month, on the same day of the month, for 12 consequtive months.\n",
    "Before we are able to continue with analysis we need to ensure that dates are in consistent format across the dataset. More specifically, we need to decide on which basis we will decide where 'payment_date' has been entered in YDM format instead of YMD, and whether this behavious is consistent across just 'name', 'name' & \"house_id', etc."
   ]
  },
  {
   "cell_type": "code",
   "execution_count": 55,
   "metadata": {},
   "outputs": [
    {
     "data": {
      "text/html": [
       "<div>\n",
       "<style scoped>\n",
       "    .dataframe tbody tr th:only-of-type {\n",
       "        vertical-align: middle;\n",
       "    }\n",
       "\n",
       "    .dataframe tbody tr th {\n",
       "        vertical-align: top;\n",
       "    }\n",
       "\n",
       "    .dataframe thead th {\n",
       "        text-align: right;\n",
       "    }\n",
       "</style>\n",
       "<table border=\"1\" class=\"dataframe\">\n",
       "  <thead>\n",
       "    <tr style=\"text-align: right;\">\n",
       "      <th></th>\n",
       "      <th></th>\n",
       "      <th></th>\n",
       "      <th></th>\n",
       "      <th>payment_date</th>\n",
       "    </tr>\n",
       "    <tr>\n",
       "      <th>name</th>\n",
       "      <th>house_id</th>\n",
       "      <th>payment_year</th>\n",
       "      <th>payment_month</th>\n",
       "      <th></th>\n",
       "    </tr>\n",
       "  </thead>\n",
       "  <tbody>\n",
       "    <tr>\n",
       "      <th rowspan=\"30\" valign=\"top\">Aaron Huston</th>\n",
       "      <th rowspan=\"30\" valign=\"top\">1</th>\n",
       "      <th rowspan=\"10\" valign=\"top\">2010</th>\n",
       "      <th>2</th>\n",
       "      <td>1</td>\n",
       "    </tr>\n",
       "    <tr>\n",
       "      <th>3</th>\n",
       "      <td>1</td>\n",
       "    </tr>\n",
       "    <tr>\n",
       "      <th>4</th>\n",
       "      <td>1</td>\n",
       "    </tr>\n",
       "    <tr>\n",
       "      <th>5</th>\n",
       "      <td>1</td>\n",
       "    </tr>\n",
       "    <tr>\n",
       "      <th>6</th>\n",
       "      <td>1</td>\n",
       "    </tr>\n",
       "    <tr>\n",
       "      <th>7</th>\n",
       "      <td>1</td>\n",
       "    </tr>\n",
       "    <tr>\n",
       "      <th>8</th>\n",
       "      <td>1</td>\n",
       "    </tr>\n",
       "    <tr>\n",
       "      <th>10</th>\n",
       "      <td>1</td>\n",
       "    </tr>\n",
       "    <tr>\n",
       "      <th>11</th>\n",
       "      <td>1</td>\n",
       "    </tr>\n",
       "    <tr>\n",
       "      <th>12</th>\n",
       "      <td>1</td>\n",
       "    </tr>\n",
       "    <tr>\n",
       "      <th rowspan=\"12\" valign=\"top\">2011</th>\n",
       "      <th>1</th>\n",
       "      <td>1</td>\n",
       "    </tr>\n",
       "    <tr>\n",
       "      <th>2</th>\n",
       "      <td>1</td>\n",
       "    </tr>\n",
       "    <tr>\n",
       "      <th>3</th>\n",
       "      <td>1</td>\n",
       "    </tr>\n",
       "    <tr>\n",
       "      <th>4</th>\n",
       "      <td>1</td>\n",
       "    </tr>\n",
       "    <tr>\n",
       "      <th>5</th>\n",
       "      <td>1</td>\n",
       "    </tr>\n",
       "    <tr>\n",
       "      <th>6</th>\n",
       "      <td>1</td>\n",
       "    </tr>\n",
       "    <tr>\n",
       "      <th>7</th>\n",
       "      <td>1</td>\n",
       "    </tr>\n",
       "    <tr>\n",
       "      <th>8</th>\n",
       "      <td>1</td>\n",
       "    </tr>\n",
       "    <tr>\n",
       "      <th>9</th>\n",
       "      <td>1</td>\n",
       "    </tr>\n",
       "    <tr>\n",
       "      <th>10</th>\n",
       "      <td>1</td>\n",
       "    </tr>\n",
       "    <tr>\n",
       "      <th>11</th>\n",
       "      <td>1</td>\n",
       "    </tr>\n",
       "    <tr>\n",
       "      <th>12</th>\n",
       "      <td>1</td>\n",
       "    </tr>\n",
       "    <tr>\n",
       "      <th rowspan=\"8\" valign=\"top\">2012</th>\n",
       "      <th>1</th>\n",
       "      <td>1</td>\n",
       "    </tr>\n",
       "    <tr>\n",
       "      <th>2</th>\n",
       "      <td>1</td>\n",
       "    </tr>\n",
       "    <tr>\n",
       "      <th>3</th>\n",
       "      <td>1</td>\n",
       "    </tr>\n",
       "    <tr>\n",
       "      <th>4</th>\n",
       "      <td>1</td>\n",
       "    </tr>\n",
       "    <tr>\n",
       "      <th>5</th>\n",
       "      <td>1</td>\n",
       "    </tr>\n",
       "    <tr>\n",
       "      <th>6</th>\n",
       "      <td>1</td>\n",
       "    </tr>\n",
       "    <tr>\n",
       "      <th>7</th>\n",
       "      <td>1</td>\n",
       "    </tr>\n",
       "    <tr>\n",
       "      <th>8</th>\n",
       "      <td>1</td>\n",
       "    </tr>\n",
       "    <tr>\n",
       "      <th>...</th>\n",
       "      <th>...</th>\n",
       "      <th>...</th>\n",
       "      <th>...</th>\n",
       "      <td>...</td>\n",
       "    </tr>\n",
       "    <tr>\n",
       "      <th rowspan=\"6\" valign=\"top\">Zofia Bilodeau</th>\n",
       "      <th rowspan=\"6\" valign=\"top\">2468</th>\n",
       "      <th>2011</th>\n",
       "      <th>10</th>\n",
       "      <td>1</td>\n",
       "    </tr>\n",
       "    <tr>\n",
       "      <th rowspan=\"5\" valign=\"top\">2012</th>\n",
       "      <th>1</th>\n",
       "      <td>3</td>\n",
       "    </tr>\n",
       "    <tr>\n",
       "      <th>2</th>\n",
       "      <td>2</td>\n",
       "    </tr>\n",
       "    <tr>\n",
       "      <th>3</th>\n",
       "      <td>1</td>\n",
       "    </tr>\n",
       "    <tr>\n",
       "      <th>6</th>\n",
       "      <td>1</td>\n",
       "    </tr>\n",
       "    <tr>\n",
       "      <th>8</th>\n",
       "      <td>1</td>\n",
       "    </tr>\n",
       "    <tr>\n",
       "      <th rowspan=\"4\" valign=\"top\">Zofia Knoles</th>\n",
       "      <th>2469</th>\n",
       "      <th>2010</th>\n",
       "      <th>1</th>\n",
       "      <td>3</td>\n",
       "    </tr>\n",
       "    <tr>\n",
       "      <th rowspan=\"3\" valign=\"top\">2470</th>\n",
       "      <th>2010</th>\n",
       "      <th>1</th>\n",
       "      <td>8</td>\n",
       "    </tr>\n",
       "    <tr>\n",
       "      <th>2011</th>\n",
       "      <th>1</th>\n",
       "      <td>12</td>\n",
       "    </tr>\n",
       "    <tr>\n",
       "      <th>2012</th>\n",
       "      <th>1</th>\n",
       "      <td>9</td>\n",
       "    </tr>\n",
       "    <tr>\n",
       "      <th rowspan=\"3\" valign=\"top\">Zoila Buth</th>\n",
       "      <th rowspan=\"3\" valign=\"top\">2471</th>\n",
       "      <th>2010</th>\n",
       "      <th>1</th>\n",
       "      <td>11</td>\n",
       "    </tr>\n",
       "    <tr>\n",
       "      <th>2011</th>\n",
       "      <th>1</th>\n",
       "      <td>10</td>\n",
       "    </tr>\n",
       "    <tr>\n",
       "      <th>2012</th>\n",
       "      <th>1</th>\n",
       "      <td>5</td>\n",
       "    </tr>\n",
       "    <tr>\n",
       "      <th rowspan=\"4\" valign=\"top\">Zoila Faler</th>\n",
       "      <th rowspan=\"4\" valign=\"top\">2472</th>\n",
       "      <th>2010</th>\n",
       "      <th>1</th>\n",
       "      <td>10</td>\n",
       "    </tr>\n",
       "    <tr>\n",
       "      <th>2011</th>\n",
       "      <th>1</th>\n",
       "      <td>11</td>\n",
       "    </tr>\n",
       "    <tr>\n",
       "      <th rowspan=\"2\" valign=\"top\">2012</th>\n",
       "      <th>1</th>\n",
       "      <td>8</td>\n",
       "    </tr>\n",
       "    <tr>\n",
       "      <th>2</th>\n",
       "      <td>1</td>\n",
       "    </tr>\n",
       "    <tr>\n",
       "      <th rowspan=\"6\" valign=\"top\">Zola Howley</th>\n",
       "      <th rowspan=\"4\" valign=\"top\">2473</th>\n",
       "      <th rowspan=\"2\" valign=\"top\">2010</th>\n",
       "      <th>1</th>\n",
       "      <td>8</td>\n",
       "    </tr>\n",
       "    <tr>\n",
       "      <th>2</th>\n",
       "      <td>2</td>\n",
       "    </tr>\n",
       "    <tr>\n",
       "      <th rowspan=\"2\" valign=\"top\">2011</th>\n",
       "      <th>1</th>\n",
       "      <td>1</td>\n",
       "    </tr>\n",
       "    <tr>\n",
       "      <th>2</th>\n",
       "      <td>1</td>\n",
       "    </tr>\n",
       "    <tr>\n",
       "      <th rowspan=\"2\" valign=\"top\">2474</th>\n",
       "      <th>2011</th>\n",
       "      <th>1</th>\n",
       "      <td>10</td>\n",
       "    </tr>\n",
       "    <tr>\n",
       "      <th>2012</th>\n",
       "      <th>1</th>\n",
       "      <td>8</td>\n",
       "    </tr>\n",
       "    <tr>\n",
       "      <th rowspan=\"7\" valign=\"top\">Zona Thorton</th>\n",
       "      <th rowspan=\"7\" valign=\"top\">2475</th>\n",
       "      <th rowspan=\"3\" valign=\"top\">2010</th>\n",
       "      <th>1</th>\n",
       "      <td>9</td>\n",
       "    </tr>\n",
       "    <tr>\n",
       "      <th>2</th>\n",
       "      <td>1</td>\n",
       "    </tr>\n",
       "    <tr>\n",
       "      <th>3</th>\n",
       "      <td>1</td>\n",
       "    </tr>\n",
       "    <tr>\n",
       "      <th rowspan=\"2\" valign=\"top\">2011</th>\n",
       "      <th>1</th>\n",
       "      <td>8</td>\n",
       "    </tr>\n",
       "    <tr>\n",
       "      <th>2</th>\n",
       "      <td>2</td>\n",
       "    </tr>\n",
       "    <tr>\n",
       "      <th rowspan=\"2\" valign=\"top\">2012</th>\n",
       "      <th>1</th>\n",
       "      <td>8</td>\n",
       "    </tr>\n",
       "    <tr>\n",
       "      <th>2</th>\n",
       "      <td>1</td>\n",
       "    </tr>\n",
       "  </tbody>\n",
       "</table>\n",
       "<p>21224 rows × 1 columns</p>\n",
       "</div>"
      ],
      "text/plain": [
       "                                                    payment_date\n",
       "name           house_id payment_year payment_month              \n",
       "Aaron Huston   1        2010         2                         1\n",
       "                                     3                         1\n",
       "                                     4                         1\n",
       "                                     5                         1\n",
       "                                     6                         1\n",
       "                                     7                         1\n",
       "                                     8                         1\n",
       "                                     10                        1\n",
       "                                     11                        1\n",
       "                                     12                        1\n",
       "                        2011         1                         1\n",
       "                                     2                         1\n",
       "                                     3                         1\n",
       "                                     4                         1\n",
       "                                     5                         1\n",
       "                                     6                         1\n",
       "                                     7                         1\n",
       "                                     8                         1\n",
       "                                     9                         1\n",
       "                                     10                        1\n",
       "                                     11                        1\n",
       "                                     12                        1\n",
       "                        2012         1                         1\n",
       "                                     2                         1\n",
       "                                     3                         1\n",
       "                                     4                         1\n",
       "                                     5                         1\n",
       "                                     6                         1\n",
       "                                     7                         1\n",
       "                                     8                         1\n",
       "...                                                          ...\n",
       "Zofia Bilodeau 2468     2011         10                        1\n",
       "                        2012         1                         3\n",
       "                                     2                         2\n",
       "                                     3                         1\n",
       "                                     6                         1\n",
       "                                     8                         1\n",
       "Zofia Knoles   2469     2010         1                         3\n",
       "               2470     2010         1                         8\n",
       "                        2011         1                        12\n",
       "                        2012         1                         9\n",
       "Zoila Buth     2471     2010         1                        11\n",
       "                        2011         1                        10\n",
       "                        2012         1                         5\n",
       "Zoila Faler    2472     2010         1                        10\n",
       "                        2011         1                        11\n",
       "                        2012         1                         8\n",
       "                                     2                         1\n",
       "Zola Howley    2473     2010         1                         8\n",
       "                                     2                         2\n",
       "                        2011         1                         1\n",
       "                                     2                         1\n",
       "               2474     2011         1                        10\n",
       "                        2012         1                         8\n",
       "Zona Thorton   2475     2010         1                         9\n",
       "                                     2                         1\n",
       "                                     3                         1\n",
       "                        2011         1                         8\n",
       "                                     2                         2\n",
       "                        2012         1                         8\n",
       "                                     2                         1\n",
       "\n",
       "[21224 rows x 1 columns]"
      ]
     },
     "execution_count": 55,
     "metadata": {},
     "output_type": "execute_result"
    }
   ],
   "source": [
    "payment_per_month"
   ]
  },
  {
   "cell_type": "markdown",
   "metadata": {},
   "source": [
    "The df 'payment_per_month' above helps us with understanding the rent payment behaviour of different tenants, and helps decide on the criterion for date format. For example, Aaron Huston has one payment for each month which indicates the date is inputted as YMD and read correctly. On the other hand, Zoila Buth has 11, 10 and 5 payments in January of 2010, 2011 and 2012 respectively. This is strong evidence that there an error in the date format here, and hence we take a closer look to get some insight."
   ]
  },
  {
   "cell_type": "code",
   "execution_count": 56,
   "metadata": {},
   "outputs": [
    {
     "data": {
      "text/html": [
       "<div>\n",
       "<style scoped>\n",
       "    .dataframe tbody tr th:only-of-type {\n",
       "        vertical-align: middle;\n",
       "    }\n",
       "\n",
       "    .dataframe tbody tr th {\n",
       "        vertical-align: top;\n",
       "    }\n",
       "\n",
       "    .dataframe thead tr th {\n",
       "        text-align: left;\n",
       "    }\n",
       "</style>\n",
       "<table border=\"1\" class=\"dataframe\">\n",
       "  <thead>\n",
       "    <tr>\n",
       "      <th></th>\n",
       "      <th colspan=\"3\" halign=\"left\">payment_date</th>\n",
       "    </tr>\n",
       "    <tr>\n",
       "      <th>payment_year</th>\n",
       "      <th>2010</th>\n",
       "      <th>2011</th>\n",
       "      <th>2012</th>\n",
       "    </tr>\n",
       "  </thead>\n",
       "  <tbody>\n",
       "    <tr>\n",
       "      <th>570</th>\n",
       "      <td>2010-01-02</td>\n",
       "      <td>NaT</td>\n",
       "      <td>NaT</td>\n",
       "    </tr>\n",
       "    <tr>\n",
       "      <th>1812</th>\n",
       "      <td>2010-01-03</td>\n",
       "      <td>NaT</td>\n",
       "      <td>NaT</td>\n",
       "    </tr>\n",
       "    <tr>\n",
       "      <th>2908</th>\n",
       "      <td>2010-01-04</td>\n",
       "      <td>NaT</td>\n",
       "      <td>NaT</td>\n",
       "    </tr>\n",
       "    <tr>\n",
       "      <th>4057</th>\n",
       "      <td>2010-01-05</td>\n",
       "      <td>NaT</td>\n",
       "      <td>NaT</td>\n",
       "    </tr>\n",
       "    <tr>\n",
       "      <th>4558</th>\n",
       "      <td>2010-01-06</td>\n",
       "      <td>NaT</td>\n",
       "      <td>NaT</td>\n",
       "    </tr>\n",
       "    <tr>\n",
       "      <th>5744</th>\n",
       "      <td>2010-01-07</td>\n",
       "      <td>NaT</td>\n",
       "      <td>NaT</td>\n",
       "    </tr>\n",
       "    <tr>\n",
       "      <th>7409</th>\n",
       "      <td>2010-01-08</td>\n",
       "      <td>NaT</td>\n",
       "      <td>NaT</td>\n",
       "    </tr>\n",
       "    <tr>\n",
       "      <th>8041</th>\n",
       "      <td>2010-01-09</td>\n",
       "      <td>NaT</td>\n",
       "      <td>NaT</td>\n",
       "    </tr>\n",
       "    <tr>\n",
       "      <th>9598</th>\n",
       "      <td>2010-01-10</td>\n",
       "      <td>NaT</td>\n",
       "      <td>NaT</td>\n",
       "    </tr>\n",
       "    <tr>\n",
       "      <th>10026</th>\n",
       "      <td>2010-01-11</td>\n",
       "      <td>NaT</td>\n",
       "      <td>NaT</td>\n",
       "    </tr>\n",
       "    <tr>\n",
       "      <th>11592</th>\n",
       "      <td>2010-01-12</td>\n",
       "      <td>NaT</td>\n",
       "      <td>NaT</td>\n",
       "    </tr>\n",
       "    <tr>\n",
       "      <th>20365</th>\n",
       "      <td>NaT</td>\n",
       "      <td>2011-01-01</td>\n",
       "      <td>NaT</td>\n",
       "    </tr>\n",
       "    <tr>\n",
       "      <th>21470</th>\n",
       "      <td>NaT</td>\n",
       "      <td>2011-01-02</td>\n",
       "      <td>NaT</td>\n",
       "    </tr>\n",
       "    <tr>\n",
       "      <th>21956</th>\n",
       "      <td>NaT</td>\n",
       "      <td>2011-01-03</td>\n",
       "      <td>NaT</td>\n",
       "    </tr>\n",
       "    <tr>\n",
       "      <th>23887</th>\n",
       "      <td>NaT</td>\n",
       "      <td>2011-01-04</td>\n",
       "      <td>NaT</td>\n",
       "    </tr>\n",
       "    <tr>\n",
       "      <th>24319</th>\n",
       "      <td>NaT</td>\n",
       "      <td>2011-01-05</td>\n",
       "      <td>NaT</td>\n",
       "    </tr>\n",
       "    <tr>\n",
       "      <th>26731</th>\n",
       "      <td>NaT</td>\n",
       "      <td>2011-01-07</td>\n",
       "      <td>NaT</td>\n",
       "    </tr>\n",
       "    <tr>\n",
       "      <th>28153</th>\n",
       "      <td>NaT</td>\n",
       "      <td>2011-01-08</td>\n",
       "      <td>NaT</td>\n",
       "    </tr>\n",
       "    <tr>\n",
       "      <th>29052</th>\n",
       "      <td>NaT</td>\n",
       "      <td>2011-01-09</td>\n",
       "      <td>NaT</td>\n",
       "    </tr>\n",
       "    <tr>\n",
       "      <th>29970</th>\n",
       "      <td>NaT</td>\n",
       "      <td>2011-01-10</td>\n",
       "      <td>NaT</td>\n",
       "    </tr>\n",
       "    <tr>\n",
       "      <th>32223</th>\n",
       "      <td>NaT</td>\n",
       "      <td>2011-01-12</td>\n",
       "      <td>NaT</td>\n",
       "    </tr>\n",
       "    <tr>\n",
       "      <th>41044</th>\n",
       "      <td>NaT</td>\n",
       "      <td>NaT</td>\n",
       "      <td>2012-01-01</td>\n",
       "    </tr>\n",
       "    <tr>\n",
       "      <th>42121</th>\n",
       "      <td>NaT</td>\n",
       "      <td>NaT</td>\n",
       "      <td>2012-01-02</td>\n",
       "    </tr>\n",
       "    <tr>\n",
       "      <th>43501</th>\n",
       "      <td>NaT</td>\n",
       "      <td>NaT</td>\n",
       "      <td>2012-01-03</td>\n",
       "    </tr>\n",
       "    <tr>\n",
       "      <th>44828</th>\n",
       "      <td>NaT</td>\n",
       "      <td>NaT</td>\n",
       "      <td>2012-01-04</td>\n",
       "    </tr>\n",
       "    <tr>\n",
       "      <th>45819</th>\n",
       "      <td>NaT</td>\n",
       "      <td>NaT</td>\n",
       "      <td>2012-01-05</td>\n",
       "    </tr>\n",
       "  </tbody>\n",
       "</table>\n",
       "</div>"
      ],
      "text/plain": [
       "             payment_date                      \n",
       "payment_year         2010       2011       2012\n",
       "570            2010-01-02        NaT        NaT\n",
       "1812           2010-01-03        NaT        NaT\n",
       "2908           2010-01-04        NaT        NaT\n",
       "4057           2010-01-05        NaT        NaT\n",
       "4558           2010-01-06        NaT        NaT\n",
       "5744           2010-01-07        NaT        NaT\n",
       "7409           2010-01-08        NaT        NaT\n",
       "8041           2010-01-09        NaT        NaT\n",
       "9598           2010-01-10        NaT        NaT\n",
       "10026          2010-01-11        NaT        NaT\n",
       "11592          2010-01-12        NaT        NaT\n",
       "20365                 NaT 2011-01-01        NaT\n",
       "21470                 NaT 2011-01-02        NaT\n",
       "21956                 NaT 2011-01-03        NaT\n",
       "23887                 NaT 2011-01-04        NaT\n",
       "24319                 NaT 2011-01-05        NaT\n",
       "26731                 NaT 2011-01-07        NaT\n",
       "28153                 NaT 2011-01-08        NaT\n",
       "29052                 NaT 2011-01-09        NaT\n",
       "29970                 NaT 2011-01-10        NaT\n",
       "32223                 NaT 2011-01-12        NaT\n",
       "41044                 NaT        NaT 2012-01-01\n",
       "42121                 NaT        NaT 2012-01-02\n",
       "43501                 NaT        NaT 2012-01-03\n",
       "44828                 NaT        NaT 2012-01-04\n",
       "45819                 NaT        NaT 2012-01-05"
      ]
     },
     "execution_count": 56,
     "metadata": {},
     "output_type": "execute_result"
    }
   ],
   "source": [
    "rental_data.loc[rental_data.name == 'Zoila Buth'][['payment_year', 'payment_date']].pivot(columns ='payment_year')"
   ]
  },
  {
   "cell_type": "markdown",
   "metadata": {},
   "source": [
    "From looking, at the data, for Zoila Buth, one can easily infer that Zoila has been paying her rent on the first of each month and not on the first 12 days of January per year. Next, we choose to look at an example of a tenant that has paid rent on different properties in order to understand whether the differences in data entry depend solely on the tenants' name or the property as well. We look at Zola Howley and the house_id's 2473, 2474."
   ]
  },
  {
   "cell_type": "code",
   "execution_count": 57,
   "metadata": {},
   "outputs": [
    {
     "data": {
      "text/html": [
       "<div>\n",
       "<style scoped>\n",
       "    .dataframe tbody tr th:only-of-type {\n",
       "        vertical-align: middle;\n",
       "    }\n",
       "\n",
       "    .dataframe tbody tr th {\n",
       "        vertical-align: top;\n",
       "    }\n",
       "\n",
       "    .dataframe thead tr th {\n",
       "        text-align: left;\n",
       "    }\n",
       "</style>\n",
       "<table border=\"1\" class=\"dataframe\">\n",
       "  <thead>\n",
       "    <tr>\n",
       "      <th></th>\n",
       "      <th colspan=\"2\" halign=\"left\">payment_date</th>\n",
       "    </tr>\n",
       "    <tr>\n",
       "      <th>payment_year</th>\n",
       "      <th>2010</th>\n",
       "      <th>2011</th>\n",
       "    </tr>\n",
       "  </thead>\n",
       "  <tbody>\n",
       "    <tr>\n",
       "      <th>1513</th>\n",
       "      <td>2010-01-03</td>\n",
       "      <td>NaT</td>\n",
       "    </tr>\n",
       "    <tr>\n",
       "      <th>2750</th>\n",
       "      <td>2010-01-04</td>\n",
       "      <td>NaT</td>\n",
       "    </tr>\n",
       "    <tr>\n",
       "      <th>5215</th>\n",
       "      <td>2010-01-06</td>\n",
       "      <td>NaT</td>\n",
       "    </tr>\n",
       "    <tr>\n",
       "      <th>6462</th>\n",
       "      <td>2010-01-07</td>\n",
       "      <td>NaT</td>\n",
       "    </tr>\n",
       "    <tr>\n",
       "      <th>6790</th>\n",
       "      <td>2010-01-08</td>\n",
       "      <td>NaT</td>\n",
       "    </tr>\n",
       "    <tr>\n",
       "      <th>8304</th>\n",
       "      <td>2010-01-09</td>\n",
       "      <td>NaT</td>\n",
       "    </tr>\n",
       "    <tr>\n",
       "      <th>9487</th>\n",
       "      <td>2010-01-10</td>\n",
       "      <td>NaT</td>\n",
       "    </tr>\n",
       "    <tr>\n",
       "      <th>11995</th>\n",
       "      <td>2010-01-12</td>\n",
       "      <td>NaT</td>\n",
       "    </tr>\n",
       "    <tr>\n",
       "      <th>12376</th>\n",
       "      <td>2010-02-02</td>\n",
       "      <td>NaT</td>\n",
       "    </tr>\n",
       "    <tr>\n",
       "      <th>12715</th>\n",
       "      <td>2010-02-05</td>\n",
       "      <td>NaT</td>\n",
       "    </tr>\n",
       "    <tr>\n",
       "      <th>20198</th>\n",
       "      <td>NaT</td>\n",
       "      <td>2011-01-01</td>\n",
       "    </tr>\n",
       "    <tr>\n",
       "      <th>33301</th>\n",
       "      <td>NaT</td>\n",
       "      <td>2011-02-02</td>\n",
       "    </tr>\n",
       "  </tbody>\n",
       "</table>\n",
       "</div>"
      ],
      "text/plain": [
       "             payment_date           \n",
       "payment_year         2010       2011\n",
       "1513           2010-01-03        NaT\n",
       "2750           2010-01-04        NaT\n",
       "5215           2010-01-06        NaT\n",
       "6462           2010-01-07        NaT\n",
       "6790           2010-01-08        NaT\n",
       "8304           2010-01-09        NaT\n",
       "9487           2010-01-10        NaT\n",
       "11995          2010-01-12        NaT\n",
       "12376          2010-02-02        NaT\n",
       "12715          2010-02-05        NaT\n",
       "20198                 NaT 2011-01-01\n",
       "33301                 NaT 2011-02-02"
      ]
     },
     "execution_count": 57,
     "metadata": {},
     "output_type": "execute_result"
    },
    {
     "data": {
      "text/html": [
       "<div>\n",
       "<style scoped>\n",
       "    .dataframe tbody tr th:only-of-type {\n",
       "        vertical-align: middle;\n",
       "    }\n",
       "\n",
       "    .dataframe tbody tr th {\n",
       "        vertical-align: top;\n",
       "    }\n",
       "\n",
       "    .dataframe thead tr th {\n",
       "        text-align: left;\n",
       "    }\n",
       "</style>\n",
       "<table border=\"1\" class=\"dataframe\">\n",
       "  <thead>\n",
       "    <tr>\n",
       "      <th></th>\n",
       "      <th colspan=\"2\" halign=\"left\">payment_date</th>\n",
       "    </tr>\n",
       "    <tr>\n",
       "      <th>payment_year</th>\n",
       "      <th>2011</th>\n",
       "      <th>2012</th>\n",
       "    </tr>\n",
       "  </thead>\n",
       "  <tbody>\n",
       "    <tr>\n",
       "      <th>21809</th>\n",
       "      <td>2011-01-03</td>\n",
       "      <td>NaT</td>\n",
       "    </tr>\n",
       "    <tr>\n",
       "      <th>23799</th>\n",
       "      <td>2011-01-04</td>\n",
       "      <td>NaT</td>\n",
       "    </tr>\n",
       "    <tr>\n",
       "      <th>24641</th>\n",
       "      <td>2011-01-05</td>\n",
       "      <td>NaT</td>\n",
       "    </tr>\n",
       "    <tr>\n",
       "      <th>26113</th>\n",
       "      <td>2011-01-06</td>\n",
       "      <td>NaT</td>\n",
       "    </tr>\n",
       "    <tr>\n",
       "      <th>26996</th>\n",
       "      <td>2011-01-07</td>\n",
       "      <td>NaT</td>\n",
       "    </tr>\n",
       "    <tr>\n",
       "      <th>28025</th>\n",
       "      <td>2011-01-08</td>\n",
       "      <td>NaT</td>\n",
       "    </tr>\n",
       "    <tr>\n",
       "      <th>28984</th>\n",
       "      <td>2011-01-09</td>\n",
       "      <td>NaT</td>\n",
       "    </tr>\n",
       "    <tr>\n",
       "      <th>30739</th>\n",
       "      <td>2011-01-10</td>\n",
       "      <td>NaT</td>\n",
       "    </tr>\n",
       "    <tr>\n",
       "      <th>31100</th>\n",
       "      <td>2011-01-11</td>\n",
       "      <td>NaT</td>\n",
       "    </tr>\n",
       "    <tr>\n",
       "      <th>32922</th>\n",
       "      <td>2011-01-12</td>\n",
       "      <td>NaT</td>\n",
       "    </tr>\n",
       "    <tr>\n",
       "      <th>41266</th>\n",
       "      <td>NaT</td>\n",
       "      <td>2012-01-01</td>\n",
       "    </tr>\n",
       "    <tr>\n",
       "      <th>42785</th>\n",
       "      <td>NaT</td>\n",
       "      <td>2012-01-02</td>\n",
       "    </tr>\n",
       "    <tr>\n",
       "      <th>44272</th>\n",
       "      <td>NaT</td>\n",
       "      <td>2012-01-03</td>\n",
       "    </tr>\n",
       "    <tr>\n",
       "      <th>44369</th>\n",
       "      <td>NaT</td>\n",
       "      <td>2012-01-04</td>\n",
       "    </tr>\n",
       "    <tr>\n",
       "      <th>46548</th>\n",
       "      <td>NaT</td>\n",
       "      <td>2012-01-05</td>\n",
       "    </tr>\n",
       "    <tr>\n",
       "      <th>46684</th>\n",
       "      <td>NaT</td>\n",
       "      <td>2012-01-06</td>\n",
       "    </tr>\n",
       "    <tr>\n",
       "      <th>48431</th>\n",
       "      <td>NaT</td>\n",
       "      <td>2012-01-07</td>\n",
       "    </tr>\n",
       "    <tr>\n",
       "      <th>48990</th>\n",
       "      <td>NaT</td>\n",
       "      <td>2012-01-08</td>\n",
       "    </tr>\n",
       "  </tbody>\n",
       "</table>\n",
       "</div>"
      ],
      "text/plain": [
       "             payment_date           \n",
       "payment_year         2011       2012\n",
       "21809          2011-01-03        NaT\n",
       "23799          2011-01-04        NaT\n",
       "24641          2011-01-05        NaT\n",
       "26113          2011-01-06        NaT\n",
       "26996          2011-01-07        NaT\n",
       "28025          2011-01-08        NaT\n",
       "28984          2011-01-09        NaT\n",
       "30739          2011-01-10        NaT\n",
       "31100          2011-01-11        NaT\n",
       "32922          2011-01-12        NaT\n",
       "41266                 NaT 2012-01-01\n",
       "42785                 NaT 2012-01-02\n",
       "44272                 NaT 2012-01-03\n",
       "44369                 NaT 2012-01-04\n",
       "46548                 NaT 2012-01-05\n",
       "46684                 NaT 2012-01-06\n",
       "48431                 NaT 2012-01-07\n",
       "48990                 NaT 2012-01-08"
      ]
     },
     "execution_count": 57,
     "metadata": {},
     "output_type": "execute_result"
    }
   ],
   "source": [
    "rental_data.loc[(rental_data.name == 'Zola Howley') & \n",
    "                (rental_data.house_id == '2473')][['payment_year', 'payment_date']].pivot(columns ='payment_year')\n",
    "rental_data.loc[(rental_data.name == 'Zola Howley') & \n",
    "                (rental_data.house_id == '2474')][['payment_year', 'payment_date']].pivot(columns ='payment_year')"
   ]
  },
  {
   "cell_type": "markdown",
   "metadata": {},
   "source": [
    "From the pivot table above, Zola Howley rent payments are recorded in YDM format for both the properties she rented in the period 2010-2012. Hence, it seems that the 'payment_date' date format is dependent on the tenant's name only.\n",
    "Zola Howley has 8 recorded rent payments in January 2010, and only two in February. The next task is to understand the cases where there are more than one payments per month but still a small number across all months. For this, we look at the case of Zofia Bilodeau, who in 2012 has 1 payment per month in most months, 2 payment in one month and 3 in one month."
   ]
  },
  {
   "cell_type": "code",
   "execution_count": 58,
   "metadata": {},
   "outputs": [
    {
     "data": {
      "text/html": [
       "<div>\n",
       "<style scoped>\n",
       "    .dataframe tbody tr th:only-of-type {\n",
       "        vertical-align: middle;\n",
       "    }\n",
       "\n",
       "    .dataframe tbody tr th {\n",
       "        vertical-align: top;\n",
       "    }\n",
       "\n",
       "    .dataframe thead tr th {\n",
       "        text-align: left;\n",
       "    }\n",
       "</style>\n",
       "<table border=\"1\" class=\"dataframe\">\n",
       "  <thead>\n",
       "    <tr>\n",
       "      <th></th>\n",
       "      <th colspan=\"3\" halign=\"left\">payment_date</th>\n",
       "    </tr>\n",
       "    <tr>\n",
       "      <th>payment_year</th>\n",
       "      <th>2010</th>\n",
       "      <th>2011</th>\n",
       "      <th>2012</th>\n",
       "    </tr>\n",
       "  </thead>\n",
       "  <tbody>\n",
       "    <tr>\n",
       "      <th>13256</th>\n",
       "      <td>2010-02-11</td>\n",
       "      <td>NaT</td>\n",
       "      <td>NaT</td>\n",
       "    </tr>\n",
       "    <tr>\n",
       "      <th>13730</th>\n",
       "      <td>2010-03-04</td>\n",
       "      <td>NaT</td>\n",
       "      <td>NaT</td>\n",
       "    </tr>\n",
       "    <tr>\n",
       "      <th>13918</th>\n",
       "      <td>2010-03-07</td>\n",
       "      <td>NaT</td>\n",
       "      <td>NaT</td>\n",
       "    </tr>\n",
       "    <tr>\n",
       "      <th>14005</th>\n",
       "      <td>2010-03-09</td>\n",
       "      <td>NaT</td>\n",
       "      <td>NaT</td>\n",
       "    </tr>\n",
       "    <tr>\n",
       "      <th>15850</th>\n",
       "      <td>2010-06-02</td>\n",
       "      <td>NaT</td>\n",
       "      <td>NaT</td>\n",
       "    </tr>\n",
       "    <tr>\n",
       "      <th>15863</th>\n",
       "      <td>2010-06-03</td>\n",
       "      <td>NaT</td>\n",
       "      <td>NaT</td>\n",
       "    </tr>\n",
       "    <tr>\n",
       "      <th>16064</th>\n",
       "      <td>2010-06-08</td>\n",
       "      <td>NaT</td>\n",
       "      <td>NaT</td>\n",
       "    </tr>\n",
       "    <tr>\n",
       "      <th>16239</th>\n",
       "      <td>2010-06-12</td>\n",
       "      <td>NaT</td>\n",
       "      <td>NaT</td>\n",
       "    </tr>\n",
       "    <tr>\n",
       "      <th>17350</th>\n",
       "      <td>2010-08-10</td>\n",
       "      <td>NaT</td>\n",
       "      <td>NaT</td>\n",
       "    </tr>\n",
       "    <tr>\n",
       "      <th>17705</th>\n",
       "      <td>2010-09-05</td>\n",
       "      <td>NaT</td>\n",
       "      <td>NaT</td>\n",
       "    </tr>\n",
       "    <tr>\n",
       "      <th>18694</th>\n",
       "      <td>2010-11-06</td>\n",
       "      <td>NaT</td>\n",
       "      <td>NaT</td>\n",
       "    </tr>\n",
       "    <tr>\n",
       "      <th>29130</th>\n",
       "      <td>NaT</td>\n",
       "      <td>2011-01-09</td>\n",
       "      <td>NaT</td>\n",
       "    </tr>\n",
       "    <tr>\n",
       "      <th>31704</th>\n",
       "      <td>NaT</td>\n",
       "      <td>2011-01-11</td>\n",
       "      <td>NaT</td>\n",
       "    </tr>\n",
       "    <tr>\n",
       "      <th>33590</th>\n",
       "      <td>NaT</td>\n",
       "      <td>2011-02-04</td>\n",
       "      <td>NaT</td>\n",
       "    </tr>\n",
       "    <tr>\n",
       "      <th>33877</th>\n",
       "      <td>NaT</td>\n",
       "      <td>2011-02-07</td>\n",
       "      <td>NaT</td>\n",
       "    </tr>\n",
       "    <tr>\n",
       "      <th>34566</th>\n",
       "      <td>NaT</td>\n",
       "      <td>2011-03-01</td>\n",
       "      <td>NaT</td>\n",
       "    </tr>\n",
       "    <tr>\n",
       "      <th>35163</th>\n",
       "      <td>NaT</td>\n",
       "      <td>2011-03-10</td>\n",
       "      <td>NaT</td>\n",
       "    </tr>\n",
       "    <tr>\n",
       "      <th>35223</th>\n",
       "      <td>NaT</td>\n",
       "      <td>2011-03-12</td>\n",
       "      <td>NaT</td>\n",
       "    </tr>\n",
       "    <tr>\n",
       "      <th>35591</th>\n",
       "      <td>NaT</td>\n",
       "      <td>2011-04-03</td>\n",
       "      <td>NaT</td>\n",
       "    </tr>\n",
       "    <tr>\n",
       "      <th>36496</th>\n",
       "      <td>NaT</td>\n",
       "      <td>2011-05-05</td>\n",
       "      <td>NaT</td>\n",
       "    </tr>\n",
       "    <tr>\n",
       "      <th>37727</th>\n",
       "      <td>NaT</td>\n",
       "      <td>2011-07-02</td>\n",
       "      <td>NaT</td>\n",
       "    </tr>\n",
       "    <tr>\n",
       "      <th>39124</th>\n",
       "      <td>NaT</td>\n",
       "      <td>2011-09-06</td>\n",
       "      <td>NaT</td>\n",
       "    </tr>\n",
       "    <tr>\n",
       "      <th>39758</th>\n",
       "      <td>NaT</td>\n",
       "      <td>2011-10-08</td>\n",
       "      <td>NaT</td>\n",
       "    </tr>\n",
       "    <tr>\n",
       "      <th>45376</th>\n",
       "      <td>NaT</td>\n",
       "      <td>NaT</td>\n",
       "      <td>2012-01-04</td>\n",
       "    </tr>\n",
       "    <tr>\n",
       "      <th>47075</th>\n",
       "      <td>NaT</td>\n",
       "      <td>NaT</td>\n",
       "      <td>2012-01-06</td>\n",
       "    </tr>\n",
       "    <tr>\n",
       "      <th>49506</th>\n",
       "      <td>NaT</td>\n",
       "      <td>NaT</td>\n",
       "      <td>2012-01-08</td>\n",
       "    </tr>\n",
       "    <tr>\n",
       "      <th>51677</th>\n",
       "      <td>NaT</td>\n",
       "      <td>NaT</td>\n",
       "      <td>2012-02-05</td>\n",
       "    </tr>\n",
       "    <tr>\n",
       "      <th>51960</th>\n",
       "      <td>NaT</td>\n",
       "      <td>NaT</td>\n",
       "      <td>2012-02-09</td>\n",
       "    </tr>\n",
       "    <tr>\n",
       "      <th>52607</th>\n",
       "      <td>NaT</td>\n",
       "      <td>NaT</td>\n",
       "      <td>2012-03-07</td>\n",
       "    </tr>\n",
       "    <tr>\n",
       "      <th>54203</th>\n",
       "      <td>NaT</td>\n",
       "      <td>NaT</td>\n",
       "      <td>2012-06-01</td>\n",
       "    </tr>\n",
       "    <tr>\n",
       "      <th>55383</th>\n",
       "      <td>NaT</td>\n",
       "      <td>NaT</td>\n",
       "      <td>2012-08-03</td>\n",
       "    </tr>\n",
       "  </tbody>\n",
       "</table>\n",
       "</div>"
      ],
      "text/plain": [
       "             payment_date                      \n",
       "payment_year         2010       2011       2012\n",
       "13256          2010-02-11        NaT        NaT\n",
       "13730          2010-03-04        NaT        NaT\n",
       "13918          2010-03-07        NaT        NaT\n",
       "14005          2010-03-09        NaT        NaT\n",
       "15850          2010-06-02        NaT        NaT\n",
       "15863          2010-06-03        NaT        NaT\n",
       "16064          2010-06-08        NaT        NaT\n",
       "16239          2010-06-12        NaT        NaT\n",
       "17350          2010-08-10        NaT        NaT\n",
       "17705          2010-09-05        NaT        NaT\n",
       "18694          2010-11-06        NaT        NaT\n",
       "29130                 NaT 2011-01-09        NaT\n",
       "31704                 NaT 2011-01-11        NaT\n",
       "33590                 NaT 2011-02-04        NaT\n",
       "33877                 NaT 2011-02-07        NaT\n",
       "34566                 NaT 2011-03-01        NaT\n",
       "35163                 NaT 2011-03-10        NaT\n",
       "35223                 NaT 2011-03-12        NaT\n",
       "35591                 NaT 2011-04-03        NaT\n",
       "36496                 NaT 2011-05-05        NaT\n",
       "37727                 NaT 2011-07-02        NaT\n",
       "39124                 NaT 2011-09-06        NaT\n",
       "39758                 NaT 2011-10-08        NaT\n",
       "45376                 NaT        NaT 2012-01-04\n",
       "47075                 NaT        NaT 2012-01-06\n",
       "49506                 NaT        NaT 2012-01-08\n",
       "51677                 NaT        NaT 2012-02-05\n",
       "51960                 NaT        NaT 2012-02-09\n",
       "52607                 NaT        NaT 2012-03-07\n",
       "54203                 NaT        NaT 2012-06-01\n",
       "55383                 NaT        NaT 2012-08-03"
      ]
     },
     "execution_count": 58,
     "metadata": {},
     "output_type": "execute_result"
    }
   ],
   "source": [
    "rental_data.loc[rental_data.name == 'Zofia Bilodeau'][['payment_year', 'payment_date']].pivot(columns ='payment_year')"
   ]
  },
  {
   "cell_type": "markdown",
   "metadata": {},
   "source": [
    "It is safe to assume from the above table that Zofia Bilodeau rent payments are recorded in YDM format. If we look at the payments made in 2012, assuming a YMD date format would mean she made 3 payments in January, 2 payments in February and then one payment in March , June and August, which is not reasonable. However, we can see that if we look at the payment dates in YDM format she made a payments withing the first days of the month from January to September with the exception of February."
   ]
  },
  {
   "cell_type": "code",
   "execution_count": 71,
   "metadata": {},
   "outputs": [
    {
     "data": {
      "text/html": [
       "<div>\n",
       "<style scoped>\n",
       "    .dataframe tbody tr th:only-of-type {\n",
       "        vertical-align: middle;\n",
       "    }\n",
       "\n",
       "    .dataframe tbody tr th {\n",
       "        vertical-align: top;\n",
       "    }\n",
       "\n",
       "    .dataframe thead th {\n",
       "        text-align: right;\n",
       "    }\n",
       "</style>\n",
       "<table border=\"1\" class=\"dataframe\">\n",
       "  <thead>\n",
       "    <tr style=\"text-align: right;\">\n",
       "      <th></th>\n",
       "      <th>payment_date</th>\n",
       "    </tr>\n",
       "    <tr>\n",
       "      <th>name</th>\n",
       "      <th></th>\n",
       "    </tr>\n",
       "  </thead>\n",
       "  <tbody>\n",
       "    <tr>\n",
       "      <th>Aaron Huston</th>\n",
       "      <td>1</td>\n",
       "    </tr>\n",
       "    <tr>\n",
       "      <th>Abbey Kluth</th>\n",
       "      <td>3</td>\n",
       "    </tr>\n",
       "    <tr>\n",
       "      <th>Abe Prophet</th>\n",
       "      <td>11</td>\n",
       "    </tr>\n",
       "    <tr>\n",
       "      <th>Abel Emmett</th>\n",
       "      <td>12</td>\n",
       "    </tr>\n",
       "    <tr>\n",
       "      <th>Abraham Maggi</th>\n",
       "      <td>3</td>\n",
       "    </tr>\n",
       "  </tbody>\n",
       "</table>\n",
       "</div>"
      ],
      "text/plain": [
       "               payment_date\n",
       "name                       \n",
       "Aaron Huston              1\n",
       "Abbey Kluth               3\n",
       "Abe Prophet              11\n",
       "Abel Emmett              12\n",
       "Abraham Maggi             3"
      ]
     },
     "execution_count": 71,
     "metadata": {},
     "output_type": "execute_result"
    }
   ],
   "source": [
    "rental_data['payment_day'] = pd.DatetimeIndex(rental_data['payment_date']).day\n",
    "max_payment_per_month = payment_per_month.groupby('name')[['payment_date']].max()\n",
    "max_payment_per_month.head()"
   ]
  },
  {
   "cell_type": "markdown",
   "metadata": {},
   "source": [
    "__Assumptions:__  \n",
    "* Based on close examination of the cases where there are more than one payments per month, we assume that 'payment_date' dates are in YMD format when the maximum number of monthly rent payments is equal to 1 unless the day of payment is larger than 12. In all other cases, date will be assumed to be in YDM format and will be transformed to YMD."
   ]
  },
  {
   "cell_type": "code",
   "execution_count": 64,
   "metadata": {},
   "outputs": [
    {
     "name": "stdout",
     "output_type": "stream",
     "text": [
      "1989 tenant names in dataset\n",
      "Of those, payment_date is in YMD date format for 167\n"
     ]
    }
   ],
   "source": [
    "print(len(max_payment_per_month), 'tenant names in dataset')\n",
    "print('Of those, payment_date is in YMD date format for', \n",
    "      len(max_payment_per_month.loc[max_payment_per_month.payment_date == 1]))"
   ]
  },
  {
   "cell_type": "code",
   "execution_count": 65,
   "metadata": {},
   "outputs": [],
   "source": [
    "# create a list of names of those assumed to have 'payment_date' in YDM date format and need to be transformed to YMD format\n",
    "names_to_change = list(max_payment_per_month.loc[max_payment_per_month.payment_date > 1].index.values) "
   ]
  },
  {
   "cell_type": "code",
   "execution_count": 66,
   "metadata": {},
   "outputs": [],
   "source": [
    "# in the new column payment_date_clean we change the payment date for tenants with more than one payment per month \n",
    "# and day of payment smaller or equal to 12\n",
    "rental_data_clean['payment_date_clean'] = \\\n",
    "    rental_data_clean.loc[(rental_data_clean['name'].isin(names_to_change)) & (rental_data_clean['payment_date'].dt.day <=12)]\\\n",
    "    ['payment_date'].apply(lambda x: pd.to_datetime(x.strftime('%Y-%d-%m')))\n",
    "\n",
    "# we change the payment date for tenants with day of payment smaller or equal to 12\n",
    "# rental_data_clean['payment_date_clean'] = \\\n",
    "# rental_data_clean.loc[rental_data_clean['payment_date'].dt.day <=12 ]['payment_date'].\\\n",
    "# apply(lambda x: pd.to_datetime(x.strftime('%Y-%d-%m')))\n",
    "\n",
    "# for all other tenants we keep the original dates in the dataset from the payment_date column\n",
    "rental_data_clean.payment_date_clean.fillna(rental_data_clean.payment_date, inplace=True)"
   ]
  },
  {
   "cell_type": "code",
   "execution_count": 67,
   "metadata": {},
   "outputs": [
    {
     "data": {
      "text/plain": [
       "'Abe Prophet'"
      ]
     },
     "execution_count": 67,
     "metadata": {},
     "output_type": "execute_result"
    },
    {
     "data": {
      "text/html": [
       "<div>\n",
       "<style scoped>\n",
       "    .dataframe tbody tr th:only-of-type {\n",
       "        vertical-align: middle;\n",
       "    }\n",
       "\n",
       "    .dataframe tbody tr th {\n",
       "        vertical-align: top;\n",
       "    }\n",
       "\n",
       "    .dataframe thead th {\n",
       "        text-align: right;\n",
       "    }\n",
       "</style>\n",
       "<table border=\"1\" class=\"dataframe\">\n",
       "  <thead>\n",
       "    <tr style=\"text-align: right;\">\n",
       "      <th></th>\n",
       "      <th>payment_date</th>\n",
       "    </tr>\n",
       "  </thead>\n",
       "  <tbody>\n",
       "    <tr>\n",
       "      <th>296</th>\n",
       "      <td>2010-01-02</td>\n",
       "    </tr>\n",
       "    <tr>\n",
       "      <th>1755</th>\n",
       "      <td>2010-01-03</td>\n",
       "    </tr>\n",
       "    <tr>\n",
       "      <th>3032</th>\n",
       "      <td>2010-01-04</td>\n",
       "    </tr>\n",
       "    <tr>\n",
       "      <th>4041</th>\n",
       "      <td>2010-01-05</td>\n",
       "    </tr>\n",
       "    <tr>\n",
       "      <th>4400</th>\n",
       "      <td>2010-01-06</td>\n",
       "    </tr>\n",
       "  </tbody>\n",
       "</table>\n",
       "</div>"
      ],
      "text/plain": [
       "     payment_date\n",
       "296    2010-01-02\n",
       "1755   2010-01-03\n",
       "3032   2010-01-04\n",
       "4041   2010-01-05\n",
       "4400   2010-01-06"
      ]
     },
     "execution_count": 67,
     "metadata": {},
     "output_type": "execute_result"
    },
    {
     "data": {
      "text/html": [
       "<div>\n",
       "<style scoped>\n",
       "    .dataframe tbody tr th:only-of-type {\n",
       "        vertical-align: middle;\n",
       "    }\n",
       "\n",
       "    .dataframe tbody tr th {\n",
       "        vertical-align: top;\n",
       "    }\n",
       "\n",
       "    .dataframe thead th {\n",
       "        text-align: right;\n",
       "    }\n",
       "</style>\n",
       "<table border=\"1\" class=\"dataframe\">\n",
       "  <thead>\n",
       "    <tr style=\"text-align: right;\">\n",
       "      <th></th>\n",
       "      <th>payment_date_clean</th>\n",
       "    </tr>\n",
       "  </thead>\n",
       "  <tbody>\n",
       "    <tr>\n",
       "      <th>296</th>\n",
       "      <td>2010-02-01</td>\n",
       "    </tr>\n",
       "    <tr>\n",
       "      <th>1755</th>\n",
       "      <td>2010-03-01</td>\n",
       "    </tr>\n",
       "    <tr>\n",
       "      <th>3032</th>\n",
       "      <td>2010-04-01</td>\n",
       "    </tr>\n",
       "    <tr>\n",
       "      <th>4041</th>\n",
       "      <td>2010-05-01</td>\n",
       "    </tr>\n",
       "    <tr>\n",
       "      <th>4400</th>\n",
       "      <td>2010-06-01</td>\n",
       "    </tr>\n",
       "  </tbody>\n",
       "</table>\n",
       "</div>"
      ],
      "text/plain": [
       "     payment_date_clean\n",
       "296          2010-02-01\n",
       "1755         2010-03-01\n",
       "3032         2010-04-01\n",
       "4041         2010-05-01\n",
       "4400         2010-06-01"
      ]
     },
     "execution_count": 67,
     "metadata": {},
     "output_type": "execute_result"
    }
   ],
   "source": [
    "# check example\n",
    "names_to_change[1]\n",
    "rental_data.loc[rental_data['name'].isin([names_to_change[1]])][['payment_date']].head()\n",
    "rental_data_clean.loc[rental_data_clean['name'].isin([names_to_change[1]])][['payment_date_clean']].\\\n",
    "    sort_values(by=['payment_date_clean']).head()"
   ]
  },
  {
   "cell_type": "code",
   "execution_count": 68,
   "metadata": {},
   "outputs": [
    {
     "data": {
      "text/html": [
       "<div>\n",
       "<style scoped>\n",
       "    .dataframe tbody tr th:only-of-type {\n",
       "        vertical-align: middle;\n",
       "    }\n",
       "\n",
       "    .dataframe tbody tr th {\n",
       "        vertical-align: top;\n",
       "    }\n",
       "\n",
       "    .dataframe thead th {\n",
       "        text-align: right;\n",
       "    }\n",
       "</style>\n",
       "<table border=\"1\" class=\"dataframe\">\n",
       "  <thead>\n",
       "    <tr style=\"text-align: right;\">\n",
       "      <th></th>\n",
       "      <th>payment_date</th>\n",
       "    </tr>\n",
       "  </thead>\n",
       "  <tbody>\n",
       "    <tr>\n",
       "      <th>1963</th>\n",
       "      <td>2010-01-03</td>\n",
       "    </tr>\n",
       "    <tr>\n",
       "      <th>12727</th>\n",
       "      <td>2010-02-06</td>\n",
       "    </tr>\n",
       "    <tr>\n",
       "      <th>12881</th>\n",
       "      <td>2010-02-07</td>\n",
       "    </tr>\n",
       "    <tr>\n",
       "      <th>13050</th>\n",
       "      <td>2010-02-09</td>\n",
       "    </tr>\n",
       "    <tr>\n",
       "      <th>14069</th>\n",
       "      <td>2010-03-10</td>\n",
       "    </tr>\n",
       "    <tr>\n",
       "      <th>14531</th>\n",
       "      <td>2010-04-04</td>\n",
       "    </tr>\n",
       "    <tr>\n",
       "      <th>15282</th>\n",
       "      <td>2010-05-05</td>\n",
       "    </tr>\n",
       "    <tr>\n",
       "      <th>16235</th>\n",
       "      <td>2010-06-12</td>\n",
       "    </tr>\n",
       "    <tr>\n",
       "      <th>18119</th>\n",
       "      <td>2010-10-02</td>\n",
       "    </tr>\n",
       "    <tr>\n",
       "      <th>18287</th>\n",
       "      <td>2010-10-08</td>\n",
       "    </tr>\n",
       "    <tr>\n",
       "      <th>18845</th>\n",
       "      <td>2010-11-14</td>\n",
       "    </tr>\n",
       "  </tbody>\n",
       "</table>\n",
       "</div>"
      ],
      "text/plain": [
       "      payment_date\n",
       "1963    2010-01-03\n",
       "12727   2010-02-06\n",
       "12881   2010-02-07\n",
       "13050   2010-02-09\n",
       "14069   2010-03-10\n",
       "14531   2010-04-04\n",
       "15282   2010-05-05\n",
       "16235   2010-06-12\n",
       "18119   2010-10-02\n",
       "18287   2010-10-08\n",
       "18845   2010-11-14"
      ]
     },
     "execution_count": 68,
     "metadata": {},
     "output_type": "execute_result"
    },
    {
     "data": {
      "text/html": [
       "<div>\n",
       "<style scoped>\n",
       "    .dataframe tbody tr th:only-of-type {\n",
       "        vertical-align: middle;\n",
       "    }\n",
       "\n",
       "    .dataframe tbody tr th {\n",
       "        vertical-align: top;\n",
       "    }\n",
       "\n",
       "    .dataframe thead th {\n",
       "        text-align: right;\n",
       "    }\n",
       "</style>\n",
       "<table border=\"1\" class=\"dataframe\">\n",
       "  <thead>\n",
       "    <tr style=\"text-align: right;\">\n",
       "      <th></th>\n",
       "      <th>payment_date_clean</th>\n",
       "    </tr>\n",
       "  </thead>\n",
       "  <tbody>\n",
       "    <tr>\n",
       "      <th>18119</th>\n",
       "      <td>2010-02-10</td>\n",
       "    </tr>\n",
       "    <tr>\n",
       "      <th>1963</th>\n",
       "      <td>2010-03-01</td>\n",
       "    </tr>\n",
       "    <tr>\n",
       "      <th>14531</th>\n",
       "      <td>2010-04-04</td>\n",
       "    </tr>\n",
       "    <tr>\n",
       "      <th>15282</th>\n",
       "      <td>2010-05-05</td>\n",
       "    </tr>\n",
       "    <tr>\n",
       "      <th>12727</th>\n",
       "      <td>2010-06-02</td>\n",
       "    </tr>\n",
       "    <tr>\n",
       "      <th>12881</th>\n",
       "      <td>2010-07-02</td>\n",
       "    </tr>\n",
       "    <tr>\n",
       "      <th>18287</th>\n",
       "      <td>2010-08-10</td>\n",
       "    </tr>\n",
       "    <tr>\n",
       "      <th>13050</th>\n",
       "      <td>2010-09-02</td>\n",
       "    </tr>\n",
       "    <tr>\n",
       "      <th>14069</th>\n",
       "      <td>2010-10-03</td>\n",
       "    </tr>\n",
       "    <tr>\n",
       "      <th>18845</th>\n",
       "      <td>2010-11-14</td>\n",
       "    </tr>\n",
       "    <tr>\n",
       "      <th>16235</th>\n",
       "      <td>2010-12-06</td>\n",
       "    </tr>\n",
       "  </tbody>\n",
       "</table>\n",
       "</div>"
      ],
      "text/plain": [
       "      payment_date_clean\n",
       "18119         2010-02-10\n",
       "1963          2010-03-01\n",
       "14531         2010-04-04\n",
       "15282         2010-05-05\n",
       "12727         2010-06-02\n",
       "12881         2010-07-02\n",
       "18287         2010-08-10\n",
       "13050         2010-09-02\n",
       "14069         2010-10-03\n",
       "18845         2010-11-14\n",
       "16235         2010-12-06"
      ]
     },
     "execution_count": 68,
     "metadata": {},
     "output_type": "execute_result"
    }
   ],
   "source": [
    "# check example of Abraham Maggi who has max_day 14\n",
    "rental_data_clean.loc[rental_data_clean['name']=='Abraham Maggi'][['payment_date']].head(11)\n",
    "rental_data_clean.loc[rental_data_clean['name']=='Abraham Maggi'][['payment_date_clean']].\\\n",
    "    sort_values(by=['payment_date_clean']).head(11)"
   ]
  },
  {
   "cell_type": "markdown",
   "metadata": {},
   "source": [
    "Looking above at the first five recorder rent payments for Abe Prophet we can see that the dates for 'payment_date' have been successully transformed to YMD format, and instead of showing 5 consecutive payments in January 2010, we are now showing 5 monthly payments on the first of each month, a much more reasonable result.  \n",
    "In the case of Abraham Maggi, all dates have been transformed apart from 14/11/2011 which has been kept as in the original 'payment_date' column."
   ]
  },
  {
   "cell_type": "markdown",
   "metadata": {},
   "source": [
    "Following the data cleansing in sections A.1 - A.3, the new cleaned dataset is saved to \"rental_data_clean.csv\" which will be used throughout the main body of the report."
   ]
  },
  {
   "cell_type": "code",
   "execution_count": 69,
   "metadata": {},
   "outputs": [],
   "source": [
    "export_csv = rental_data_clean.to_csv(placeholder + 'rental_data_clean.csv')"
   ]
  },
  {
   "cell_type": "markdown",
   "metadata": {},
   "source": [
    "__A.4 debt__"
   ]
  },
  {
   "cell_type": "code",
   "execution_count": 70,
   "metadata": {
    "scrolled": true
   },
   "outputs": [
    {
     "name": "stdout",
     "output_type": "stream",
     "text": [
      "max surplus: 9899.0\n",
      "max debt owed: -5865.300000000003\n",
      "debt median: 0.0\n",
      "\n",
      "\n",
      "Number of tenants with no debt: 1176\n",
      "Number of tenants with debt: 712\n",
      "Number of tenants with surplus: 582\n"
     ]
    },
    {
     "data": {
      "text/html": [
       "<div>\n",
       "<style scoped>\n",
       "    .dataframe tbody tr th:only-of-type {\n",
       "        vertical-align: middle;\n",
       "    }\n",
       "\n",
       "    .dataframe tbody tr th {\n",
       "        vertical-align: top;\n",
       "    }\n",
       "\n",
       "    .dataframe thead th {\n",
       "        text-align: right;\n",
       "    }\n",
       "</style>\n",
       "<table border=\"1\" class=\"dataframe\">\n",
       "  <thead>\n",
       "    <tr style=\"text-align: right;\">\n",
       "      <th></th>\n",
       "      <th></th>\n",
       "      <th>rent_amount</th>\n",
       "      <th>payment_amount</th>\n",
       "      <th>debt</th>\n",
       "    </tr>\n",
       "    <tr>\n",
       "      <th>name</th>\n",
       "      <th>house_id</th>\n",
       "      <th></th>\n",
       "      <th></th>\n",
       "      <th></th>\n",
       "    </tr>\n",
       "  </thead>\n",
       "  <tbody>\n",
       "    <tr>\n",
       "      <th>Aaron Huston</th>\n",
       "      <th>1</th>\n",
       "      <td>53320.0</td>\n",
       "      <td>53320.00</td>\n",
       "      <td>0.00</td>\n",
       "    </tr>\n",
       "    <tr>\n",
       "      <th>Abbey Kluth</th>\n",
       "      <th>2</th>\n",
       "      <td>50189.0</td>\n",
       "      <td>57210.00</td>\n",
       "      <td>7021.00</td>\n",
       "    </tr>\n",
       "    <tr>\n",
       "      <th>Abe Prophet</th>\n",
       "      <th>4</th>\n",
       "      <td>34290.0</td>\n",
       "      <td>34118.55</td>\n",
       "      <td>-171.45</td>\n",
       "    </tr>\n",
       "    <tr>\n",
       "      <th>Abel Emmett</th>\n",
       "      <th>3</th>\n",
       "      <td>55862.0</td>\n",
       "      <td>55862.00</td>\n",
       "      <td>0.00</td>\n",
       "    </tr>\n",
       "    <tr>\n",
       "      <th>Abraham Maggi</th>\n",
       "      <th>5</th>\n",
       "      <td>38070.0</td>\n",
       "      <td>39204.00</td>\n",
       "      <td>1134.00</td>\n",
       "    </tr>\n",
       "  </tbody>\n",
       "</table>\n",
       "</div>"
      ],
      "text/plain": [
       "                        rent_amount  payment_amount     debt\n",
       "name          house_id                                      \n",
       "Aaron Huston  1             53320.0        53320.00     0.00\n",
       "Abbey Kluth   2             50189.0        57210.00  7021.00\n",
       "Abe Prophet   4             34290.0        34118.55  -171.45\n",
       "Abel Emmett   3             55862.0        55862.00     0.00\n",
       "Abraham Maggi 5             38070.0        39204.00  1134.00"
      ]
     },
     "execution_count": 70,
     "metadata": {},
     "output_type": "execute_result"
    }
   ],
   "source": [
    "# The name of the columns 'debt' might be misleading. It is the difference between total rent due and total rent paid. \n",
    "# It is a debt only in the cases where the number is negative\n",
    "debt = rental_data_clean.groupby(['name', 'house_id']).sum()[['rent_amount','payment_amount']]\n",
    "debt['debt'] = debt['payment_amount'] - debt['rent_amount']\n",
    "print('max surplus:', debt.debt.max())\n",
    "print('max debt owed:', debt.debt.min())\n",
    "print('debt median:', debt.debt.median())\n",
    "print('\\n')\n",
    "print('Number of tenants with no debt:', len(debt[debt['debt']==0]))\n",
    "print('Number of tenants with debt:', len(debt[debt['debt']<0]))\n",
    "print('Number of tenants with surplus:', len(debt[debt['debt']>0]))\n",
    "debt.head()"
   ]
  },
  {
   "cell_type": "markdown",
   "metadata": {},
   "source": [
    "__Issues Identified:__  \n",
    "* There are 582 instances where the tenant appears to have paid more than the rent was due  \n",
    "  \n",
    "__Assumptions:__\n",
    "* There are a few reasons why this may be the case, and not an error. Firstly, the tenant might have to pay for damage in the property. Another occasion, which only applies for tenancies from the beginning of the dataset period, is that the tenant is trying to repay a debt which is not visible in the cutoff period contained in the dataset. As a general rule, and if we have no proof otherwise, we will assume that the tenant has no outstanding debt where the cumulative paid amount exceeds the cumulative rent amount due per tenant per property. "
   ]
  },
  {
   "cell_type": "markdown",
   "metadata": {},
   "source": [
    "__A.5 Demographic Statistics__"
   ]
  },
  {
   "cell_type": "markdown",
   "metadata": {},
   "source": [
    "Demographic data has been downloaded from two websites to enhance the accuracy of the model. \n",
    "\n",
    "\n",
    "\n",
    "Sources of these demographics are the State of California main website and the San diago county. \n"
   ]
  },
  {
   "cell_type": "code",
   "execution_count": 28,
   "metadata": {},
   "outputs": [
    {
     "data": {
      "text/html": [
       "<div>\n",
       "<style scoped>\n",
       "    .dataframe tbody tr th:only-of-type {\n",
       "        vertical-align: middle;\n",
       "    }\n",
       "\n",
       "    .dataframe tbody tr th {\n",
       "        vertical-align: top;\n",
       "    }\n",
       "\n",
       "    .dataframe thead th {\n",
       "        text-align: right;\n",
       "    }\n",
       "</style>\n",
       "<table border=\"1\" class=\"dataframe\">\n",
       "  <thead>\n",
       "    <tr style=\"text-align: right;\">\n",
       "      <th></th>\n",
       "      <th>Zip_code</th>\n",
       "      <th>Total population</th>\n",
       "      <th>Male</th>\n",
       "      <th>Female</th>\n",
       "      <th>Median age (years)</th>\n",
       "      <th>Male Median age (years)</th>\n",
       "      <th>Female Median age (years)</th>\n",
       "      <th>Average Household size</th>\n",
       "      <th>Average Family size</th>\n",
       "      <th>Persons Under 5 years</th>\n",
       "      <th>Persons Under 18 years</th>\n",
       "      <th>Persons Age 21+</th>\n",
       "      <th>Persons Age 55+</th>\n",
       "      <th>Persons Age 60+</th>\n",
       "      <th>Persons Age 65+</th>\n",
       "      <th>Percent Population Female</th>\n",
       "      <th>Percent Population Less than 18</th>\n",
       "      <th>Unnamed: 18</th>\n",
       "    </tr>\n",
       "    <tr>\n",
       "      <th>Geography</th>\n",
       "      <th></th>\n",
       "      <th></th>\n",
       "      <th></th>\n",
       "      <th></th>\n",
       "      <th></th>\n",
       "      <th></th>\n",
       "      <th></th>\n",
       "      <th></th>\n",
       "      <th></th>\n",
       "      <th></th>\n",
       "      <th></th>\n",
       "      <th></th>\n",
       "      <th></th>\n",
       "      <th></th>\n",
       "      <th></th>\n",
       "      <th></th>\n",
       "      <th></th>\n",
       "      <th></th>\n",
       "    </tr>\n",
       "  </thead>\n",
       "  <tbody>\n",
       "    <tr>\n",
       "      <th>California Total</th>\n",
       "      <td>NaN</td>\n",
       "      <td>37,253,956</td>\n",
       "      <td>18,517,830</td>\n",
       "      <td>18,736,126</td>\n",
       "      <td>35.2</td>\n",
       "      <td>34.0</td>\n",
       "      <td>36.3</td>\n",
       "      <td>2.90</td>\n",
       "      <td>3.45</td>\n",
       "      <td>2,531,333</td>\n",
       "      <td>9,295,040</td>\n",
       "      <td>26,228,272</td>\n",
       "      <td>8,283,007</td>\n",
       "      <td>6,078,711</td>\n",
       "      <td>4,246,514</td>\n",
       "      <td>50.3%</td>\n",
       "      <td>25.0%</td>\n",
       "      <td>NaN</td>\n",
       "    </tr>\n",
       "    <tr>\n",
       "      <th>ZCTA5 89010</th>\n",
       "      <td>89010.0</td>\n",
       "      <td>31</td>\n",
       "      <td>18</td>\n",
       "      <td>13</td>\n",
       "      <td>26.5</td>\n",
       "      <td>24.5</td>\n",
       "      <td>26.5</td>\n",
       "      <td>4.43</td>\n",
       "      <td>4.43</td>\n",
       "      <td>4</td>\n",
       "      <td>13</td>\n",
       "      <td>17</td>\n",
       "      <td>2</td>\n",
       "      <td>1</td>\n",
       "      <td>1</td>\n",
       "      <td>41.9%</td>\n",
       "      <td>41.9%</td>\n",
       "      <td>NaN</td>\n",
       "    </tr>\n",
       "    <tr>\n",
       "      <th>ZCTA5 89019</th>\n",
       "      <td>89019.0</td>\n",
       "      <td>69</td>\n",
       "      <td>39</td>\n",
       "      <td>30</td>\n",
       "      <td>38.3</td>\n",
       "      <td>38.5</td>\n",
       "      <td>38.0</td>\n",
       "      <td>2.88</td>\n",
       "      <td>3.93</td>\n",
       "      <td>8</td>\n",
       "      <td>18</td>\n",
       "      <td>49</td>\n",
       "      <td>17</td>\n",
       "      <td>11</td>\n",
       "      <td>6</td>\n",
       "      <td>43.5%</td>\n",
       "      <td>26.1%</td>\n",
       "      <td>NaN</td>\n",
       "    </tr>\n",
       "    <tr>\n",
       "      <th>ZCTA5 89060</th>\n",
       "      <td>89060.0</td>\n",
       "      <td>30</td>\n",
       "      <td>15</td>\n",
       "      <td>15</td>\n",
       "      <td>44.0</td>\n",
       "      <td>38.5</td>\n",
       "      <td>48.5</td>\n",
       "      <td>3.75</td>\n",
       "      <td>3.75</td>\n",
       "      <td>5</td>\n",
       "      <td>7</td>\n",
       "      <td>23</td>\n",
       "      <td>12</td>\n",
       "      <td>7</td>\n",
       "      <td>4</td>\n",
       "      <td>50.0%</td>\n",
       "      <td>23.3%</td>\n",
       "      <td>NaN</td>\n",
       "    </tr>\n",
       "    <tr>\n",
       "      <th>ZCTA5 89061</th>\n",
       "      <td>89061.0</td>\n",
       "      <td>51</td>\n",
       "      <td>23</td>\n",
       "      <td>28</td>\n",
       "      <td>47.5</td>\n",
       "      <td>40.5</td>\n",
       "      <td>50.0</td>\n",
       "      <td>2.43</td>\n",
       "      <td>2.92</td>\n",
       "      <td>2</td>\n",
       "      <td>13</td>\n",
       "      <td>38</td>\n",
       "      <td>19</td>\n",
       "      <td>16</td>\n",
       "      <td>13</td>\n",
       "      <td>54.9%</td>\n",
       "      <td>25.5%</td>\n",
       "      <td>NaN</td>\n",
       "    </tr>\n",
       "    <tr>\n",
       "      <th>ZCTA5 89439</th>\n",
       "      <td>89439.0</td>\n",
       "      <td>80</td>\n",
       "      <td>41</td>\n",
       "      <td>39</td>\n",
       "      <td>57.5</td>\n",
       "      <td>57.5</td>\n",
       "      <td>57.5</td>\n",
       "      <td>1.95</td>\n",
       "      <td>2.40</td>\n",
       "      <td>2</td>\n",
       "      <td>6</td>\n",
       "      <td>72</td>\n",
       "      <td>46</td>\n",
       "      <td>35</td>\n",
       "      <td>20</td>\n",
       "      <td>48.8%</td>\n",
       "      <td>7.5%</td>\n",
       "      <td>NaN</td>\n",
       "    </tr>\n",
       "    <tr>\n",
       "      <th>ZCTA5 90001</th>\n",
       "      <td>90001.0</td>\n",
       "      <td>57,110</td>\n",
       "      <td>28,468</td>\n",
       "      <td>28,642</td>\n",
       "      <td>26.6</td>\n",
       "      <td>26.1</td>\n",
       "      <td>27.1</td>\n",
       "      <td>4.40</td>\n",
       "      <td>4.53</td>\n",
       "      <td>5,733</td>\n",
       "      <td>19,979</td>\n",
       "      <td>33,962</td>\n",
       "      <td>6,970</td>\n",
       "      <td>4,797</td>\n",
       "      <td>3,179</td>\n",
       "      <td>50.2%</td>\n",
       "      <td>35.0%</td>\n",
       "      <td>NaN</td>\n",
       "    </tr>\n",
       "  </tbody>\n",
       "</table>\n",
       "</div>"
      ],
      "text/plain": [
       "                  Zip_code Total population        Male      Female  \\\n",
       "Geography                                                             \n",
       "California Total       NaN       37,253,956  18,517,830  18,736,126   \n",
       "ZCTA5 89010        89010.0               31          18          13   \n",
       "ZCTA5 89019        89019.0               69          39          30   \n",
       "ZCTA5 89060        89060.0               30          15          15   \n",
       "ZCTA5 89061        89061.0               51          23          28   \n",
       "ZCTA5 89439        89439.0               80          41          39   \n",
       "ZCTA5 90001        90001.0           57,110      28,468      28,642   \n",
       "\n",
       "                  Median age (years)  Male Median age (years)  \\\n",
       "Geography                                                       \n",
       "California Total                35.2                     34.0   \n",
       "ZCTA5 89010                     26.5                     24.5   \n",
       "ZCTA5 89019                     38.3                     38.5   \n",
       "ZCTA5 89060                     44.0                     38.5   \n",
       "ZCTA5 89061                     47.5                     40.5   \n",
       "ZCTA5 89439                     57.5                     57.5   \n",
       "ZCTA5 90001                     26.6                     26.1   \n",
       "\n",
       "                  Female Median age (years)  Average Household size  \\\n",
       "Geography                                                             \n",
       "California Total                       36.3                    2.90   \n",
       "ZCTA5 89010                            26.5                    4.43   \n",
       "ZCTA5 89019                            38.0                    2.88   \n",
       "ZCTA5 89060                            48.5                    3.75   \n",
       "ZCTA5 89061                            50.0                    2.43   \n",
       "ZCTA5 89439                            57.5                    1.95   \n",
       "ZCTA5 90001                            27.1                    4.40   \n",
       "\n",
       "                  Average Family size Persons Under 5 years  \\\n",
       "Geography                                                     \n",
       "California Total                 3.45             2,531,333   \n",
       "ZCTA5 89010                      4.43                     4   \n",
       "ZCTA5 89019                      3.93                     8   \n",
       "ZCTA5 89060                      3.75                     5   \n",
       "ZCTA5 89061                      2.92                     2   \n",
       "ZCTA5 89439                      2.40                     2   \n",
       "ZCTA5 90001                      4.53                 5,733   \n",
       "\n",
       "                 Persons Under 18 years Persons Age 21+ Persons Age 55+  \\\n",
       "Geography                                                                 \n",
       "California Total              9,295,040      26,228,272       8,283,007   \n",
       "ZCTA5 89010                          13              17               2   \n",
       "ZCTA5 89019                          18              49              17   \n",
       "ZCTA5 89060                           7              23              12   \n",
       "ZCTA5 89061                          13              38              19   \n",
       "ZCTA5 89439                           6              72              46   \n",
       "ZCTA5 90001                      19,979          33,962           6,970   \n",
       "\n",
       "                 Persons Age 60+ Persons Age 65+ Percent Population Female  \\\n",
       "Geography                                                                    \n",
       "California Total       6,078,711       4,246,514                     50.3%   \n",
       "ZCTA5 89010                    1               1                     41.9%   \n",
       "ZCTA5 89019                   11               6                     43.5%   \n",
       "ZCTA5 89060                    7               4                     50.0%   \n",
       "ZCTA5 89061                   16              13                     54.9%   \n",
       "ZCTA5 89439                   35              20                     48.8%   \n",
       "ZCTA5 90001                4,797           3,179                     50.2%   \n",
       "\n",
       "                 Percent Population Less than 18  Unnamed: 18  \n",
       "Geography                                                      \n",
       "California Total                           25.0%          NaN  \n",
       "ZCTA5 89010                                41.9%          NaN  \n",
       "ZCTA5 89019                                26.1%          NaN  \n",
       "ZCTA5 89060                                23.3%          NaN  \n",
       "ZCTA5 89061                                25.5%          NaN  \n",
       "ZCTA5 89439                                 7.5%          NaN  \n",
       "ZCTA5 90001                                35.0%          NaN  "
      ]
     },
     "execution_count": 28,
     "metadata": {},
     "output_type": "execute_result"
    }
   ],
   "source": [
    "placeholder = './'\n",
    "demographics1 = pd.read_csv(placeholder + 'demoforappendix.csv',index_col=0)\n",
    "demographics1.head(7)"
   ]
  },
  {
   "cell_type": "markdown",
   "metadata": {},
   "source": [
    "Dataset above displays the raw data set which reports the average family size used as additinal variable in the model."
   ]
  },
  {
   "cell_type": "code",
   "execution_count": 29,
   "metadata": {},
   "outputs": [
    {
     "data": {
      "text/html": [
       "<div>\n",
       "<style scoped>\n",
       "    .dataframe tbody tr th:only-of-type {\n",
       "        vertical-align: middle;\n",
       "    }\n",
       "\n",
       "    .dataframe tbody tr th {\n",
       "        vertical-align: top;\n",
       "    }\n",
       "\n",
       "    .dataframe thead th {\n",
       "        text-align: right;\n",
       "    }\n",
       "</style>\n",
       "<table border=\"1\" class=\"dataframe\">\n",
       "  <thead>\n",
       "    <tr style=\"text-align: right;\">\n",
       "      <th></th>\n",
       "      <th>Total population</th>\n",
       "      <th>White</th>\n",
       "      <th>Black or African American</th>\n",
       "      <th>American Indian and Alaska Native</th>\n",
       "      <th>Total Asian</th>\n",
       "      <th>Asian Indian</th>\n",
       "      <th>Chinese</th>\n",
       "      <th>Filipino</th>\n",
       "      <th>Japanese</th>\n",
       "      <th>Korean</th>\n",
       "      <th>Vietnamese</th>\n",
       "      <th>Other Asian</th>\n",
       "      <th>Total NHOPI</th>\n",
       "      <th>Native Hawaiian</th>\n",
       "      <th>Guamanian or Chamorro</th>\n",
       "      <th>Samoan</th>\n",
       "      <th>Other Pacific Islander</th>\n",
       "      <th>Some Other Race</th>\n",
       "      <th>Unnamed: 19</th>\n",
       "    </tr>\n",
       "    <tr>\n",
       "      <th>Geography</th>\n",
       "      <th></th>\n",
       "      <th></th>\n",
       "      <th></th>\n",
       "      <th></th>\n",
       "      <th></th>\n",
       "      <th></th>\n",
       "      <th></th>\n",
       "      <th></th>\n",
       "      <th></th>\n",
       "      <th></th>\n",
       "      <th></th>\n",
       "      <th></th>\n",
       "      <th></th>\n",
       "      <th></th>\n",
       "      <th></th>\n",
       "      <th></th>\n",
       "      <th></th>\n",
       "      <th></th>\n",
       "      <th></th>\n",
       "    </tr>\n",
       "  </thead>\n",
       "  <tbody>\n",
       "    <tr>\n",
       "      <th>California  zip codes</th>\n",
       "      <td>37,253,956</td>\n",
       "      <td>21,453,934</td>\n",
       "      <td>2,299,072</td>\n",
       "      <td>362,801</td>\n",
       "      <td>4,861,007</td>\n",
       "      <td>528,176</td>\n",
       "      <td>1,253,102</td>\n",
       "      <td>1,195,580</td>\n",
       "      <td>272,528</td>\n",
       "      <td>451,892</td>\n",
       "      <td>581,946</td>\n",
       "      <td>577,783</td>\n",
       "      <td>144,386</td>\n",
       "      <td>21,423</td>\n",
       "      <td>24,299</td>\n",
       "      <td>40,900</td>\n",
       "      <td>57,764</td>\n",
       "      <td>6,317,372</td>\n",
       "      <td>1,815,384</td>\n",
       "    </tr>\n",
       "    <tr>\n",
       "      <th>ZCTA5 90650</th>\n",
       "      <td>105,549</td>\n",
       "      <td>52,089</td>\n",
       "      <td>4,593</td>\n",
       "      <td>1,213</td>\n",
       "      <td>12,700</td>\n",
       "      <td>870</td>\n",
       "      <td>908</td>\n",
       "      <td>5,581</td>\n",
       "      <td>260</td>\n",
       "      <td>2,610</td>\n",
       "      <td>822</td>\n",
       "      <td>1,649</td>\n",
       "      <td>431</td>\n",
       "      <td>62</td>\n",
       "      <td>55</td>\n",
       "      <td>173</td>\n",
       "      <td>141</td>\n",
       "      <td>29,954</td>\n",
       "      <td>4,569</td>\n",
       "    </tr>\n",
       "    <tr>\n",
       "      <th>ZCTA5 90011</th>\n",
       "      <td>103,892</td>\n",
       "      <td>35,138</td>\n",
       "      <td>9,764</td>\n",
       "      <td>1,219</td>\n",
       "      <td>591</td>\n",
       "      <td>42</td>\n",
       "      <td>81</td>\n",
       "      <td>78</td>\n",
       "      <td>10</td>\n",
       "      <td>241</td>\n",
       "      <td>31</td>\n",
       "      <td>108</td>\n",
       "      <td>37</td>\n",
       "      <td>4</td>\n",
       "      <td>22</td>\n",
       "      <td>4</td>\n",
       "      <td>7</td>\n",
       "      <td>52,759</td>\n",
       "      <td>4,384</td>\n",
       "    </tr>\n",
       "    <tr>\n",
       "      <th>ZCTA5 91331</th>\n",
       "      <td>103,689</td>\n",
       "      <td>46,024</td>\n",
       "      <td>3,462</td>\n",
       "      <td>913</td>\n",
       "      <td>4,516</td>\n",
       "      <td>224</td>\n",
       "      <td>114</td>\n",
       "      <td>2,527</td>\n",
       "      <td>259</td>\n",
       "      <td>190</td>\n",
       "      <td>177</td>\n",
       "      <td>1,025</td>\n",
       "      <td>118</td>\n",
       "      <td>21</td>\n",
       "      <td>34</td>\n",
       "      <td>6</td>\n",
       "      <td>57</td>\n",
       "      <td>44,477</td>\n",
       "      <td>4,179</td>\n",
       "    </tr>\n",
       "    <tr>\n",
       "      <th>ZCTA5 90201</th>\n",
       "      <td>101,279</td>\n",
       "      <td>51,581</td>\n",
       "      <td>1,047</td>\n",
       "      <td>1,037</td>\n",
       "      <td>657</td>\n",
       "      <td>46</td>\n",
       "      <td>66</td>\n",
       "      <td>233</td>\n",
       "      <td>30</td>\n",
       "      <td>102</td>\n",
       "      <td>57</td>\n",
       "      <td>123</td>\n",
       "      <td>69</td>\n",
       "      <td>11</td>\n",
       "      <td>19</td>\n",
       "      <td>39</td>\n",
       "      <td>0</td>\n",
       "      <td>43,006</td>\n",
       "      <td>3,882</td>\n",
       "    </tr>\n",
       "    <tr>\n",
       "      <th>ZCTA5 92335</th>\n",
       "      <td>95,397</td>\n",
       "      <td>46,362</td>\n",
       "      <td>4,567</td>\n",
       "      <td>1,141</td>\n",
       "      <td>1,539</td>\n",
       "      <td>159</td>\n",
       "      <td>153</td>\n",
       "      <td>516</td>\n",
       "      <td>44</td>\n",
       "      <td>62</td>\n",
       "      <td>215</td>\n",
       "      <td>390</td>\n",
       "      <td>335</td>\n",
       "      <td>29</td>\n",
       "      <td>24</td>\n",
       "      <td>131</td>\n",
       "      <td>151</td>\n",
       "      <td>37,156</td>\n",
       "      <td>4,297</td>\n",
       "    </tr>\n",
       "    <tr>\n",
       "      <th>ZCTA5 90280</th>\n",
       "      <td>94,396</td>\n",
       "      <td>47,645</td>\n",
       "      <td>890</td>\n",
       "      <td>878</td>\n",
       "      <td>732</td>\n",
       "      <td>95</td>\n",
       "      <td>50</td>\n",
       "      <td>223</td>\n",
       "      <td>39</td>\n",
       "      <td>176</td>\n",
       "      <td>11</td>\n",
       "      <td>138</td>\n",
       "      <td>99</td>\n",
       "      <td>21</td>\n",
       "      <td>15</td>\n",
       "      <td>44</td>\n",
       "      <td>19</td>\n",
       "      <td>40,624</td>\n",
       "      <td>3,528</td>\n",
       "    </tr>\n",
       "  </tbody>\n",
       "</table>\n",
       "</div>"
      ],
      "text/plain": [
       "                      Total population       White Black or African American  \\\n",
       "  Geography                                                                    \n",
       "California  zip codes       37,253,956  21,453,934                 2,299,072   \n",
       "ZCTA5 90650                    105,549      52,089                     4,593   \n",
       "ZCTA5 90011                    103,892      35,138                     9,764   \n",
       "ZCTA5 91331                    103,689      46,024                     3,462   \n",
       "ZCTA5 90201                    101,279      51,581                     1,047   \n",
       "ZCTA5 92335                     95,397      46,362                     4,567   \n",
       "ZCTA5 90280                     94,396      47,645                       890   \n",
       "\n",
       "                      American Indian and Alaska Native Total Asian  \\\n",
       "  Geography                                                           \n",
       "California  zip codes                           362,801   4,861,007   \n",
       "ZCTA5 90650                                       1,213      12,700   \n",
       "ZCTA5 90011                                       1,219         591   \n",
       "ZCTA5 91331                                         913       4,516   \n",
       "ZCTA5 90201                                       1,037         657   \n",
       "ZCTA5 92335                                       1,141       1,539   \n",
       "ZCTA5 90280                                         878         732   \n",
       "\n",
       "                      Asian Indian    Chinese   Filipino Japanese   Korean  \\\n",
       "  Geography                                                                  \n",
       "California  zip codes      528,176  1,253,102  1,195,580  272,528  451,892   \n",
       "ZCTA5 90650                    870        908      5,581      260    2,610   \n",
       "ZCTA5 90011                     42         81         78       10      241   \n",
       "ZCTA5 91331                    224        114      2,527      259      190   \n",
       "ZCTA5 90201                     46         66        233       30      102   \n",
       "ZCTA5 92335                    159        153        516       44       62   \n",
       "ZCTA5 90280                     95         50        223       39      176   \n",
       "\n",
       "                      Vietnamese Other Asian Total NHOPI Native Hawaiian  \\\n",
       "  Geography                                                                \n",
       "California  zip codes    581,946     577,783     144,386          21,423   \n",
       "ZCTA5 90650                  822       1,649         431              62   \n",
       "ZCTA5 90011                   31         108          37               4   \n",
       "ZCTA5 91331                  177       1,025         118              21   \n",
       "ZCTA5 90201                   57         123          69              11   \n",
       "ZCTA5 92335                  215         390         335              29   \n",
       "ZCTA5 90280                   11         138          99              21   \n",
       "\n",
       "                      Guamanian or Chamorro  Samoan Other Pacific Islander  \\\n",
       "  Geography                                                                  \n",
       "California  zip codes                24,299  40,900                 57,764   \n",
       "ZCTA5 90650                              55     173                    141   \n",
       "ZCTA5 90011                              22       4                      7   \n",
       "ZCTA5 91331                              34       6                     57   \n",
       "ZCTA5 90201                              19      39                      0   \n",
       "ZCTA5 92335                              24     131                    151   \n",
       "ZCTA5 90280                              15      44                     19   \n",
       "\n",
       "                      Some Other Race Unnamed: 19  \n",
       "  Geography                                        \n",
       "California  zip codes       6,317,372   1,815,384  \n",
       "ZCTA5 90650                    29,954       4,569  \n",
       "ZCTA5 90011                    52,759       4,384  \n",
       "ZCTA5 91331                    44,477       4,179  \n",
       "ZCTA5 90201                    43,006       3,882  \n",
       "ZCTA5 92335                    37,156       4,297  \n",
       "ZCTA5 90280                    40,624       3,528  "
      ]
     },
     "execution_count": 29,
     "metadata": {},
     "output_type": "execute_result"
    }
   ],
   "source": [
    "placeholder = './'\n",
    "demographics2 = pd.read_csv(placeholder + 'demographics_race.csv',index_col=0)\n",
    "demographics2.head(7)"
   ]
  },
  {
   "cell_type": "markdown",
   "metadata": {},
   "source": [
    "Dataset above displays the raw data set which reports population races in the area of San Diego per zip code area.\n",
    "\n",
    "Calculations and some exclusions on the data have been performed to bring the data in the right format. \n",
    "\n",
    "In the race breakdown dataset, people with mixed race have been excluded from the analysis.\n",
    "This exclusion on average do not exceed the 4.63% of the population per each area but still constitutes a limitation in the analysis.\n",
    "\n",
    "The Percentage of white used in analysis is calculated as the number of white people $/$ Total population"
   ]
  },
  {
   "cell_type": "code",
   "execution_count": 30,
   "metadata": {},
   "outputs": [
    {
     "data": {
      "text/html": [
       "<div>\n",
       "<style scoped>\n",
       "    .dataframe tbody tr th:only-of-type {\n",
       "        vertical-align: middle;\n",
       "    }\n",
       "\n",
       "    .dataframe tbody tr th {\n",
       "        vertical-align: top;\n",
       "    }\n",
       "\n",
       "    .dataframe thead th {\n",
       "        text-align: right;\n",
       "    }\n",
       "</style>\n",
       "<table border=\"1\" class=\"dataframe\">\n",
       "  <thead>\n",
       "    <tr style=\"text-align: right;\">\n",
       "      <th></th>\n",
       "      <th>Family households with income below poverty level</th>\n",
       "    </tr>\n",
       "    <tr>\n",
       "      <th>Geography</th>\n",
       "      <th></th>\n",
       "    </tr>\n",
       "  </thead>\n",
       "  <tbody>\n",
       "    <tr>\n",
       "      <th>Central Region</th>\n",
       "      <td>18%</td>\n",
       "    </tr>\n",
       "    <tr>\n",
       "      <th>Central San Diego</th>\n",
       "      <td>14%</td>\n",
       "    </tr>\n",
       "    <tr>\n",
       "      <th>Mid-City</th>\n",
       "      <td>20%</td>\n",
       "    </tr>\n",
       "    <tr>\n",
       "      <th>Southeastern San Diego</th>\n",
       "      <td>18%</td>\n",
       "    </tr>\n",
       "    <tr>\n",
       "      <th>East Region</th>\n",
       "      <td>11%</td>\n",
       "    </tr>\n",
       "    <tr>\n",
       "      <th>Alpine</th>\n",
       "      <td>6%</td>\n",
       "    </tr>\n",
       "    <tr>\n",
       "      <th>El Cajon</th>\n",
       "      <td>18%</td>\n",
       "    </tr>\n",
       "  </tbody>\n",
       "</table>\n",
       "</div>"
      ],
      "text/plain": [
       "                       Family households with income below poverty level\n",
       "Geography                                                               \n",
       "Central Region                                                       18%\n",
       "Central San Diego                                                    14%\n",
       "Mid-City                                                             20%\n",
       "Southeastern San Diego                                               18%\n",
       "East Region                                                          11%\n",
       "Alpine                                                                6%\n",
       "El Cajon                                                             18%"
      ]
     },
     "execution_count": 30,
     "metadata": {},
     "output_type": "execute_result"
    }
   ],
   "source": [
    "placeholder = './'\n",
    "demographics3 = pd.read_csv(placeholder + 'demographics_families_in_Poverty.csv',index_col=0)\n",
    "demographics3.head(7)"
   ]
  },
  {
   "cell_type": "markdown",
   "metadata": {},
   "source": [
    "Familiy households with income below poverty level reflects the percentage of total polulation (%) with income level below the federal poverty level (FPL). The FRL is a measure of income in the USA that reflects if the income level is below a alimit and whether this individual or family qualifies them for certain benefits. \n",
    "\n",
    "* The limitation of this dataset is that many areas in San Diego were merged and some other areas were not covered.\n",
    "\n",
    "* For the zip codes that were not covered in the dataset we used the median as a proxy for the rest of them. "
   ]
  },
  {
   "cell_type": "markdown",
   "metadata": {},
   "source": [
    "__A.6 References__"
   ]
  },
  {
   "cell_type": "markdown",
   "metadata": {},
   "source": [
    "1) Table 1 — Total population, median age, sex, age, household and family size, 2010, State of California, Department of Finance, viewed 11 July <http://www.dof.ca.gov/Reports/Demographic_Reports/Census_2010/>\n",
    "\n",
    "\n",
    "2) Table 3c — Population by Race (Hispanic Origin exclusive) and Hispanic Origin, 2010, State of California, Department of Finance, viewed 11 July <http://www.dof.ca.gov/Reports/Demographic_Reports/Census_2010/>\n",
    "\n",
    "\n",
    "3) 2016 San Diego County Demographics - Families in Poverty, 2016, San Diego County, viewed 11 July \n",
    "<https://data.sandiegocounty.gov/Demographics/2016-San-Diego-County-Demographics-Families-in-Pov/ayc4-bmye>"
   ]
  }
 ],
 "metadata": {
  "kernelspec": {
   "display_name": "Python 3",
   "language": "python",
   "name": "python3"
  },
  "language_info": {
   "codemirror_mode": {
    "name": "ipython",
    "version": 3
   },
   "file_extension": ".py",
   "mimetype": "text/x-python",
   "name": "python",
   "nbconvert_exporter": "python",
   "pygments_lexer": "ipython3",
   "version": "3.7.3"
  },
  "varInspector": {
   "cols": {
    "lenName": 16,
    "lenType": 16,
    "lenVar": 40
   },
   "kernels_config": {
    "python": {
     "delete_cmd_postfix": "",
     "delete_cmd_prefix": "del ",
     "library": "var_list.py",
     "varRefreshCmd": "print(var_dic_list())"
    },
    "r": {
     "delete_cmd_postfix": ") ",
     "delete_cmd_prefix": "rm(",
     "library": "var_list.r",
     "varRefreshCmd": "cat(var_dic_list()) "
    }
   },
   "types_to_exclude": [
    "module",
    "function",
    "builtin_function_or_method",
    "instance",
    "_Feature"
   ],
   "window_display": false
  }
 },
 "nbformat": 4,
 "nbformat_minor": 2
}
